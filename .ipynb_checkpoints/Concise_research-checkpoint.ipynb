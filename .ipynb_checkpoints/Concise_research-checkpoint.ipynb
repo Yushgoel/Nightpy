{
 "cells": [
  {
   "cell_type": "code",
   "execution_count": 1,
   "metadata": {
    "code_folding": []
   },
   "outputs": [
    {
     "data": {
      "text/html": [
       "        <script type=\"text/javascript\">\n",
       "        window.PlotlyConfig = {MathJaxConfig: 'local'};\n",
       "        if (window.MathJax) {MathJax.Hub.Config({SVG: {font: \"STIX-Web\"}});}\n",
       "        if (typeof require !== 'undefined') {\n",
       "        require.undef(\"plotly\");\n",
       "        requirejs.config({\n",
       "            paths: {\n",
       "                'plotly': ['https://cdn.plot.ly/plotly-latest.min']\n",
       "            }\n",
       "        });\n",
       "        require(['plotly'], function(Plotly) {\n",
       "            window._Plotly = Plotly;\n",
       "        });\n",
       "        }\n",
       "        </script>\n",
       "        "
      ]
     },
     "metadata": {},
     "output_type": "display_data"
    }
   ],
   "source": [
    "from night_light_utils import *\n",
    "from plotly.offline import init_notebook_mode, iplot, plot\n",
    "import plotly as py\n",
    "init_notebook_mode(connected=True)\n",
    "import plotly.graph_objs as go\n",
    "import pandas as pd\n",
    "\n",
    "lat_longs = {\n",
    "    'blr_lat' : (13.1436111, 12.83388),\n",
    "    'blr_long' : (77.46, 77.78388889)\n",
    "#    'mysore_lat' : (),\n",
    "#    'mysore_long'\n",
    "}\n",
    "\n",
    "tiles_cords = {\n",
    "    'h25v07' : (20, 70)\n",
    "}\n",
    "\n",
    "months = ['oct', 'nov', 'dec', 'jan', 'feb', 'mar', 'apr', 'may']"
   ]
  },
  {
   "cell_type": "code",
   "execution_count": 595,
   "metadata": {},
   "outputs": [
    {
     "ename": "TypeError",
     "evalue": "string indices must be integers",
     "output_type": "error",
     "traceback": [
      "\u001b[0;31m---------------------------------------------------------------------------\u001b[0m",
      "\u001b[0;31mTypeError\u001b[0m                                 Traceback (most recent call last)",
      "\u001b[0;32m<ipython-input-595-93a75b56ddda>\u001b[0m in \u001b[0;36m<module>\u001b[0;34m\u001b[0m\n\u001b[0;32m----> 1\u001b[0;31m \u001b[0mextract_lat_long\u001b[0m\u001b[0;34m(\u001b[0m\u001b[0;34m-\u001b[0m\u001b[0;36m21\u001b[0m\u001b[0;34m,\u001b[0m \u001b[0;36m10\u001b[0m\u001b[0;34m,\u001b[0m \u001b[0;34m-\u001b[0m\u001b[0;36m22\u001b[0m\u001b[0;34m,\u001b[0m \u001b[0;36m11\u001b[0m\u001b[0;34m,\u001b[0m \u001b[0;34m'h13v11'\u001b[0m\u001b[0;34m,\u001b[0m \u001b[0;34m-\u001b[0m\u001b[0;36m20\u001b[0m\u001b[0;34m,\u001b[0m \u001b[0;34m-\u001b[0m\u001b[0;36m50\u001b[0m\u001b[0;34m,\u001b[0m \u001b[0;34m's'\u001b[0m\u001b[0;34m)\u001b[0m\u001b[0;34m\u001b[0m\u001b[0;34m\u001b[0m\u001b[0m\n\u001b[0m",
      "\u001b[0;32m<ipython-input-594-654284c8cbc5>\u001b[0m in \u001b[0;36mextract_lat_long\u001b[0;34m(lat_ul, long_ul, lat_br, long_br, tile, start_lat, start_long, hemisphere)\u001b[0m\n\u001b[1;32m     21\u001b[0m     \u001b[0;32mfor\u001b[0m \u001b[0mx\u001b[0m \u001b[0;32min\u001b[0m \u001b[0mrange\u001b[0m\u001b[0;34m(\u001b[0m\u001b[0mlong_ul\u001b[0m\u001b[0;34m,\u001b[0m \u001b[0mlong_br\u001b[0m\u001b[0;34m)\u001b[0m\u001b[0;34m:\u001b[0m\u001b[0;34m\u001b[0m\u001b[0;34m\u001b[0m\u001b[0m\n\u001b[1;32m     22\u001b[0m         \u001b[0;32mfor\u001b[0m \u001b[0my\u001b[0m \u001b[0;32min\u001b[0m \u001b[0mrange\u001b[0m\u001b[0;34m(\u001b[0m\u001b[0mlat_ul\u001b[0m\u001b[0;34m,\u001b[0m \u001b[0mlat_br\u001b[0m\u001b[0;34m)\u001b[0m\u001b[0;34m:\u001b[0m\u001b[0;34m\u001b[0m\u001b[0;34m\u001b[0m\u001b[0m\n\u001b[0;32m---> 23\u001b[0;31m             \u001b[0mextract\u001b[0m\u001b[0;34m[\u001b[0m\u001b[0my\u001b[0m \u001b[0;34m-\u001b[0m \u001b[0mlat_ul\u001b[0m\u001b[0;34m,\u001b[0m \u001b[0mx\u001b[0m \u001b[0;34m-\u001b[0m \u001b[0mlong_ul\u001b[0m\u001b[0;34m]\u001b[0m \u001b[0;34m=\u001b[0m \u001b[0mtile\u001b[0m\u001b[0;34m[\u001b[0m\u001b[0my\u001b[0m\u001b[0;34m,\u001b[0m \u001b[0mx\u001b[0m\u001b[0;34m]\u001b[0m\u001b[0;34m\u001b[0m\u001b[0;34m\u001b[0m\u001b[0m\n\u001b[0m\u001b[1;32m     24\u001b[0m \u001b[0;34m\u001b[0m\u001b[0m\n\u001b[1;32m     25\u001b[0m     \u001b[0;32mreturn\u001b[0m \u001b[0mextract\u001b[0m\u001b[0;34m\u001b[0m\u001b[0;34m\u001b[0m\u001b[0m\n",
      "\u001b[0;31mTypeError\u001b[0m: string indices must be integers"
     ]
    }
   ],
   "source": [
    "extract_lat_long(-21, 10, -22, 11, 'h13v11', -20, -50, 's')"
   ]
  },
  {
   "cell_type": "code",
   "execution_count": 596,
   "metadata": {},
   "outputs": [
    {
     "ename": "TypeError",
     "evalue": "string indices must be integers",
     "output_type": "error",
     "traceback": [
      "\u001b[0;31m---------------------------------------------------------------------------\u001b[0m",
      "\u001b[0;31mTypeError\u001b[0m                                 Traceback (most recent call last)",
      "\u001b[0;32m<ipython-input-596-65353a1c9a84>\u001b[0m in \u001b[0;36m<module>\u001b[0;34m\u001b[0m\n\u001b[0;32m----> 1\u001b[0;31m \u001b[0mextract_lat_long\u001b[0m\u001b[0;34m(\u001b[0m\u001b[0;36m19\u001b[0m\u001b[0;34m,\u001b[0m \u001b[0;36m10\u001b[0m\u001b[0;34m,\u001b[0m \u001b[0;36m18\u001b[0m\u001b[0;34m,\u001b[0m \u001b[0;36m11\u001b[0m\u001b[0;34m,\u001b[0m \u001b[0;34m'h13v11'\u001b[0m\u001b[0;34m,\u001b[0m \u001b[0;36m20\u001b[0m\u001b[0;34m,\u001b[0m \u001b[0;36m9\u001b[0m\u001b[0;34m,\u001b[0m \u001b[0;34m'n'\u001b[0m\u001b[0;34m)\u001b[0m\u001b[0;34m\u001b[0m\u001b[0;34m\u001b[0m\u001b[0m\n\u001b[0m",
      "\u001b[0;32m<ipython-input-594-654284c8cbc5>\u001b[0m in \u001b[0;36mextract_lat_long\u001b[0;34m(lat_ul, long_ul, lat_br, long_br, tile, start_lat, start_long, hemisphere)\u001b[0m\n\u001b[1;32m     21\u001b[0m     \u001b[0;32mfor\u001b[0m \u001b[0mx\u001b[0m \u001b[0;32min\u001b[0m \u001b[0mrange\u001b[0m\u001b[0;34m(\u001b[0m\u001b[0mlong_ul\u001b[0m\u001b[0;34m,\u001b[0m \u001b[0mlong_br\u001b[0m\u001b[0;34m)\u001b[0m\u001b[0;34m:\u001b[0m\u001b[0;34m\u001b[0m\u001b[0;34m\u001b[0m\u001b[0m\n\u001b[1;32m     22\u001b[0m         \u001b[0;32mfor\u001b[0m \u001b[0my\u001b[0m \u001b[0;32min\u001b[0m \u001b[0mrange\u001b[0m\u001b[0;34m(\u001b[0m\u001b[0mlat_ul\u001b[0m\u001b[0;34m,\u001b[0m \u001b[0mlat_br\u001b[0m\u001b[0;34m)\u001b[0m\u001b[0;34m:\u001b[0m\u001b[0;34m\u001b[0m\u001b[0;34m\u001b[0m\u001b[0m\n\u001b[0;32m---> 23\u001b[0;31m             \u001b[0mextract\u001b[0m\u001b[0;34m[\u001b[0m\u001b[0my\u001b[0m \u001b[0;34m-\u001b[0m \u001b[0mlat_ul\u001b[0m\u001b[0;34m,\u001b[0m \u001b[0mx\u001b[0m \u001b[0;34m-\u001b[0m \u001b[0mlong_ul\u001b[0m\u001b[0;34m]\u001b[0m \u001b[0;34m=\u001b[0m \u001b[0mtile\u001b[0m\u001b[0;34m[\u001b[0m\u001b[0my\u001b[0m\u001b[0;34m,\u001b[0m \u001b[0mx\u001b[0m\u001b[0;34m]\u001b[0m\u001b[0;34m\u001b[0m\u001b[0;34m\u001b[0m\u001b[0m\n\u001b[0m\u001b[1;32m     24\u001b[0m \u001b[0;34m\u001b[0m\u001b[0m\n\u001b[1;32m     25\u001b[0m     \u001b[0;32mreturn\u001b[0m \u001b[0mextract\u001b[0m\u001b[0;34m\u001b[0m\u001b[0;34m\u001b[0m\u001b[0m\n",
      "\u001b[0;31mTypeError\u001b[0m: string indices must be integers"
     ]
    }
   ],
   "source": [
    "extract_lat_long(19, 10, 18, 11, 'h13v11', 20, 9, 'n')"
   ]
  },
  {
   "cell_type": "code",
   "execution_count": null,
   "metadata": {
    "code_folding": [
     0,
     26
    ]
   },
   "outputs": [],
   "source": [
    "def extract_lat_long(lat_ul, long_ul, lat_br, long_br, tile, start_lat, start_long, hemisphere = 'n'):\n",
    "    \n",
    "    pixel = 10 / 2400\n",
    "    \n",
    "    lat_ul = int(np.floor((lat_ul - start_lat) / pixel))\n",
    "    lat_br = int(np.ceil((lat_br - start_lat) / pixel))\n",
    "#    if hemisphere.lower() == 'n':\n",
    "    lat_ul = -lat_ul\n",
    "    lat_br = -lat_br\n",
    "    \n",
    "#    print(lat_br, lat_ul)\n",
    "    if (lat_br - lat_ul) < 0 or (long_br - long_ul) < 0:\n",
    "        raise Exception(\"Error: Choose the Correct Hemisphere\")\n",
    "    \n",
    "    \n",
    "    long_ul = int(np.floor((long_ul - start_long) / pixel))\n",
    "    long_br = int(np.ceil((long_br - start_long) / pixel))\n",
    "    \n",
    "    extract = np.zeros((lat_br - lat_ul, long_br - long_ul))\n",
    "    \n",
    "    for x in range(long_ul, long_br):\n",
    "        for y in range(lat_ul, lat_br):\n",
    "            extract[y - lat_ul, x - long_ul] = tile[y, x]\n",
    "\n",
    "    return extract\n",
    "\n",
    "def clean_noise(tile, threshold=30):\n",
    "    return np.multiply(tile, tile>threshold)\n",
    "\n",
    "def return_category(tile, category):\n",
    "    if category.lower() == 'commercial':\n",
    "        return np.multiply(tile, tile>=500)\n",
    "    elif category.lower() == 'administrative':\n",
    "        return np.multiply(tile, (tile>=190) & (tile<500))\n",
    "    elif category.lower() == 'residential':\n",
    "        return np.multiply(tile, (tile>=30) & (tile<190))\n",
    "    else:\n",
    "        raise Exception(\"No category Entered\")\n"
   ]
  },
  {
   "cell_type": "code",
   "execution_count": 3,
   "metadata": {},
   "outputs": [],
   "source": [
    "weeks_to_use = [(2019, 25, 31, 10), (2019, 23, 29, 11), (2019, 23, 29, 12), (2020, 21, 27, 1), (2020, 20, 26, 2), (2020, 21, 27, 3), (2020, 20, 26, 4), (2020, 19, 25, 5)]\n",
    "\n",
    "for i in range(len(months)):\n",
    "    year, ds, de, mon = weeks_to_use[i]\n",
    "    command = months[i] + \"_h25 = week_loc_mean('h25v07', \" + str(year) + ',' + str(ds) + ',' + str(de) + ',' + str(mon) + str(')')\n",
    "    exec(command)\n"
   ]
  },
  {
   "cell_type": "code",
   "execution_count": 117,
   "metadata": {},
   "outputs": [],
   "source": []
  },
  {
   "cell_type": "code",
   "execution_count": 80,
   "metadata": {},
   "outputs": [
    {
     "ename": "UFuncTypeError",
     "evalue": "ufunc 'add' did not contain a loop with signature matching types (dtype('<U166'), dtype('<U166')) -> dtype('<U166')",
     "output_type": "error",
     "traceback": [
      "\u001b[0;31m---------------------------------------------------------------------------\u001b[0m",
      "\u001b[0;31mUFuncTypeError\u001b[0m                            Traceback (most recent call last)",
      "\u001b[0;32m<ipython-input-80-a73627f99c46>\u001b[0m in \u001b[0;36m<module>\u001b[0;34m\u001b[0m\n\u001b[1;32m      8\u001b[0m \u001b[0;32mfor\u001b[0m \u001b[0mmon\u001b[0m \u001b[0;32min\u001b[0m \u001b[0mmonths\u001b[0m\u001b[0;34m:\u001b[0m\u001b[0;34m\u001b[0m\u001b[0;34m\u001b[0m\u001b[0m\n\u001b[1;32m      9\u001b[0m     \u001b[0mcommand\u001b[0m \u001b[0;34m=\u001b[0m \u001b[0mcity\u001b[0m \u001b[0;34m+\u001b[0m \u001b[0;34m\"_\"\u001b[0m \u001b[0;34m+\u001b[0m \u001b[0mmon\u001b[0m \u001b[0;34m+\u001b[0m \u001b[0;34m\" = extract_lat_long(lat_longs['\"\u001b[0m \u001b[0;34m+\u001b[0m \u001b[0mcity\u001b[0m \u001b[0;34m+\u001b[0m \u001b[0;34m\"_lat'][0], lat_longs['\"\u001b[0m \u001b[0;34m+\u001b[0m \u001b[0mcity\u001b[0m \u001b[0;34m+\u001b[0m \u001b[0;34m\"_long'][0], lat_longs['\"\u001b[0m \u001b[0;34m+\u001b[0m \u001b[0mcity\u001b[0m \u001b[0;34m+\u001b[0m \u001b[0;34m\"_lat'][1], lat_longs['\"\u001b[0m \u001b[0;34m+\u001b[0m \u001b[0mcity\u001b[0m \u001b[0;34m+\u001b[0m \u001b[0;34m\"_long'][1]\"\u001b[0m\u001b[0;34m\u001b[0m\u001b[0;34m\u001b[0m\u001b[0m\n\u001b[0;32m---> 10\u001b[0;31m     \u001b[0mcommand\u001b[0m \u001b[0;34m=\u001b[0m \u001b[0mcommand\u001b[0m \u001b[0;34m+\u001b[0m \u001b[0;34m\", \"\u001b[0m \u001b[0;34m+\u001b[0m \u001b[0mmon\u001b[0m \u001b[0;34m+\u001b[0m \u001b[0;34m\"_\"\u001b[0m \u001b[0;34m+\u001b[0m \u001b[0mtile_var_name\u001b[0m  \u001b[0;34m+\u001b[0m \u001b[0;34m\", tiles_cords['\"\u001b[0m \u001b[0;34m+\u001b[0m \u001b[0mtile\u001b[0m \u001b[0;34m+\u001b[0m \u001b[0;34m\"'][0], tiles_cords['\"\u001b[0m \u001b[0;34m+\u001b[0m \u001b[0mtile\u001b[0m \u001b[0;34m+\u001b[0m \u001b[0;34m\"'][1], '\"\u001b[0m \u001b[0;34m+\u001b[0m \u001b[0mhemi\u001b[0m \u001b[0;34m+\u001b[0m \u001b[0;34m\"')\"\u001b[0m\u001b[0;34m\u001b[0m\u001b[0;34m\u001b[0m\u001b[0m\n\u001b[0m\u001b[1;32m     11\u001b[0m     \u001b[0mexec\u001b[0m\u001b[0;34m(\u001b[0m\u001b[0mcommand\u001b[0m\u001b[0;34m)\u001b[0m\u001b[0;34m\u001b[0m\u001b[0;34m\u001b[0m\u001b[0m\n",
      "\u001b[0;31mUFuncTypeError\u001b[0m: ufunc 'add' did not contain a loop with signature matching types (dtype('<U166'), dtype('<U166')) -> dtype('<U166')"
     ]
    }
   ],
   "source": [
    "lat_longs = {\n",
    "    'blr_lat' : (13.1436111, 12.83388),\n",
    "    'blr_long' : (77.46, 77.78388889),\n",
    "    'mysore_lat' : (12.3744611, 12.2468304),\n",
    "    'mysore_long' : (76.5603734, 76.7110062)\n",
    "}\n",
    "city = 'mysore'\n",
    "for mon in months:\n",
    "    command = city + \"_\" + mon + \" = extract_lat_long(lat_longs['\" + city + \"_lat'][0], lat_longs['\" + city + \"_long'][0], lat_longs['\" + city + \"_lat'][1], lat_longs['\" + city + \"_long'][1]\"\n",
    "    command = command + \", \" + mon + \"_\" + tile_var_name  + \", tiles_cords['\" + tile + \"'][0], tiles_cords['\" + tile + \"'][1], '\" + hemi + \"')\"\n",
    "    exec(command)"
   ]
  },
  {
   "cell_type": "code",
   "execution_count": 4,
   "metadata": {},
   "outputs": [
    {
     "data": {
      "text/html": [
       "        <script type=\"text/javascript\">\n",
       "        window.PlotlyConfig = {MathJaxConfig: 'local'};\n",
       "        if (window.MathJax) {MathJax.Hub.Config({SVG: {font: \"STIX-Web\"}});}\n",
       "        if (typeof require !== 'undefined') {\n",
       "        require.undef(\"plotly\");\n",
       "        requirejs.config({\n",
       "            paths: {\n",
       "                'plotly': ['https://cdn.plot.ly/plotly-latest.min']\n",
       "            }\n",
       "        });\n",
       "        require(['plotly'], function(Plotly) {\n",
       "            window._Plotly = Plotly;\n",
       "        });\n",
       "        }\n",
       "        </script>\n",
       "        "
      ]
     },
     "metadata": {},
     "output_type": "display_data"
    }
   ],
   "source": [
    "import pandas as pd\n",
    "import plotly.graph_objs as go\n",
    "from night_light_utils import *\n",
    "from plotly.offline import init_notebook_mode, iplot, plot\n",
    "import plotly as py\n",
    "init_notebook_mode(connected=True)\n",
    "\n",
    "lat_longs = {\n",
    "    'blr_lat': (13.1436111, 12.83388),\n",
    "    'blr_long': (77.46, 77.78388889),\n",
    "    'mysore_lat' : (12.3744611, 12.2468304),\n",
    "    'mysore_long' : (76.5603734, 76.7110062),\n",
    "    'salem_lat' : (11.7433445, 11.5641257),\n",
    "    'salem_long' : (78.034283, 78.242311399),\n",
    "    'bom_lat' : (19.301458, 18.911677),\n",
    "    'bom_long' : (72.778349, 73.063949),\n",
    "    'pune_lat' : (18.698978, 18.432714),\n",
    "    'pune_long' : (73.662993, 74.011603),\n",
    "    'karnataka_lat' : (16.444482, 11.679891),\n",
    "    'karnataka_long': (74.298543, 77.93700),\n",
    "    'delhi_lat' : (28.873679, 28.317670),\n",
    "    'delhi_long' : (76.910456, 77.582555),\n",
    "    'surat_lat' : (21.266955, 21.131060),\n",
    "    'surat_long' : (72.747415, 72.920826),\n",
    "    'bhopal_lat' : (23.317829, 23.160057),\n",
    "    'bhopal_long' : (77.300587, 77.509989),\n",
    "    'jaipur_lat' : (27.009452, 26.755429),\n",
    "    'jaipur_long' : (75.666172, 75.912764),\n",
    "    'ahm_lat' : (23.261146, 22.939163),\n",
    "    'ahm_long' : (72.434385, 72.705903),\n",
    "    'NY_lat' : (40.989266, 40.479856),\n",
    "    'NY_long' : (-74.351461, -73.346537),\n",
    "    'california_lower_lat' : (36.967640, 32.557551),\n",
    "    'california_lower_long' : (-119.922886, -115.999695),\n",
    "    'california_upper_lat' : (39.823049, 34.451615),\n",
    "    'california_upper_long' : (-123.887838, -120.092777),\n",
    "    'san_diego_lat' : (33.099362, 32.582562),\n",
    "    'san_diego_long' : (-117.341578, -116.869401),\n",
    "    'LA_lat' : (34.328695, 33.435326),\n",
    "    'LA_long' : (-118.722811, -116.958560),\n",
    "    'SanFBA_lat' : (37.874732, 37.196889),\n",
    "    'SanFBA_long' : (-122.565049, -121.724266),\n",
    "    'LasVegas_lat' : (36.339823, 35.912815),\n",
    "    'LasVegas_long' : (-115.381645, -114.903089)\n",
    "}\n",
    "\n",
    "\n",
    "tiles_cords = {\n",
    "    'h25v07': (20, 70),\n",
    "    'h25v06' : (30, 70),\n",
    "    'h10v04' : (50, -80),\n",
    "    'h06v05' : (40, -120),\n",
    "    'h05v05' : (40, -130)\n",
    "}\n"
   ]
  },
  {
   "cell_type": "code",
   "execution_count": 845,
   "metadata": {},
   "outputs": [
    {
     "name": "stdout",
     "output_type": "stream",
     "text": [
      "0\n",
      "1\n",
      "2\n",
      "3\n",
      "4\n",
      "5\n",
      "6\n"
     ]
    }
   ],
   "source": [
    "weeks_to_use = [(2013, 7, 13, 2), (2014, 25, 31, 1), (2015, 16, 22, 2), (2016, 5,\n",
    "                                                                             11, 2), (2017, 23, 28, 2), (2018, 13, 19, 2), (2019, 1, 7, 2)]\n",
    "months = ['_2013', '_2014', '_2015', '_2016', '_2017', '_2018', '_2019']\n",
    "hemi = 'n'\n",
    "tile = 'h25v07'\n",
    "tile_var_name = 'h25v07'\n",
    "city = 'blr'\n",
    "\n",
    "for i in range(len(months)):\n",
    "        print(i)\n",
    "        year, ds, de, mon = weeks_to_use[i]\n",
    "        command = months[i] + \"_\" + tile_var_name + \" = week_loc_mean('\" + tile + \"', \" + str(\n",
    "            year) + ',' + str(ds) + ',' + str(de) + ',' + str(mon) + str(')')\n",
    "        exec(command, globals())\n",
    "        \n",
    "for mon in months:\n",
    "        command = city + \"_\" + mon + \" = extract_lat_long(lat_longs['\" + city + \"_lat'][0], lat_longs['\" + \\\n",
    "            city + \"_long'][0], lat_longs['\" + city + \\\n",
    "            \"_lat'][1], lat_longs['\" + city + \"_long'][1]\"\n",
    "        command = command + \", \" + mon + \"_\" + tile_var_name + \\\n",
    "            \", tiles_cords['\" + tile + \"'][0], tiles_cords['\" + \\\n",
    "            tile + \"'][1], '\" + hemi + \"')\"\n",
    "        exec(command, globals())\n",
    "\n",
    "        command = city + '_' + mon + ' = clean_noise(' + city + '_' + mon + ')'\n",
    "        exec(command, globals())\n",
    "\n",
    "        "
   ]
  },
  {
   "cell_type": "code",
   "execution_count": 900,
   "metadata": {},
   "outputs": [
    {
     "data": {
      "image/png": "[encoded data removed]",
      "text/plain": [
       "<Figure size 432x288 with 1 Axes>"
      ]
     },
     "metadata": {
      "needs_background": "light"
     },
     "output_type": "display_data"
    },
    {
     "data": {
      "text/plain": [
       "<matplotlib.image.AxesImage at 0x7fd070d89a20>"
      ]
     },
     "execution_count": 900,
     "metadata": {},
     "output_type": "execute_result"
    },
    {
     "data": {
      "image/png": "[encoded data removed]",
      "text/plain": [
       "<Figure size 432x288 with 1 Axes>"
      ]
     },
     "metadata": {
      "needs_background": "light"
     },
     "output_type": "display_data"
    }
   ],
   "source": [
    "#cmap = plt.cm.get_cmap(\"winter\")\n",
    "#cmap.set_under(\"magenta\")\n",
    "#cmap.set_over(\"yellow\")\n",
    "plt.set_cmap('Spectral')\n",
    "plt.imshow(-blr__2013 / np.max(blr__2018), vmin=-1, vmax=0)\n",
    "\n",
    "plt.show()\n",
    "plt.imshow(-blr__2018/ np.max(blr__2018), vmin=-1, vmax=0)"
   ]
  },
  {
   "cell_type": "code",
   "execution_count": 879,
   "metadata": {},
   "outputs": [
    {
     "data": {
      "text/plain": [
       "(1330.0, 1151.4285714285713)"
      ]
     },
     "execution_count": 879,
     "metadata": {},
     "output_type": "execute_result"
    }
   ],
   "source": [
    "np.max(blr__2018), np.max(blr__2013)"
   ]
  },
  {
   "cell_type": "code",
   "execution_count": 901,
   "metadata": {},
   "outputs": [],
   "source": [
    "\n",
    "plt.imsave('trial.png', -blr__2013 / np.max(blr__2018), vmin=-1, vmax=0)\n",
    "plt.imsave('trial1.png', -blr__2018/ np.max(blr__2018), vmin=-1, vmax=0)"
   ]
  },
  {
   "cell_type": "code",
   "execution_count": 846,
   "metadata": {},
   "outputs": [],
   "source": [
    "img_rad(blr__2013)\n",
    "img_rad(blr__2018)"
   ]
  },
  {
   "cell_type": "code",
   "execution_count": 844,
   "metadata": {},
   "outputs": [],
   "source": [
    "plot_diff_filter(LA__2018, LA__2013)"
   ]
  },
  {
   "cell_type": "code",
   "execution_count": 73,
   "metadata": {},
   "outputs": [
    {
     "name": "stdout",
     "output_type": "stream",
     "text": [
      "0\n",
      "1\n",
      "2\n",
      "3\n",
      "4\n",
      "5\n",
      "6\n",
      "0\n",
      "1\n",
      "2\n",
      "3\n",
      "4\n",
      "5\n",
      "6\n"
     ]
    }
   ],
   "source": [
    "weeks_to_use = [(2013, 7, 13, 2), (2014, 25, 31, 1), (2015, 16, 22, 2), (2016, 5,\n",
    "                                                                             11, 2), (2017, 23, 28, 2), (2018, 13, 19, 2), (2019, 1, 7, 2)]\n",
    "months = ['_2013', '_2014', '_2015', '_2016', '_2017', '_2018', '_2019']\n",
    "hemi = 'n'\n",
    "tile = 'h06v05'\n",
    "tile_var_name = 'h06v05'\n",
    "city = 'california_lower'\n",
    "\n",
    "for i in range(len(months)):\n",
    "        print(i)\n",
    "        year, ds, de, mon = weeks_to_use[i]\n",
    "        command = months[i] + \"_\" + tile_var_name + \" = week_loc_mean('\" + tile + \"', \" + str(\n",
    "            year) + ',' + str(ds) + ',' + str(de) + ',' + str(mon) + str(')')\n",
    "        exec(command, globals())\n",
    "        \n",
    "for mon in months:\n",
    "        command = city + \"_\" + mon + \" = extract_lat_long(lat_longs['\" + city + \"_lat'][0], lat_longs['\" + \\\n",
    "            city + \"_long'][0], lat_longs['\" + city + \\\n",
    "            \"_lat'][1], lat_longs['\" + city + \"_long'][1]\"\n",
    "        command = command + \", \" + mon + \"_\" + tile_var_name + \\\n",
    "            \", tiles_cords['\" + tile + \"'][0], tiles_cords['\" + \\\n",
    "            tile + \"'][1], '\" + hemi + \"')\"\n",
    "        exec(command, globals())\n",
    "\n",
    "        command = city + '_' + mon + ' = clean_noise(' + city + '_' + mon + ')'\n",
    "        exec(command, globals())\n",
    "\n",
    "        \n",
    "        \n",
    "tile2 = 'h05v05'\n",
    "tile_var_name2 = 'h05v05'\n",
    "city2 = 'california_upper'\n",
    "\n",
    "for i in range(len(months)):\n",
    "        print(i)\n",
    "        year, ds, de, mon = weeks_to_use[i]\n",
    "        command = months[i] + \"_\" + tile_var_name2 + \" = week_loc_mean('\" + tile2 + \"', \" + str(\n",
    "            year) + ',' + str(ds) + ',' + str(de) + ',' + str(mon) + str(')')\n",
    "        exec(command, globals())\n",
    "        \n",
    "for mon in months:\n",
    "        command = city2 + \"_\" + mon + \" = extract_lat_long(lat_longs['\" + city2 + \"_lat'][0], lat_longs['\" + \\\n",
    "            city2 + \"_long'][0], lat_longs['\" + city2 + \\\n",
    "            \"_lat'][1], lat_longs['\" + city2 + \"_long'][1]\"\n",
    "        command = command + \", \" + mon + \"_\" + tile_var_name2 + \\\n",
    "            \", tiles_cords['\" + tile2 + \"'][0], tiles_cords['\" + \\\n",
    "            tile2 + \"'][1], '\" + hemi + \"')\"\n",
    "        exec(command, globals())\n",
    "\n",
    "        command = city2 + '_' + mon + ' = clean_noise(' + city2 + '_' + mon + ')'\n",
    "        exec(command, globals())\n"
   ]
  },
  {
   "cell_type": "code",
   "execution_count": 74,
   "metadata": {},
   "outputs": [],
   "source": [
    "ka_mean = []\n",
    "for i in range(len(months)):\n",
    "    command = \"ka_mean.append((\" + city + \"_\" + months[i] + \").sum() + (\" + city2 + \"_\" + months[i] + \").sum())\"\n",
    "    exec(command)"
   ]
  },
  {
   "cell_type": "code",
   "execution_count": 75,
   "metadata": {},
   "outputs": [
    {
     "data": {
      "text/plain": [
       "25958427.71428571"
      ]
     },
     "execution_count": 75,
     "metadata": {},
     "output_type": "execute_result"
    }
   ],
   "source": [
    "california_lower__2013.sum()+ california_upper__2013.sum()"
   ]
  },
  {
   "cell_type": "code",
   "execution_count": 76,
   "metadata": {},
   "outputs": [
    {
     "data": {
      "text/plain": [
       "array([25958427.71428571, 23815313.85714285, 22645156.28571428,\n",
       "       30639806.71428572, 26387194.16666666, 29405577.14285714,\n",
       "       19516732.57142856])"
      ]
     },
     "execution_count": 76,
     "metadata": {},
     "output_type": "execute_result"
    }
   ],
   "source": [
    "#Below 2 pop lines only for rajasthan\n",
    "#ka_mean.pop(0)\n",
    "#ka_mean.pop(5)\n",
    "#NO GDP FOR NY So removing last year\n",
    "#ka_mean.pop(6)\n",
    "ka_mean = np.array(ka_mean)\n",
    "ka_mean"
   ]
  },
  {
   "cell_type": "code",
   "execution_count": 77,
   "metadata": {},
   "outputs": [],
   "source": [
    "#ka_gdp = np.array([695413, 816666, 913923, 1045168, 1209136, 1350257, 1535224])  # Karnataka\n",
    "#ka_gdp = np.array([391388, 443960, 494803, 550804, 615605, 690098, 779652])     #Delhi\n",
    "#ka_gdp = np.array([724495, 807623, 921773, 1029010, 1153327, 1314680, 1499013])  #Gujrat\n",
    "#ka_gdp = np.array([1439233, 1477043, 1542763, 1618366, 1662671, 1717712])     #NY\n",
    "ka_gdp = np.array([2144.5, 2220.87, 2312.54, 2428.6, 2500.95, 2610.68, 2721.65])\n",
    "\n",
    "#ka_gdp = np.array([561031, 615642, 681485, 758809, 835558])  #Rajasthan  removing value of GDP For 2013 and 2018 493551, 929124"
   ]
  },
  {
   "cell_type": "code",
   "execution_count": 78,
   "metadata": {},
   "outputs": [
    {
     "data": {
      "text/plain": [
       "(array([25958427.71428571, 23815313.85714285, 22645156.28571428,\n",
       "        30639806.71428572, 26387194.16666666, 29405577.14285714,\n",
       "        19516732.57142856]),\n",
       " array([2144.5 , 2220.87, 2312.54, 2428.6 , 2500.95, 2610.68, 2721.65]))"
      ]
     },
     "execution_count": 78,
     "metadata": {},
     "output_type": "execute_result"
    }
   ],
   "source": [
    "ka_mean, ka_gdp"
   ]
  },
  {
   "cell_type": "code",
   "execution_count": 79,
   "metadata": {},
   "outputs": [
    {
     "data": {
      "text/plain": [
       "(-4.786432372200672e-06, 2541.933909586844)"
      ]
     },
     "execution_count": 79,
     "metadata": {},
     "output_type": "execute_result"
    }
   ],
   "source": [
    "m, b = np.polyfit(ka_mean, ka_gdp, 1)\n",
    "m, b"
   ]
  },
  {
   "cell_type": "code",
   "execution_count": 80,
   "metadata": {},
   "outputs": [
    {
     "data": {
      "text/plain": [
       "array([[ 1.        , -0.08859824],\n",
       "       [-0.08859824,  1.        ]])"
      ]
     },
     "execution_count": 80,
     "metadata": {},
     "output_type": "execute_result"
    }
   ],
   "source": [
    "np.corrcoef(ka_gdp, ka_mean)"
   ]
  },
  {
   "cell_type": "code",
   "execution_count": 81,
   "metadata": {},
   "outputs": [
    {
     "data": {
      "text/plain": [
       "<matplotlib.collections.PathCollection at 0x7fd0938044e0>"
      ]
     },
     "execution_count": 81,
     "metadata": {},
     "output_type": "execute_result"
    },
    {
     "data": {
      "image/png": "[encoded data removed]",
      "text/plain": [
       "<Figure size 432x288 with 1 Axes>"
      ]
     },
     "metadata": {
      "needs_background": "light"
     },
     "output_type": "display_data"
    }
   ],
   "source": [
    "import matplotlib.pyplot as plt\n",
    "plt.scatter(ka_mean, ka_gdp)"
   ]
  },
  {
   "cell_type": "code",
   "execution_count": 82,
   "metadata": {},
   "outputs": [
    {
     "data": {
      "text/plain": [
       "[<matplotlib.lines.Line2D at 0x7fd0d6419eb8>]"
      ]
     },
     "execution_count": 82,
     "metadata": {},
     "output_type": "execute_result"
    },
    {
     "data": {
      "image/png": "[encoded data removed]",
      "text/plain": [
       "<Figure size 432x288 with 1 Axes>"
      ]
     },
     "metadata": {
      "needs_background": "light"
     },
     "output_type": "display_data"
    }
   ],
   "source": [
    "plt.plot(ka_gdp, months)"
   ]
  },
  {
   "cell_type": "code",
   "execution_count": 86,
   "metadata": {},
   "outputs": [
    {
     "data": {
      "application/vnd.plotly.v1+json": {
       "config": {
        "linkText": "Export to plot.ly",
        "plotlyServerURL": "https://plot.ly",
        "showLink": false
       },
       "data": [
        {
         "marker": {
          "color": "rgba(16, 112, 2, 0.8)"
         },
         "mode": "lines+markers",
         "name": "Karnataka Mean",
         "text": "Karnataka Mean",
         "type": "scatter",
         "x": [
          "_2013",
          "_2014",
          "_2015",
          "_2016",
          "_2017",
          "_2018",
          "_2019"
         ],
         "y": [
          25.95842771428571,
          23.815313857142854,
          22.645156285714283,
          30.639806714285722,
          26.387194166666664,
          29.405577142857137,
          19.516732571428562
         ]
        },
        {
         "marker": {
          "color": "rgba(255, 0, 0, 0.8)"
         },
         "mode": "lines+markers",
         "name": "KA GDP",
         "text": "KA GDP",
         "type": "scatter",
         "x": [
          "_2013",
          "_2014",
          "_2015",
          "_2016",
          "_2017",
          "_2018",
          "_2019"
         ],
         "y": [
          8.578,
          8.883479999999999,
          9.25016,
          9.7144,
          10.0038,
          10.44272,
          10.8866
         ]
        }
       ],
       "layout": {
        "template": {
         "data": {
          "bar": [
           {
            "error_x": {
             "color": "#2a3f5f"
            },
            "error_y": {
             "color": "#2a3f5f"
            },
            "marker": {
             "line": {
              "color": "#E5ECF6",
              "width": 0.5
             }
            },
            "type": "bar"
           }
          ],
          "barpolar": [
           {
            "marker": {
             "line": {
              "color": "#E5ECF6",
              "width": 0.5
             }
            },
            "type": "barpolar"
           }
          ],
          "carpet": [
           {
            "aaxis": {
             "endlinecolor": "#2a3f5f",
             "gridcolor": "white",
             "linecolor": "white",
             "minorgridcolor": "white",
             "startlinecolor": "#2a3f5f"
            },
            "baxis": {
             "endlinecolor": "#2a3f5f",
             "gridcolor": "white",
             "linecolor": "white",
             "minorgridcolor": "white",
             "startlinecolor": "#2a3f5f"
            },
            "type": "carpet"
           }
          ],
          "choropleth": [
           {
            "colorbar": {
             "outlinewidth": 0,
             "ticks": ""
            },
            "type": "choropleth"
           }
          ],
          "contour": [
           {
            "colorbar": {
             "outlinewidth": 0,
             "ticks": ""
            },
            "colorscale": [
             [
              0,
              "#0d0887"
             ],
             [
              0.1111111111111111,
              "#46039f"
             ],
             [
              0.2222222222222222,
              "#7201a8"
             ],
             [
              0.3333333333333333,
              "#9c179e"
             ],
             [
              0.4444444444444444,
              "#bd3786"
             ],
             [
              0.5555555555555556,
              "#d8576b"
             ],
             [
              0.6666666666666666,
              "#ed7953"
             ],
             [
              0.7777777777777778,
              "#fb9f3a"
             ],
             [
              0.8888888888888888,
              "#fdca26"
             ],
             [
              1,
              "#f0f921"
             ]
            ],
            "type": "contour"
           }
          ],
          "contourcarpet": [
           {
            "colorbar": {
             "outlinewidth": 0,
             "ticks": ""
            },
            "type": "contourcarpet"
           }
          ],
          "heatmap": [
           {
            "colorbar": {
             "outlinewidth": 0,
             "ticks": ""
            },
            "colorscale": [
             [
              0,
              "#0d0887"
             ],
             [
              0.1111111111111111,
              "#46039f"
             ],
             [
              0.2222222222222222,
              "#7201a8"
             ],
             [
              0.3333333333333333,
              "#9c179e"
             ],
             [
              0.4444444444444444,
              "#bd3786"
             ],
             [
              0.5555555555555556,
              "#d8576b"
             ],
             [
              0.6666666666666666,
              "#ed7953"
             ],
             [
              0.7777777777777778,
              "#fb9f3a"
             ],
             [
              0.8888888888888888,
              "#fdca26"
             ],
             [
              1,
              "#f0f921"
             ]
            ],
            "type": "heatmap"
           }
          ],
          "heatmapgl": [
           {
            "colorbar": {
             "outlinewidth": 0,
             "ticks": ""
            },
            "colorscale": [
             [
              0,
              "#0d0887"
             ],
             [
              0.1111111111111111,
              "#46039f"
             ],
             [
              0.2222222222222222,
              "#7201a8"
             ],
             [
              0.3333333333333333,
              "#9c179e"
             ],
             [
              0.4444444444444444,
              "#bd3786"
             ],
             [
              0.5555555555555556,
              "#d8576b"
             ],
             [
              0.6666666666666666,
              "#ed7953"
             ],
             [
              0.7777777777777778,
              "#fb9f3a"
             ],
             [
              0.8888888888888888,
              "#fdca26"
             ],
             [
              1,
              "#f0f921"
             ]
            ],
            "type": "heatmapgl"
           }
          ],
          "histogram": [
           {
            "marker": {
             "colorbar": {
              "outlinewidth": 0,
              "ticks": ""
             }
            },
            "type": "histogram"
           }
          ],
          "histogram2d": [
           {
            "colorbar": {
             "outlinewidth": 0,
             "ticks": ""
            },
            "colorscale": [
             [
              0,
              "#0d0887"
             ],
             [
              0.1111111111111111,
              "#46039f"
             ],
             [
              0.2222222222222222,
              "#7201a8"
             ],
             [
              0.3333333333333333,
              "#9c179e"
             ],
             [
              0.4444444444444444,
              "#bd3786"
             ],
             [
              0.5555555555555556,
              "#d8576b"
             ],
             [
              0.6666666666666666,
              "#ed7953"
             ],
             [
              0.7777777777777778,
              "#fb9f3a"
             ],
             [
              0.8888888888888888,
              "#fdca26"
             ],
             [
              1,
              "#f0f921"
             ]
            ],
            "type": "histogram2d"
           }
          ],
          "histogram2dcontour": [
           {
            "colorbar": {
             "outlinewidth": 0,
             "ticks": ""
            },
            "colorscale": [
             [
              0,
              "#0d0887"
             ],
             [
              0.1111111111111111,
              "#46039f"
             ],
             [
              0.2222222222222222,
              "#7201a8"
             ],
             [
              0.3333333333333333,
              "#9c179e"
             ],
             [
              0.4444444444444444,
              "#bd3786"
             ],
             [
              0.5555555555555556,
              "#d8576b"
             ],
             [
              0.6666666666666666,
              "#ed7953"
             ],
             [
              0.7777777777777778,
              "#fb9f3a"
             ],
             [
              0.8888888888888888,
              "#fdca26"
             ],
             [
              1,
              "#f0f921"
             ]
            ],
            "type": "histogram2dcontour"
           }
          ],
          "mesh3d": [
           {
            "colorbar": {
             "outlinewidth": 0,
             "ticks": ""
            },
            "type": "mesh3d"
           }
          ],
          "parcoords": [
           {
            "line": {
             "colorbar": {
              "outlinewidth": 0,
              "ticks": ""
             }
            },
            "type": "parcoords"
           }
          ],
          "scatter": [
           {
            "marker": {
             "colorbar": {
              "outlinewidth": 0,
              "ticks": ""
             }
            },
            "type": "scatter"
           }
          ],
          "scatter3d": [
           {
            "line": {
             "colorbar": {
              "outlinewidth": 0,
              "ticks": ""
             }
            },
            "marker": {
             "colorbar": {
              "outlinewidth": 0,
              "ticks": ""
             }
            },
            "type": "scatter3d"
           }
          ],
          "scattercarpet": [
           {
            "marker": {
             "colorbar": {
              "outlinewidth": 0,
              "ticks": ""
             }
            },
            "type": "scattercarpet"
           }
          ],
          "scattergeo": [
           {
            "marker": {
             "colorbar": {
              "outlinewidth": 0,
              "ticks": ""
             }
            },
            "type": "scattergeo"
           }
          ],
          "scattergl": [
           {
            "marker": {
             "colorbar": {
              "outlinewidth": 0,
              "ticks": ""
             }
            },
            "type": "scattergl"
           }
          ],
          "scattermapbox": [
           {
            "marker": {
             "colorbar": {
              "outlinewidth": 0,
              "ticks": ""
             }
            },
            "type": "scattermapbox"
           }
          ],
          "scatterpolar": [
           {
            "marker": {
             "colorbar": {
              "outlinewidth": 0,
              "ticks": ""
             }
            },
            "type": "scatterpolar"
           }
          ],
          "scatterpolargl": [
           {
            "marker": {
             "colorbar": {
              "outlinewidth": 0,
              "ticks": ""
             }
            },
            "type": "scatterpolargl"
           }
          ],
          "scatterternary": [
           {
            "marker": {
             "colorbar": {
              "outlinewidth": 0,
              "ticks": ""
             }
            },
            "type": "scatterternary"
           }
          ],
          "surface": [
           {
            "colorbar": {
             "outlinewidth": 0,
             "ticks": ""
            },
            "colorscale": [
             [
              0,
              "#0d0887"
             ],
             [
              0.1111111111111111,
              "#46039f"
             ],
             [
              0.2222222222222222,
              "#7201a8"
             ],
             [
              0.3333333333333333,
              "#9c179e"
             ],
             [
              0.4444444444444444,
              "#bd3786"
             ],
             [
              0.5555555555555556,
              "#d8576b"
             ],
             [
              0.6666666666666666,
              "#ed7953"
             ],
             [
              0.7777777777777778,
              "#fb9f3a"
             ],
             [
              0.8888888888888888,
              "#fdca26"
             ],
             [
              1,
              "#f0f921"
             ]
            ],
            "type": "surface"
           }
          ],
          "table": [
           {
            "cells": {
             "fill": {
              "color": "#EBF0F8"
             },
             "line": {
              "color": "white"
             }
            },
            "header": {
             "fill": {
              "color": "#C8D4E3"
             },
             "line": {
              "color": "white"
             }
            },
            "type": "table"
           }
          ]
         },
         "layout": {
          "annotationdefaults": {
           "arrowcolor": "#2a3f5f",
           "arrowhead": 0,
           "arrowwidth": 1
          },
          "colorscale": {
           "diverging": [
            [
             0,
             "#8e0152"
            ],
            [
             0.1,
             "#c51b7d"
            ],
            [
             0.2,
             "#de77ae"
            ],
            [
             0.3,
             "#f1b6da"
            ],
            [
             0.4,
             "#fde0ef"
            ],
            [
             0.5,
             "#f7f7f7"
            ],
            [
             0.6,
             "#e6f5d0"
            ],
            [
             0.7,
             "#b8e186"
            ],
            [
             0.8,
             "#7fbc41"
            ],
            [
             0.9,
             "#4d9221"
            ],
            [
             1,
             "#276419"
            ]
           ],
           "sequential": [
            [
             0,
             "#0d0887"
            ],
            [
             0.1111111111111111,
             "#46039f"
            ],
            [
             0.2222222222222222,
             "#7201a8"
            ],
            [
             0.3333333333333333,
             "#9c179e"
            ],
            [
             0.4444444444444444,
             "#bd3786"
            ],
            [
             0.5555555555555556,
             "#d8576b"
            ],
            [
             0.6666666666666666,
             "#ed7953"
            ],
            [
             0.7777777777777778,
             "#fb9f3a"
            ],
            [
             0.8888888888888888,
             "#fdca26"
            ],
            [
             1,
             "#f0f921"
            ]
           ],
           "sequentialminus": [
            [
             0,
             "#0d0887"
            ],
            [
             0.1111111111111111,
             "#46039f"
            ],
            [
             0.2222222222222222,
             "#7201a8"
            ],
            [
             0.3333333333333333,
             "#9c179e"
            ],
            [
             0.4444444444444444,
             "#bd3786"
            ],
            [
             0.5555555555555556,
             "#d8576b"
            ],
            [
             0.6666666666666666,
             "#ed7953"
            ],
            [
             0.7777777777777778,
             "#fb9f3a"
            ],
            [
             0.8888888888888888,
             "#fdca26"
            ],
            [
             1,
             "#f0f921"
            ]
           ]
          },
          "colorway": [
           "#636efa",
           "#EF553B",
           "#00cc96",
           "#ab63fa",
           "#FFA15A",
           "#19d3f3",
           "#FF6692",
           "#B6E880",
           "#FF97FF",
           "#FECB52"
          ],
          "font": {
           "color": "#2a3f5f"
          },
          "geo": {
           "bgcolor": "white",
           "lakecolor": "white",
           "landcolor": "#E5ECF6",
           "showlakes": true,
           "showland": true,
           "subunitcolor": "white"
          },
          "hoverlabel": {
           "align": "left"
          },
          "hovermode": "closest",
          "mapbox": {
           "style": "light"
          },
          "paper_bgcolor": "white",
          "plot_bgcolor": "#E5ECF6",
          "polar": {
           "angularaxis": {
            "gridcolor": "white",
            "linecolor": "white",
            "ticks": ""
           },
           "bgcolor": "#E5ECF6",
           "radialaxis": {
            "gridcolor": "white",
            "linecolor": "white",
            "ticks": ""
           }
          },
          "scene": {
           "xaxis": {
            "backgroundcolor": "#E5ECF6",
            "gridcolor": "white",
            "gridwidth": 2,
            "linecolor": "white",
            "showbackground": true,
            "ticks": "",
            "zerolinecolor": "white"
           },
           "yaxis": {
            "backgroundcolor": "#E5ECF6",
            "gridcolor": "white",
            "gridwidth": 2,
            "linecolor": "white",
            "showbackground": true,
            "ticks": "",
            "zerolinecolor": "white"
           },
           "zaxis": {
            "backgroundcolor": "#E5ECF6",
            "gridcolor": "white",
            "gridwidth": 2,
            "linecolor": "white",
            "showbackground": true,
            "ticks": "",
            "zerolinecolor": "white"
           }
          },
          "shapedefaults": {
           "line": {
            "color": "#2a3f5f"
           }
          },
          "ternary": {
           "aaxis": {
            "gridcolor": "white",
            "linecolor": "white",
            "ticks": ""
           },
           "baxis": {
            "gridcolor": "white",
            "linecolor": "white",
            "ticks": ""
           },
           "bgcolor": "#E5ECF6",
           "caxis": {
            "gridcolor": "white",
            "linecolor": "white",
            "ticks": ""
           }
          },
          "title": {
           "x": 0.05
          },
          "xaxis": {
           "automargin": true,
           "gridcolor": "white",
           "linecolor": "white",
           "ticks": "",
           "zerolinecolor": "white",
           "zerolinewidth": 2
          },
          "yaxis": {
           "automargin": true,
           "gridcolor": "white",
           "linecolor": "white",
           "ticks": "",
           "zerolinecolor": "white",
           "zerolinewidth": 2
          }
         }
        },
        "title": {
         "text": "Karanataka Night Light Mean over the years"
        },
        "xaxis": {
         "ticklen": 5,
         "title": {
          "text": "Year"
         },
         "zeroline": false
        }
       }
      },
      "text/html": [
       "<div>\n",
       "        \n",
       "        \n",
       "            <div id=\"b6c3f334-192f-423f-813a-83613e1b3095\" class=\"plotly-graph-div\" style=\"height:525px; width:100%;\"></div>\n",
       "            <script type=\"text/javascript\">\n",
       "                require([\"plotly\"], function(Plotly) {\n",
       "                    window.PLOTLYENV=window.PLOTLYENV || {};\n",
       "                    \n",
       "                if (document.getElementById(\"b6c3f334-192f-423f-813a-83613e1b3095\")) {\n",
       "                    Plotly.newPlot(\n",
       "                        'b6c3f334-192f-423f-813a-83613e1b3095',\n",
       "                        [{\"marker\": {\"color\": \"rgba(16, 112, 2, 0.8)\"}, \"mode\": \"lines+markers\", \"name\": \"Karnataka Mean\", \"text\": \"Karnataka Mean\", \"type\": \"scatter\", \"x\": [\"_2013\", \"_2014\", \"_2015\", \"_2016\", \"_2017\", \"_2018\", \"_2019\"], \"y\": [25.95842771428571, 23.815313857142854, 22.645156285714283, 30.639806714285722, 26.387194166666664, 29.405577142857137, 19.516732571428562]}, {\"marker\": {\"color\": \"rgba(255, 0, 0, 0.8)\"}, \"mode\": \"lines+markers\", \"name\": \"KA GDP\", \"text\": \"KA GDP\", \"type\": \"scatter\", \"x\": [\"_2013\", \"_2014\", \"_2015\", \"_2016\", \"_2017\", \"_2018\", \"_2019\"], \"y\": [8.578, 8.883479999999999, 9.25016, 9.7144, 10.0038, 10.44272, 10.8866]}],\n",
       "                        {\"template\": {\"data\": {\"bar\": [{\"error_x\": {\"color\": \"#2a3f5f\"}, \"error_y\": {\"color\": \"#2a3f5f\"}, \"marker\": {\"line\": {\"color\": \"#E5ECF6\", \"width\": 0.5}}, \"type\": \"bar\"}], \"barpolar\": [{\"marker\": {\"line\": {\"color\": \"#E5ECF6\", \"width\": 0.5}}, \"type\": \"barpolar\"}], \"carpet\": [{\"aaxis\": {\"endlinecolor\": \"#2a3f5f\", \"gridcolor\": \"white\", \"linecolor\": \"white\", \"minorgridcolor\": \"white\", \"startlinecolor\": \"#2a3f5f\"}, \"baxis\": {\"endlinecolor\": \"#2a3f5f\", \"gridcolor\": \"white\", \"linecolor\": \"white\", \"minorgridcolor\": \"white\", \"startlinecolor\": \"#2a3f5f\"}, \"type\": \"carpet\"}], \"choropleth\": [{\"colorbar\": {\"outlinewidth\": 0, \"ticks\": \"\"}, \"type\": \"choropleth\"}], \"contour\": [{\"colorbar\": {\"outlinewidth\": 0, \"ticks\": \"\"}, \"colorscale\": [[0.0, \"#0d0887\"], [0.1111111111111111, \"#46039f\"], [0.2222222222222222, \"#7201a8\"], [0.3333333333333333, \"#9c179e\"], [0.4444444444444444, \"#bd3786\"], [0.5555555555555556, \"#d8576b\"], [0.6666666666666666, \"#ed7953\"], [0.7777777777777778, \"#fb9f3a\"], [0.8888888888888888, \"#fdca26\"], [1.0, \"#f0f921\"]], \"type\": \"contour\"}], \"contourcarpet\": [{\"colorbar\": {\"outlinewidth\": 0, \"ticks\": \"\"}, \"type\": \"contourcarpet\"}], \"heatmap\": [{\"colorbar\": {\"outlinewidth\": 0, \"ticks\": \"\"}, \"colorscale\": [[0.0, \"#0d0887\"], [0.1111111111111111, \"#46039f\"], [0.2222222222222222, \"#7201a8\"], [0.3333333333333333, \"#9c179e\"], [0.4444444444444444, \"#bd3786\"], [0.5555555555555556, \"#d8576b\"], [0.6666666666666666, \"#ed7953\"], [0.7777777777777778, \"#fb9f3a\"], [0.8888888888888888, \"#fdca26\"], [1.0, \"#f0f921\"]], \"type\": \"heatmap\"}], \"heatmapgl\": [{\"colorbar\": {\"outlinewidth\": 0, \"ticks\": \"\"}, \"colorscale\": [[0.0, \"#0d0887\"], [0.1111111111111111, \"#46039f\"], [0.2222222222222222, \"#7201a8\"], [0.3333333333333333, \"#9c179e\"], [0.4444444444444444, \"#bd3786\"], [0.5555555555555556, \"#d8576b\"], [0.6666666666666666, \"#ed7953\"], [0.7777777777777778, \"#fb9f3a\"], [0.8888888888888888, \"#fdca26\"], [1.0, \"#f0f921\"]], \"type\": \"heatmapgl\"}], \"histogram\": [{\"marker\": {\"colorbar\": {\"outlinewidth\": 0, \"ticks\": \"\"}}, \"type\": \"histogram\"}], \"histogram2d\": [{\"colorbar\": {\"outlinewidth\": 0, \"ticks\": \"\"}, \"colorscale\": [[0.0, \"#0d0887\"], [0.1111111111111111, \"#46039f\"], [0.2222222222222222, \"#7201a8\"], [0.3333333333333333, \"#9c179e\"], [0.4444444444444444, \"#bd3786\"], [0.5555555555555556, \"#d8576b\"], [0.6666666666666666, \"#ed7953\"], [0.7777777777777778, \"#fb9f3a\"], [0.8888888888888888, \"#fdca26\"], [1.0, \"#f0f921\"]], \"type\": \"histogram2d\"}], \"histogram2dcontour\": [{\"colorbar\": {\"outlinewidth\": 0, \"ticks\": \"\"}, \"colorscale\": [[0.0, \"#0d0887\"], [0.1111111111111111, \"#46039f\"], [0.2222222222222222, \"#7201a8\"], [0.3333333333333333, \"#9c179e\"], [0.4444444444444444, \"#bd3786\"], [0.5555555555555556, \"#d8576b\"], [0.6666666666666666, \"#ed7953\"], [0.7777777777777778, \"#fb9f3a\"], [0.8888888888888888, \"#fdca26\"], [1.0, \"#f0f921\"]], \"type\": \"histogram2dcontour\"}], \"mesh3d\": [{\"colorbar\": {\"outlinewidth\": 0, \"ticks\": \"\"}, \"type\": \"mesh3d\"}], \"parcoords\": [{\"line\": {\"colorbar\": {\"outlinewidth\": 0, \"ticks\": \"\"}}, \"type\": \"parcoords\"}], \"scatter\": [{\"marker\": {\"colorbar\": {\"outlinewidth\": 0, \"ticks\": \"\"}}, \"type\": \"scatter\"}], \"scatter3d\": [{\"line\": {\"colorbar\": {\"outlinewidth\": 0, \"ticks\": \"\"}}, \"marker\": {\"colorbar\": {\"outlinewidth\": 0, \"ticks\": \"\"}}, \"type\": \"scatter3d\"}], \"scattercarpet\": [{\"marker\": {\"colorbar\": {\"outlinewidth\": 0, \"ticks\": \"\"}}, \"type\": \"scattercarpet\"}], \"scattergeo\": [{\"marker\": {\"colorbar\": {\"outlinewidth\": 0, \"ticks\": \"\"}}, \"type\": \"scattergeo\"}], \"scattergl\": [{\"marker\": {\"colorbar\": {\"outlinewidth\": 0, \"ticks\": \"\"}}, \"type\": \"scattergl\"}], \"scattermapbox\": [{\"marker\": {\"colorbar\": {\"outlinewidth\": 0, \"ticks\": \"\"}}, \"type\": \"scattermapbox\"}], \"scatterpolar\": [{\"marker\": {\"colorbar\": {\"outlinewidth\": 0, \"ticks\": \"\"}}, \"type\": \"scatterpolar\"}], \"scatterpolargl\": [{\"marker\": {\"colorbar\": {\"outlinewidth\": 0, \"ticks\": \"\"}}, \"type\": \"scatterpolargl\"}], \"scatterternary\": [{\"marker\": {\"colorbar\": {\"outlinewidth\": 0, \"ticks\": \"\"}}, \"type\": \"scatterternary\"}], \"surface\": [{\"colorbar\": {\"outlinewidth\": 0, \"ticks\": \"\"}, \"colorscale\": [[0.0, \"#0d0887\"], [0.1111111111111111, \"#46039f\"], [0.2222222222222222, \"#7201a8\"], [0.3333333333333333, \"#9c179e\"], [0.4444444444444444, \"#bd3786\"], [0.5555555555555556, \"#d8576b\"], [0.6666666666666666, \"#ed7953\"], [0.7777777777777778, \"#fb9f3a\"], [0.8888888888888888, \"#fdca26\"], [1.0, \"#f0f921\"]], \"type\": \"surface\"}], \"table\": [{\"cells\": {\"fill\": {\"color\": \"#EBF0F8\"}, \"line\": {\"color\": \"white\"}}, \"header\": {\"fill\": {\"color\": \"#C8D4E3\"}, \"line\": {\"color\": \"white\"}}, \"type\": \"table\"}]}, \"layout\": {\"annotationdefaults\": {\"arrowcolor\": \"#2a3f5f\", \"arrowhead\": 0, \"arrowwidth\": 1}, \"colorscale\": {\"diverging\": [[0, \"#8e0152\"], [0.1, \"#c51b7d\"], [0.2, \"#de77ae\"], [0.3, \"#f1b6da\"], [0.4, \"#fde0ef\"], [0.5, \"#f7f7f7\"], [0.6, \"#e6f5d0\"], [0.7, \"#b8e186\"], [0.8, \"#7fbc41\"], [0.9, \"#4d9221\"], [1, \"#276419\"]], \"sequential\": [[0.0, \"#0d0887\"], [0.1111111111111111, \"#46039f\"], [0.2222222222222222, \"#7201a8\"], [0.3333333333333333, \"#9c179e\"], [0.4444444444444444, \"#bd3786\"], [0.5555555555555556, \"#d8576b\"], [0.6666666666666666, \"#ed7953\"], [0.7777777777777778, \"#fb9f3a\"], [0.8888888888888888, \"#fdca26\"], [1.0, \"#f0f921\"]], \"sequentialminus\": [[0.0, \"#0d0887\"], [0.1111111111111111, \"#46039f\"], [0.2222222222222222, \"#7201a8\"], [0.3333333333333333, \"#9c179e\"], [0.4444444444444444, \"#bd3786\"], [0.5555555555555556, \"#d8576b\"], [0.6666666666666666, \"#ed7953\"], [0.7777777777777778, \"#fb9f3a\"], [0.8888888888888888, \"#fdca26\"], [1.0, \"#f0f921\"]]}, \"colorway\": [\"#636efa\", \"#EF553B\", \"#00cc96\", \"#ab63fa\", \"#FFA15A\", \"#19d3f3\", \"#FF6692\", \"#B6E880\", \"#FF97FF\", \"#FECB52\"], \"font\": {\"color\": \"#2a3f5f\"}, \"geo\": {\"bgcolor\": \"white\", \"lakecolor\": \"white\", \"landcolor\": \"#E5ECF6\", \"showlakes\": true, \"showland\": true, \"subunitcolor\": \"white\"}, \"hoverlabel\": {\"align\": \"left\"}, \"hovermode\": \"closest\", \"mapbox\": {\"style\": \"light\"}, \"paper_bgcolor\": \"white\", \"plot_bgcolor\": \"#E5ECF6\", \"polar\": {\"angularaxis\": {\"gridcolor\": \"white\", \"linecolor\": \"white\", \"ticks\": \"\"}, \"bgcolor\": \"#E5ECF6\", \"radialaxis\": {\"gridcolor\": \"white\", \"linecolor\": \"white\", \"ticks\": \"\"}}, \"scene\": {\"xaxis\": {\"backgroundcolor\": \"#E5ECF6\", \"gridcolor\": \"white\", \"gridwidth\": 2, \"linecolor\": \"white\", \"showbackground\": true, \"ticks\": \"\", \"zerolinecolor\": \"white\"}, \"yaxis\": {\"backgroundcolor\": \"#E5ECF6\", \"gridcolor\": \"white\", \"gridwidth\": 2, \"linecolor\": \"white\", \"showbackground\": true, \"ticks\": \"\", \"zerolinecolor\": \"white\"}, \"zaxis\": {\"backgroundcolor\": \"#E5ECF6\", \"gridcolor\": \"white\", \"gridwidth\": 2, \"linecolor\": \"white\", \"showbackground\": true, \"ticks\": \"\", \"zerolinecolor\": \"white\"}}, \"shapedefaults\": {\"line\": {\"color\": \"#2a3f5f\"}}, \"ternary\": {\"aaxis\": {\"gridcolor\": \"white\", \"linecolor\": \"white\", \"ticks\": \"\"}, \"baxis\": {\"gridcolor\": \"white\", \"linecolor\": \"white\", \"ticks\": \"\"}, \"bgcolor\": \"#E5ECF6\", \"caxis\": {\"gridcolor\": \"white\", \"linecolor\": \"white\", \"ticks\": \"\"}}, \"title\": {\"x\": 0.05}, \"xaxis\": {\"automargin\": true, \"gridcolor\": \"white\", \"linecolor\": \"white\", \"ticks\": \"\", \"zerolinecolor\": \"white\", \"zerolinewidth\": 2}, \"yaxis\": {\"automargin\": true, \"gridcolor\": \"white\", \"linecolor\": \"white\", \"ticks\": \"\", \"zerolinecolor\": \"white\", \"zerolinewidth\": 2}}}, \"title\": {\"text\": \"Karanataka Night Light Mean over the years\"}, \"xaxis\": {\"ticklen\": 5, \"title\": {\"text\": \"Year\"}, \"zeroline\": false}},\n",
       "                        {\"responsive\": true}\n",
       "                    ).then(function(){\n",
       "                            \n",
       "var gd = document.getElementById('b6c3f334-192f-423f-813a-83613e1b3095');\n",
       "var x = new MutationObserver(function (mutations, observer) {{\n",
       "        var display = window.getComputedStyle(gd).display;\n",
       "        if (!display || display === 'none') {{\n",
       "            console.log([gd, 'removed!']);\n",
       "            Plotly.purge(gd);\n",
       "            observer.disconnect();\n",
       "        }}\n",
       "}});\n",
       "\n",
       "// Listen for the removal of the full notebook cells\n",
       "var notebookContainer = gd.closest('#notebook-container');\n",
       "if (notebookContainer) {{\n",
       "    x.observe(notebookContainer, {childList: true});\n",
       "}}\n",
       "\n",
       "// Listen for the clearing of the current output cell\n",
       "var outputEl = gd.closest('.output');\n",
       "if (outputEl) {{\n",
       "    x.observe(outputEl, {childList: true});\n",
       "}}\n",
       "\n",
       "                        })\n",
       "                };\n",
       "                });\n",
       "            </script>\n",
       "        </div>"
      ]
     },
     "metadata": {},
     "output_type": "display_data"
    }
   ],
   "source": [
    "trace1 = go.Scatter(\n",
    "                    x = months,\n",
    "                    y = ka_mean/1000000,\n",
    "                    mode = \"lines+markers\",\n",
    "                    name = \"Karnataka Mean\",\n",
    "                    marker = dict(color = 'rgba(16, 112, 2, 0.8)'),\n",
    "                    text= 'Karnataka Mean')\n",
    "\n",
    "trace2 = go.Scatter(\n",
    "                    x = months,\n",
    "                    y = ka_gdp/250,\n",
    "                    mode = \"lines+markers\",\n",
    "                    name = \"KA GDP\",\n",
    "                    marker = dict(color = 'rgba(255, 0, 0, 0.8)'),\n",
    "                    text= 'KA GDP')\n",
    "\n",
    "data = [trace1, trace2]\n",
    "layout = dict(title = 'Karanataka Night Light Mean over the years',\n",
    "              xaxis= dict(title= 'Year',ticklen= 5,zeroline= False)\n",
    "             )\n",
    "fig = dict(data = data, layout = layout)\n",
    "iplot(fig)"
   ]
  },
  {
   "cell_type": "code",
   "execution_count": 186,
   "metadata": {},
   "outputs": [
    {
     "data": {
      "text/plain": [
       "array([[ 1.       , -0.3178973],\n",
       "       [-0.3178973,  1.       ]])"
      ]
     },
     "execution_count": 186,
     "metadata": {},
     "output_type": "execute_result"
    }
   ],
   "source": [
    "np.corrcoef(delta_gdp, delta_mean)"
   ]
  },
  {
   "cell_type": "code",
   "execution_count": 187,
   "metadata": {},
   "outputs": [
    {
     "data": {
      "text/plain": [
       "array([[ 1.        , -0.21479281],\n",
       "       [-0.21479281,  1.        ]])"
      ]
     },
     "execution_count": 187,
     "metadata": {},
     "output_type": "execute_result"
    }
   ],
   "source": []
  },
  {
   "cell_type": "code",
   "execution_count": 115,
   "metadata": {},
   "outputs": [
    {
     "data": {
      "text/plain": [
       "array([[1., 1.],\n",
       "       [1., 1.]])"
      ]
     },
     "execution_count": 115,
     "metadata": {},
     "output_type": "execute_result"
    }
   ],
   "source": [
    "np.corrcoef(np.array([1, 2, 3, 4, 5]), np.array([2, 3, 4, 5, 6]))"
   ]
  },
  {
   "cell_type": "code",
   "execution_count": 75,
   "metadata": {},
   "outputs": [
    {
     "data": {
      "text/plain": [
       "'HE'"
      ]
     },
     "execution_count": 75,
     "metadata": {},
     "output_type": "execute_result"
    }
   ],
   "source": [
    "a = \"HELLO\"\n",
    "a[0:2]"
   ]
  },
  {
   "cell_type": "code",
   "execution_count": 16,
   "metadata": {},
   "outputs": [],
   "source": [
    "city = 'blr'\n",
    "tile = 'h25v07'\n",
    "hemi = 'n'\n",
    "tile_var_name = 'h25'\n",
    "for mon in months:\n",
    "    command = city + \"_\" + mon + \" = extract_lat_long(lat_longs['\" + city + \"_lat'][0], lat_longs['\" + city + \"_long'][0], lat_longs['\" + city + \"_lat'][1], lat_longs['\" + city + \"_long'][1]\"\n",
    "    command = command + \", \" + mon + \"_\" + tile_var_name  + \", tiles_cords['\" + tile + \"'][0], tiles_cords['\" + tile + \"'][1], '\" + hemi + \"')\"\n",
    "    exec(command)"
   ]
  },
  {
   "cell_type": "code",
   "execution_count": 6,
   "metadata": {},
   "outputs": [],
   "source": [
    "city = 'blr'\n",
    "for mon in months:\n",
    "    command = city + '_' + mon + ' = clean_noise(' + city + '_' + mon+ ')'\n",
    "    exec(command)\n",
    "    "
   ]
  },
  {
   "cell_type": "code",
   "execution_count": 21,
   "metadata": {},
   "outputs": [],
   "source": [
    "plot_diff_filter(blr_mar, blr_feb)"
   ]
  },
  {
   "cell_type": "code",
   "execution_count": 74,
   "metadata": {},
   "outputs": [],
   "source": [
    "bench_mon = 'jan'\n",
    "command = \"com_filter = (\" + city + \"_\" + bench_mon + \">=500).astype('int')\"\n",
    "exec(command)\n",
    "command = \"adm_filter = ((\" + city + \"_\" + bench_mon + \" >= 190) & (\" + city + \"_\" + bench_mon + \" < 500)).astype('int')\"\n",
    "exec(command)\n",
    "command = \"res_filter = ((\" + city + \"_\" + bench_mon + \" >= 30) & (\" + city + \"_\" + bench_mon + \" < 190)).astype('int')\"\n",
    "exec(command)\n",
    "\n",
    "months = ['oct', 'nov', 'dec', 'jan', 'feb', 'mar', 'apr', 'may']\n",
    "com_num_track = []\n",
    "adm_num_track = []\n",
    "res_num_track = []\n",
    "city = 'blr'\n",
    "for fil in [com_num_track, adm_num_track, res_num_track]:\n",
    "\n",
    "    for month in months:\n",
    "        tile = eval(city + '_' + month)\n",
    "        if fil == com_num_track:\n",
    "            temp = np.multiply(tile>=500, com_filter)\n",
    "        elif fil == adm_num_track:\n",
    "            temp = np.multiply((tile>=190) & (tile<500), adm_filter)\n",
    "        else:\n",
    "            temp = np.multiply((tile>=30) & (tile<190), res_filter)\n",
    "        fil.append(temp.sum())\n",
    "\n",
    "#np.array(com_num_track), np.array(adm_num_track), np.array(res_num_track)"
   ]
  },
  {
   "cell_type": "code",
   "execution_count": 61,
   "metadata": {},
   "outputs": [
    {
     "data": {
      "application/vnd.plotly.v1+json": {
       "config": {
        "linkText": "Export to plot.ly",
        "plotlyServerURL": "https://plot.ly",
        "showLink": false
       },
       "data": [
        {
         "marker": {
          "color": "rgba(16, 112, 2, 0.8)"
         },
         "mode": "lines+markers",
         "name": "BLR COMMERCIAL COUNT",
         "text": "BLR COMMERCIAL COUNT",
         "type": "scatter",
         "x": [
          "oct",
          "nov",
          "dec",
          "jan",
          "feb",
          "mar",
          "apr",
          "may"
         ],
         "y": [
          164,
          908,
          1339,
          1806,
          1640,
          1104,
          650,
          159
         ]
        },
        {
         "marker": {
          "color": "rgba(255, 0, 0, 0.8)"
         },
         "mode": "lines+markers",
         "name": "BLR ADMINISTRATIVE COUNT",
         "text": "BLR ADM COUNT",
         "type": "scatter",
         "x": [
          "oct",
          "nov",
          "dec",
          "jan",
          "feb",
          "mar",
          "apr",
          "may"
         ],
         "y": [
          1118,
          1385,
          1364,
          1561,
          1336,
          1436,
          1325,
          1218
         ]
        },
        {
         "marker": {
          "color": "rgba(0, 0, 255, 0.8)"
         },
         "mode": "lines+markers",
         "name": "BLR RESIDENTIAL COUNT",
         "text": "BLR RES COUNT",
         "type": "scatter",
         "x": [
          "oct",
          "nov",
          "dec",
          "jan",
          "feb",
          "mar",
          "apr",
          "may"
         ],
         "y": [
          1894,
          1895,
          1869,
          1979,
          1892,
          1890,
          1941,
          1957
         ]
        }
       ],
       "layout": {
        "template": {
         "data": {
          "bar": [
           {
            "error_x": {
             "color": "#2a3f5f"
            },
            "error_y": {
             "color": "#2a3f5f"
            },
            "marker": {
             "line": {
              "color": "#E5ECF6",
              "width": 0.5
             }
            },
            "type": "bar"
           }
          ],
          "barpolar": [
           {
            "marker": {
             "line": {
              "color": "#E5ECF6",
              "width": 0.5
             }
            },
            "type": "barpolar"
           }
          ],
          "carpet": [
           {
            "aaxis": {
             "endlinecolor": "#2a3f5f",
             "gridcolor": "white",
             "linecolor": "white",
             "minorgridcolor": "white",
             "startlinecolor": "#2a3f5f"
            },
            "baxis": {
             "endlinecolor": "#2a3f5f",
             "gridcolor": "white",
             "linecolor": "white",
             "minorgridcolor": "white",
             "startlinecolor": "#2a3f5f"
            },
            "type": "carpet"
           }
          ],
          "choropleth": [
           {
            "colorbar": {
             "outlinewidth": 0,
             "ticks": ""
            },
            "type": "choropleth"
           }
          ],
          "contour": [
           {
            "colorbar": {
             "outlinewidth": 0,
             "ticks": ""
            },
            "colorscale": [
             [
              0,
              "#0d0887"
             ],
             [
              0.1111111111111111,
              "#46039f"
             ],
             [
              0.2222222222222222,
              "#7201a8"
             ],
             [
              0.3333333333333333,
              "#9c179e"
             ],
             [
              0.4444444444444444,
              "#bd3786"
             ],
             [
              0.5555555555555556,
              "#d8576b"
             ],
             [
              0.6666666666666666,
              "#ed7953"
             ],
             [
              0.7777777777777778,
              "#fb9f3a"
             ],
             [
              0.8888888888888888,
              "#fdca26"
             ],
             [
              1,
              "#f0f921"
             ]
            ],
            "type": "contour"
           }
          ],
          "contourcarpet": [
           {
            "colorbar": {
             "outlinewidth": 0,
             "ticks": ""
            },
            "type": "contourcarpet"
           }
          ],
          "heatmap": [
           {
            "colorbar": {
             "outlinewidth": 0,
             "ticks": ""
            },
            "colorscale": [
             [
              0,
              "#0d0887"
             ],
             [
              0.1111111111111111,
              "#46039f"
             ],
             [
              0.2222222222222222,
              "#7201a8"
             ],
             [
              0.3333333333333333,
              "#9c179e"
             ],
             [
              0.4444444444444444,
              "#bd3786"
             ],
             [
              0.5555555555555556,
              "#d8576b"
             ],
             [
              0.6666666666666666,
              "#ed7953"
             ],
             [
              0.7777777777777778,
              "#fb9f3a"
             ],
             [
              0.8888888888888888,
              "#fdca26"
             ],
             [
              1,
              "#f0f921"
             ]
            ],
            "type": "heatmap"
           }
          ],
          "heatmapgl": [
           {
            "colorbar": {
             "outlinewidth": 0,
             "ticks": ""
            },
            "colorscale": [
             [
              0,
              "#0d0887"
             ],
             [
              0.1111111111111111,
              "#46039f"
             ],
             [
              0.2222222222222222,
              "#7201a8"
             ],
             [
              0.3333333333333333,
              "#9c179e"
             ],
             [
              0.4444444444444444,
              "#bd3786"
             ],
             [
              0.5555555555555556,
              "#d8576b"
             ],
             [
              0.6666666666666666,
              "#ed7953"
             ],
             [
              0.7777777777777778,
              "#fb9f3a"
             ],
             [
              0.8888888888888888,
              "#fdca26"
             ],
             [
              1,
              "#f0f921"
             ]
            ],
            "type": "heatmapgl"
           }
          ],
          "histogram": [
           {
            "marker": {
             "colorbar": {
              "outlinewidth": 0,
              "ticks": ""
             }
            },
            "type": "histogram"
           }
          ],
          "histogram2d": [
           {
            "colorbar": {
             "outlinewidth": 0,
             "ticks": ""
            },
            "colorscale": [
             [
              0,
              "#0d0887"
             ],
             [
              0.1111111111111111,
              "#46039f"
             ],
             [
              0.2222222222222222,
              "#7201a8"
             ],
             [
              0.3333333333333333,
              "#9c179e"
             ],
             [
              0.4444444444444444,
              "#bd3786"
             ],
             [
              0.5555555555555556,
              "#d8576b"
             ],
             [
              0.6666666666666666,
              "#ed7953"
             ],
             [
              0.7777777777777778,
              "#fb9f3a"
             ],
             [
              0.8888888888888888,
              "#fdca26"
             ],
             [
              1,
              "#f0f921"
             ]
            ],
            "type": "histogram2d"
           }
          ],
          "histogram2dcontour": [
           {
            "colorbar": {
             "outlinewidth": 0,
             "ticks": ""
            },
            "colorscale": [
             [
              0,
              "#0d0887"
             ],
             [
              0.1111111111111111,
              "#46039f"
             ],
             [
              0.2222222222222222,
              "#7201a8"
             ],
             [
              0.3333333333333333,
              "#9c179e"
             ],
             [
              0.4444444444444444,
              "#bd3786"
             ],
             [
              0.5555555555555556,
              "#d8576b"
             ],
             [
              0.6666666666666666,
              "#ed7953"
             ],
             [
              0.7777777777777778,
              "#fb9f3a"
             ],
             [
              0.8888888888888888,
              "#fdca26"
             ],
             [
              1,
              "#f0f921"
             ]
            ],
            "type": "histogram2dcontour"
           }
          ],
          "mesh3d": [
           {
            "colorbar": {
             "outlinewidth": 0,
             "ticks": ""
            },
            "type": "mesh3d"
           }
          ],
          "parcoords": [
           {
            "line": {
             "colorbar": {
              "outlinewidth": 0,
              "ticks": ""
             }
            },
            "type": "parcoords"
           }
          ],
          "scatter": [
           {
            "marker": {
             "colorbar": {
              "outlinewidth": 0,
              "ticks": ""
             }
            },
            "type": "scatter"
           }
          ],
          "scatter3d": [
           {
            "line": {
             "colorbar": {
              "outlinewidth": 0,
              "ticks": ""
             }
            },
            "marker": {
             "colorbar": {
              "outlinewidth": 0,
              "ticks": ""
             }
            },
            "type": "scatter3d"
           }
          ],
          "scattercarpet": [
           {
            "marker": {
             "colorbar": {
              "outlinewidth": 0,
              "ticks": ""
             }
            },
            "type": "scattercarpet"
           }
          ],
          "scattergeo": [
           {
            "marker": {
             "colorbar": {
              "outlinewidth": 0,
              "ticks": ""
             }
            },
            "type": "scattergeo"
           }
          ],
          "scattergl": [
           {
            "marker": {
             "colorbar": {
              "outlinewidth": 0,
              "ticks": ""
             }
            },
            "type": "scattergl"
           }
          ],
          "scattermapbox": [
           {
            "marker": {
             "colorbar": {
              "outlinewidth": 0,
              "ticks": ""
             }
            },
            "type": "scattermapbox"
           }
          ],
          "scatterpolar": [
           {
            "marker": {
             "colorbar": {
              "outlinewidth": 0,
              "ticks": ""
             }
            },
            "type": "scatterpolar"
           }
          ],
          "scatterpolargl": [
           {
            "marker": {
             "colorbar": {
              "outlinewidth": 0,
              "ticks": ""
             }
            },
            "type": "scatterpolargl"
           }
          ],
          "scatterternary": [
           {
            "marker": {
             "colorbar": {
              "outlinewidth": 0,
              "ticks": ""
             }
            },
            "type": "scatterternary"
           }
          ],
          "surface": [
           {
            "colorbar": {
             "outlinewidth": 0,
             "ticks": ""
            },
            "colorscale": [
             [
              0,
              "#0d0887"
             ],
             [
              0.1111111111111111,
              "#46039f"
             ],
             [
              0.2222222222222222,
              "#7201a8"
             ],
             [
              0.3333333333333333,
              "#9c179e"
             ],
             [
              0.4444444444444444,
              "#bd3786"
             ],
             [
              0.5555555555555556,
              "#d8576b"
             ],
             [
              0.6666666666666666,
              "#ed7953"
             ],
             [
              0.7777777777777778,
              "#fb9f3a"
             ],
             [
              0.8888888888888888,
              "#fdca26"
             ],
             [
              1,
              "#f0f921"
             ]
            ],
            "type": "surface"
           }
          ],
          "table": [
           {
            "cells": {
             "fill": {
              "color": "#EBF0F8"
             },
             "line": {
              "color": "white"
             }
            },
            "header": {
             "fill": {
              "color": "#C8D4E3"
             },
             "line": {
              "color": "white"
             }
            },
            "type": "table"
           }
          ]
         },
         "layout": {
          "annotationdefaults": {
           "arrowcolor": "#2a3f5f",
           "arrowhead": 0,
           "arrowwidth": 1
          },
          "colorscale": {
           "diverging": [
            [
             0,
             "#8e0152"
            ],
            [
             0.1,
             "#c51b7d"
            ],
            [
             0.2,
             "#de77ae"
            ],
            [
             0.3,
             "#f1b6da"
            ],
            [
             0.4,
             "#fde0ef"
            ],
            [
             0.5,
             "#f7f7f7"
            ],
            [
             0.6,
             "#e6f5d0"
            ],
            [
             0.7,
             "#b8e186"
            ],
            [
             0.8,
             "#7fbc41"
            ],
            [
             0.9,
             "#4d9221"
            ],
            [
             1,
             "#276419"
            ]
           ],
           "sequential": [
            [
             0,
             "#0d0887"
            ],
            [
             0.1111111111111111,
             "#46039f"
            ],
            [
             0.2222222222222222,
             "#7201a8"
            ],
            [
             0.3333333333333333,
             "#9c179e"
            ],
            [
             0.4444444444444444,
             "#bd3786"
            ],
            [
             0.5555555555555556,
             "#d8576b"
            ],
            [
             0.6666666666666666,
             "#ed7953"
            ],
            [
             0.7777777777777778,
             "#fb9f3a"
            ],
            [
             0.8888888888888888,
             "#fdca26"
            ],
            [
             1,
             "#f0f921"
            ]
           ],
           "sequentialminus": [
            [
             0,
             "#0d0887"
            ],
            [
             0.1111111111111111,
             "#46039f"
            ],
            [
             0.2222222222222222,
             "#7201a8"
            ],
            [
             0.3333333333333333,
             "#9c179e"
            ],
            [
             0.4444444444444444,
             "#bd3786"
            ],
            [
             0.5555555555555556,
             "#d8576b"
            ],
            [
             0.6666666666666666,
             "#ed7953"
            ],
            [
             0.7777777777777778,
             "#fb9f3a"
            ],
            [
             0.8888888888888888,
             "#fdca26"
            ],
            [
             1,
             "#f0f921"
            ]
           ]
          },
          "colorway": [
           "#636efa",
           "#EF553B",
           "#00cc96",
           "#ab63fa",
           "#FFA15A",
           "#19d3f3",
           "#FF6692",
           "#B6E880",
           "#FF97FF",
           "#FECB52"
          ],
          "font": {
           "color": "#2a3f5f"
          },
          "geo": {
           "bgcolor": "white",
           "lakecolor": "white",
           "landcolor": "#E5ECF6",
           "showlakes": true,
           "showland": true,
           "subunitcolor": "white"
          },
          "hoverlabel": {
           "align": "left"
          },
          "hovermode": "closest",
          "mapbox": {
           "style": "light"
          },
          "paper_bgcolor": "white",
          "plot_bgcolor": "#E5ECF6",
          "polar": {
           "angularaxis": {
            "gridcolor": "white",
            "linecolor": "white",
            "ticks": ""
           },
           "bgcolor": "#E5ECF6",
           "radialaxis": {
            "gridcolor": "white",
            "linecolor": "white",
            "ticks": ""
           }
          },
          "scene": {
           "xaxis": {
            "backgroundcolor": "#E5ECF6",
            "gridcolor": "white",
            "gridwidth": 2,
            "linecolor": "white",
            "showbackground": true,
            "ticks": "",
            "zerolinecolor": "white"
           },
           "yaxis": {
            "backgroundcolor": "#E5ECF6",
            "gridcolor": "white",
            "gridwidth": 2,
            "linecolor": "white",
            "showbackground": true,
            "ticks": "",
            "zerolinecolor": "white"
           },
           "zaxis": {
            "backgroundcolor": "#E5ECF6",
            "gridcolor": "white",
            "gridwidth": 2,
            "linecolor": "white",
            "showbackground": true,
            "ticks": "",
            "zerolinecolor": "white"
           }
          },
          "shapedefaults": {
           "line": {
            "color": "#2a3f5f"
           }
          },
          "ternary": {
           "aaxis": {
            "gridcolor": "white",
            "linecolor": "white",
            "ticks": ""
           },
           "baxis": {
            "gridcolor": "white",
            "linecolor": "white",
            "ticks": ""
           },
           "bgcolor": "#E5ECF6",
           "caxis": {
            "gridcolor": "white",
            "linecolor": "white",
            "ticks": ""
           }
          },
          "title": {
           "x": 0.05
          },
          "xaxis": {
           "automargin": true,
           "gridcolor": "white",
           "linecolor": "white",
           "ticks": "",
           "zerolinecolor": "white",
           "zerolinewidth": 2
          },
          "yaxis": {
           "automargin": true,
           "gridcolor": "white",
           "linecolor": "white",
           "ticks": "",
           "zerolinecolor": "white",
           "zerolinewidth": 2
          }
         }
        },
        "title": {
         "text": "BLR Night Light Category Wise"
        },
        "xaxis": {
         "ticklen": 5,
         "title": {
          "text": "Month"
         },
         "zeroline": false
        }
       }
      },
      "text/html": [
       "<div>\n",
       "        \n",
       "        \n",
       "            <div id=\"6e82ff2e-472e-4124-8229-ddc44e548254\" class=\"plotly-graph-div\" style=\"height:525px; width:100%;\"></div>\n",
       "            <script type=\"text/javascript\">\n",
       "                require([\"plotly\"], function(Plotly) {\n",
       "                    window.PLOTLYENV=window.PLOTLYENV || {};\n",
       "                    \n",
       "                if (document.getElementById(\"6e82ff2e-472e-4124-8229-ddc44e548254\")) {\n",
       "                    Plotly.newPlot(\n",
       "                        '6e82ff2e-472e-4124-8229-ddc44e548254',\n",
       "                        [{\"marker\": {\"color\": \"rgba(16, 112, 2, 0.8)\"}, \"mode\": \"lines+markers\", \"name\": \"BLR COMMERCIAL COUNT\", \"text\": \"BLR COMMERCIAL COUNT\", \"type\": \"scatter\", \"x\": [\"oct\", \"nov\", \"dec\", \"jan\", \"feb\", \"mar\", \"apr\", \"may\"], \"y\": [164, 908, 1339, 1806, 1640, 1104, 650, 159]}, {\"marker\": {\"color\": \"rgba(255, 0, 0, 0.8)\"}, \"mode\": \"lines+markers\", \"name\": \"BLR ADMINISTRATIVE COUNT\", \"text\": \"BLR ADM COUNT\", \"type\": \"scatter\", \"x\": [\"oct\", \"nov\", \"dec\", \"jan\", \"feb\", \"mar\", \"apr\", \"may\"], \"y\": [1118, 1385, 1364, 1561, 1336, 1436, 1325, 1218]}, {\"marker\": {\"color\": \"rgba(0, 0, 255, 0.8)\"}, \"mode\": \"lines+markers\", \"name\": \"BLR RESIDENTIAL COUNT\", \"text\": \"BLR RES COUNT\", \"type\": \"scatter\", \"x\": [\"oct\", \"nov\", \"dec\", \"jan\", \"feb\", \"mar\", \"apr\", \"may\"], \"y\": [1894, 1895, 1869, 1979, 1892, 1890, 1941, 1957]}],\n",
       "                        {\"template\": {\"data\": {\"bar\": [{\"error_x\": {\"color\": \"#2a3f5f\"}, \"error_y\": {\"color\": \"#2a3f5f\"}, \"marker\": {\"line\": {\"color\": \"#E5ECF6\", \"width\": 0.5}}, \"type\": \"bar\"}], \"barpolar\": [{\"marker\": {\"line\": {\"color\": \"#E5ECF6\", \"width\": 0.5}}, \"type\": \"barpolar\"}], \"carpet\": [{\"aaxis\": {\"endlinecolor\": \"#2a3f5f\", \"gridcolor\": \"white\", \"linecolor\": \"white\", \"minorgridcolor\": \"white\", \"startlinecolor\": \"#2a3f5f\"}, \"baxis\": {\"endlinecolor\": \"#2a3f5f\", \"gridcolor\": \"white\", \"linecolor\": \"white\", \"minorgridcolor\": \"white\", \"startlinecolor\": \"#2a3f5f\"}, \"type\": \"carpet\"}], \"choropleth\": [{\"colorbar\": {\"outlinewidth\": 0, \"ticks\": \"\"}, \"type\": \"choropleth\"}], \"contour\": [{\"colorbar\": {\"outlinewidth\": 0, \"ticks\": \"\"}, \"colorscale\": [[0.0, \"#0d0887\"], [0.1111111111111111, \"#46039f\"], [0.2222222222222222, \"#7201a8\"], [0.3333333333333333, \"#9c179e\"], [0.4444444444444444, \"#bd3786\"], [0.5555555555555556, \"#d8576b\"], [0.6666666666666666, \"#ed7953\"], [0.7777777777777778, \"#fb9f3a\"], [0.8888888888888888, \"#fdca26\"], [1.0, \"#f0f921\"]], \"type\": \"contour\"}], \"contourcarpet\": [{\"colorbar\": {\"outlinewidth\": 0, \"ticks\": \"\"}, \"type\": \"contourcarpet\"}], \"heatmap\": [{\"colorbar\": {\"outlinewidth\": 0, \"ticks\": \"\"}, \"colorscale\": [[0.0, \"#0d0887\"], [0.1111111111111111, \"#46039f\"], [0.2222222222222222, \"#7201a8\"], [0.3333333333333333, \"#9c179e\"], [0.4444444444444444, \"#bd3786\"], [0.5555555555555556, \"#d8576b\"], [0.6666666666666666, \"#ed7953\"], [0.7777777777777778, \"#fb9f3a\"], [0.8888888888888888, \"#fdca26\"], [1.0, \"#f0f921\"]], \"type\": \"heatmap\"}], \"heatmapgl\": [{\"colorbar\": {\"outlinewidth\": 0, \"ticks\": \"\"}, \"colorscale\": [[0.0, \"#0d0887\"], [0.1111111111111111, \"#46039f\"], [0.2222222222222222, \"#7201a8\"], [0.3333333333333333, \"#9c179e\"], [0.4444444444444444, \"#bd3786\"], [0.5555555555555556, \"#d8576b\"], [0.6666666666666666, \"#ed7953\"], [0.7777777777777778, \"#fb9f3a\"], [0.8888888888888888, \"#fdca26\"], [1.0, \"#f0f921\"]], \"type\": \"heatmapgl\"}], \"histogram\": [{\"marker\": {\"colorbar\": {\"outlinewidth\": 0, \"ticks\": \"\"}}, \"type\": \"histogram\"}], \"histogram2d\": [{\"colorbar\": {\"outlinewidth\": 0, \"ticks\": \"\"}, \"colorscale\": [[0.0, \"#0d0887\"], [0.1111111111111111, \"#46039f\"], [0.2222222222222222, \"#7201a8\"], [0.3333333333333333, \"#9c179e\"], [0.4444444444444444, \"#bd3786\"], [0.5555555555555556, \"#d8576b\"], [0.6666666666666666, \"#ed7953\"], [0.7777777777777778, \"#fb9f3a\"], [0.8888888888888888, \"#fdca26\"], [1.0, \"#f0f921\"]], \"type\": \"histogram2d\"}], \"histogram2dcontour\": [{\"colorbar\": {\"outlinewidth\": 0, \"ticks\": \"\"}, \"colorscale\": [[0.0, \"#0d0887\"], [0.1111111111111111, \"#46039f\"], [0.2222222222222222, \"#7201a8\"], [0.3333333333333333, \"#9c179e\"], [0.4444444444444444, \"#bd3786\"], [0.5555555555555556, \"#d8576b\"], [0.6666666666666666, \"#ed7953\"], [0.7777777777777778, \"#fb9f3a\"], [0.8888888888888888, \"#fdca26\"], [1.0, \"#f0f921\"]], \"type\": \"histogram2dcontour\"}], \"mesh3d\": [{\"colorbar\": {\"outlinewidth\": 0, \"ticks\": \"\"}, \"type\": \"mesh3d\"}], \"parcoords\": [{\"line\": {\"colorbar\": {\"outlinewidth\": 0, \"ticks\": \"\"}}, \"type\": \"parcoords\"}], \"scatter\": [{\"marker\": {\"colorbar\": {\"outlinewidth\": 0, \"ticks\": \"\"}}, \"type\": \"scatter\"}], \"scatter3d\": [{\"line\": {\"colorbar\": {\"outlinewidth\": 0, \"ticks\": \"\"}}, \"marker\": {\"colorbar\": {\"outlinewidth\": 0, \"ticks\": \"\"}}, \"type\": \"scatter3d\"}], \"scattercarpet\": [{\"marker\": {\"colorbar\": {\"outlinewidth\": 0, \"ticks\": \"\"}}, \"type\": \"scattercarpet\"}], \"scattergeo\": [{\"marker\": {\"colorbar\": {\"outlinewidth\": 0, \"ticks\": \"\"}}, \"type\": \"scattergeo\"}], \"scattergl\": [{\"marker\": {\"colorbar\": {\"outlinewidth\": 0, \"ticks\": \"\"}}, \"type\": \"scattergl\"}], \"scattermapbox\": [{\"marker\": {\"colorbar\": {\"outlinewidth\": 0, \"ticks\": \"\"}}, \"type\": \"scattermapbox\"}], \"scatterpolar\": [{\"marker\": {\"colorbar\": {\"outlinewidth\": 0, \"ticks\": \"\"}}, \"type\": \"scatterpolar\"}], \"scatterpolargl\": [{\"marker\": {\"colorbar\": {\"outlinewidth\": 0, \"ticks\": \"\"}}, \"type\": \"scatterpolargl\"}], \"scatterternary\": [{\"marker\": {\"colorbar\": {\"outlinewidth\": 0, \"ticks\": \"\"}}, \"type\": \"scatterternary\"}], \"surface\": [{\"colorbar\": {\"outlinewidth\": 0, \"ticks\": \"\"}, \"colorscale\": [[0.0, \"#0d0887\"], [0.1111111111111111, \"#46039f\"], [0.2222222222222222, \"#7201a8\"], [0.3333333333333333, \"#9c179e\"], [0.4444444444444444, \"#bd3786\"], [0.5555555555555556, \"#d8576b\"], [0.6666666666666666, \"#ed7953\"], [0.7777777777777778, \"#fb9f3a\"], [0.8888888888888888, \"#fdca26\"], [1.0, \"#f0f921\"]], \"type\": \"surface\"}], \"table\": [{\"cells\": {\"fill\": {\"color\": \"#EBF0F8\"}, \"line\": {\"color\": \"white\"}}, \"header\": {\"fill\": {\"color\": \"#C8D4E3\"}, \"line\": {\"color\": \"white\"}}, \"type\": \"table\"}]}, \"layout\": {\"annotationdefaults\": {\"arrowcolor\": \"#2a3f5f\", \"arrowhead\": 0, \"arrowwidth\": 1}, \"colorscale\": {\"diverging\": [[0, \"#8e0152\"], [0.1, \"#c51b7d\"], [0.2, \"#de77ae\"], [0.3, \"#f1b6da\"], [0.4, \"#fde0ef\"], [0.5, \"#f7f7f7\"], [0.6, \"#e6f5d0\"], [0.7, \"#b8e186\"], [0.8, \"#7fbc41\"], [0.9, \"#4d9221\"], [1, \"#276419\"]], \"sequential\": [[0.0, \"#0d0887\"], [0.1111111111111111, \"#46039f\"], [0.2222222222222222, \"#7201a8\"], [0.3333333333333333, \"#9c179e\"], [0.4444444444444444, \"#bd3786\"], [0.5555555555555556, \"#d8576b\"], [0.6666666666666666, \"#ed7953\"], [0.7777777777777778, \"#fb9f3a\"], [0.8888888888888888, \"#fdca26\"], [1.0, \"#f0f921\"]], \"sequentialminus\": [[0.0, \"#0d0887\"], [0.1111111111111111, \"#46039f\"], [0.2222222222222222, \"#7201a8\"], [0.3333333333333333, \"#9c179e\"], [0.4444444444444444, \"#bd3786\"], [0.5555555555555556, \"#d8576b\"], [0.6666666666666666, \"#ed7953\"], [0.7777777777777778, \"#fb9f3a\"], [0.8888888888888888, \"#fdca26\"], [1.0, \"#f0f921\"]]}, \"colorway\": [\"#636efa\", \"#EF553B\", \"#00cc96\", \"#ab63fa\", \"#FFA15A\", \"#19d3f3\", \"#FF6692\", \"#B6E880\", \"#FF97FF\", \"#FECB52\"], \"font\": {\"color\": \"#2a3f5f\"}, \"geo\": {\"bgcolor\": \"white\", \"lakecolor\": \"white\", \"landcolor\": \"#E5ECF6\", \"showlakes\": true, \"showland\": true, \"subunitcolor\": \"white\"}, \"hoverlabel\": {\"align\": \"left\"}, \"hovermode\": \"closest\", \"mapbox\": {\"style\": \"light\"}, \"paper_bgcolor\": \"white\", \"plot_bgcolor\": \"#E5ECF6\", \"polar\": {\"angularaxis\": {\"gridcolor\": \"white\", \"linecolor\": \"white\", \"ticks\": \"\"}, \"bgcolor\": \"#E5ECF6\", \"radialaxis\": {\"gridcolor\": \"white\", \"linecolor\": \"white\", \"ticks\": \"\"}}, \"scene\": {\"xaxis\": {\"backgroundcolor\": \"#E5ECF6\", \"gridcolor\": \"white\", \"gridwidth\": 2, \"linecolor\": \"white\", \"showbackground\": true, \"ticks\": \"\", \"zerolinecolor\": \"white\"}, \"yaxis\": {\"backgroundcolor\": \"#E5ECF6\", \"gridcolor\": \"white\", \"gridwidth\": 2, \"linecolor\": \"white\", \"showbackground\": true, \"ticks\": \"\", \"zerolinecolor\": \"white\"}, \"zaxis\": {\"backgroundcolor\": \"#E5ECF6\", \"gridcolor\": \"white\", \"gridwidth\": 2, \"linecolor\": \"white\", \"showbackground\": true, \"ticks\": \"\", \"zerolinecolor\": \"white\"}}, \"shapedefaults\": {\"line\": {\"color\": \"#2a3f5f\"}}, \"ternary\": {\"aaxis\": {\"gridcolor\": \"white\", \"linecolor\": \"white\", \"ticks\": \"\"}, \"baxis\": {\"gridcolor\": \"white\", \"linecolor\": \"white\", \"ticks\": \"\"}, \"bgcolor\": \"#E5ECF6\", \"caxis\": {\"gridcolor\": \"white\", \"linecolor\": \"white\", \"ticks\": \"\"}}, \"title\": {\"x\": 0.05}, \"xaxis\": {\"automargin\": true, \"gridcolor\": \"white\", \"linecolor\": \"white\", \"ticks\": \"\", \"zerolinecolor\": \"white\", \"zerolinewidth\": 2}, \"yaxis\": {\"automargin\": true, \"gridcolor\": \"white\", \"linecolor\": \"white\", \"ticks\": \"\", \"zerolinecolor\": \"white\", \"zerolinewidth\": 2}}}, \"title\": {\"text\": \"BLR Night Light Category Wise\"}, \"xaxis\": {\"ticklen\": 5, \"title\": {\"text\": \"Month\"}, \"zeroline\": false}},\n",
       "                        {\"responsive\": true}\n",
       "                    ).then(function(){\n",
       "                            \n",
       "var gd = document.getElementById('6e82ff2e-472e-4124-8229-ddc44e548254');\n",
       "var x = new MutationObserver(function (mutations, observer) {{\n",
       "        var display = window.getComputedStyle(gd).display;\n",
       "        if (!display || display === 'none') {{\n",
       "            console.log([gd, 'removed!']);\n",
       "            Plotly.purge(gd);\n",
       "            observer.disconnect();\n",
       "        }}\n",
       "}});\n",
       "\n",
       "// Listen for the removal of the full notebook cells\n",
       "var notebookContainer = gd.closest('#notebook-container');\n",
       "if (notebookContainer) {{\n",
       "    x.observe(notebookContainer, {childList: true});\n",
       "}}\n",
       "\n",
       "// Listen for the clearing of the current output cell\n",
       "var outputEl = gd.closest('.output');\n",
       "if (outputEl) {{\n",
       "    x.observe(outputEl, {childList: true});\n",
       "}}\n",
       "\n",
       "                        })\n",
       "                };\n",
       "                });\n",
       "            </script>\n",
       "        </div>"
      ]
     },
     "metadata": {},
     "output_type": "display_data"
    }
   ],
   "source": [
    "trace1 = go.Scatter(\n",
    "                    x = months,\n",
    "                    y = com_num_track,\n",
    "                    mode = \"lines+markers\",\n",
    "                    name = \"BLR COMMERCIAL COUNT\",\n",
    "                    marker = dict(color = 'rgba(16, 112, 2, 0.8)'),\n",
    "                    text= 'BLR COMMERCIAL COUNT')\n",
    "\n",
    "trace2 = go.Scatter(\n",
    "                    x = months,\n",
    "                    y = adm_num_track,\n",
    "                    mode = \"lines+markers\",\n",
    "                    name = \"BLR ADMINISTRATIVE COUNT\",\n",
    "                    marker = dict(color = 'rgba(255, 0, 0, 0.8)'),\n",
    "                    text= 'BLR ADM COUNT')\n",
    "\n",
    "trace3 = go.Scatter(\n",
    "                    x = months,\n",
    "                    y = res_num_track,\n",
    "                    mode = \"lines+markers\",\n",
    "                    name = \"BLR RESIDENTIAL COUNT\",\n",
    "                    marker = dict(color = 'rgba(0, 0, 255, 0.8)'),\n",
    "                    text= 'BLR RES COUNT')\n",
    "\n",
    "\n",
    "data = [trace1, trace2, trace3]\n",
    "layout = dict(title = 'BLR Night Light Category Wise',\n",
    "              xaxis= dict(title= 'Month',ticklen= 5,zeroline= False)\n",
    "             )\n",
    "fig = dict(data = data, layout = layout)\n",
    "iplot(fig)"
   ]
  },
  {
   "cell_type": "code",
   "execution_count": 45,
   "metadata": {},
   "outputs": [],
   "source": [
    "city = 'blr'\n",
    "bench_mon = 'jan'\n",
    "command = \"com_filter = (\" + city + \"_\" + bench_mon + \" >= 500).astype('int')\"\n",
    "exec(command)\n",
    "\n",
    "for mon in months:\n",
    "    command = mon + \"_com = np.multiply(\" + city + \"_\" + mon + \", com_filter)\" \n",
    "    exec(command)\n",
    "\n",
    "command = city + \"_com_tracking = [];\"\n",
    "for mon in months:\n",
    "    command += city + \"_com_tracking.append(single_loc_mean(\" + mon + \"_com));\"\n",
    "exec(command)"
   ]
  },
  {
   "cell_type": "code",
   "execution_count": 55,
   "metadata": {},
   "outputs": [],
   "source": [
    "city = 'blr'\n",
    "bench_mon = 'jan'\n",
    "\n",
    "command = \"adm_filter = ((\" + city + \"_\" + bench_mon + \" >= 190) & (\" + city + \"_\" + bench_mon + \" < 500)).astype('int')\"\n",
    "exec(command)\n",
    "\n",
    "for mon in months:\n",
    "    command = mon + \"_adm = np.multiply(\" + city + \"_\" + mon + \", adm_filter)\" \n",
    "    exec(command)\n",
    "\n",
    "command = city + \"_adm_tracking = [];\"\n",
    "for mon in months:\n",
    "    command += city + \"_adm_tracking.append(single_loc_mean(\" + mon + \"_adm));\"\n",
    "exec(command)"
   ]
  },
  {
   "cell_type": "code",
   "execution_count": 57,
   "metadata": {},
   "outputs": [],
   "source": [
    "city = 'blr'\n",
    "bench_mon = 'jan'\n",
    "\n",
    "command = \"res_filter = ((\" + city + \"_\" + bench_mon + \" >= 30) & (\" + city + \"_\" + bench_mon + \" < 190)).astype('int')\"\n",
    "exec(command)\n",
    "\n",
    "for mon in months:\n",
    "    command = mon + \"_res = np.multiply(\" + city + \"_\" + mon + \", res_filter)\" \n",
    "    exec(command)\n",
    "\n",
    "command = city + \"_res_tracking = [];\"\n",
    "for mon in months:\n",
    "    command += city + \"_res_tracking.append(single_loc_mean(\" + mon + \"_res));\"\n",
    "exec(command)"
   ]
  },
  {
   "cell_type": "code",
   "execution_count": 78,
   "metadata": {},
   "outputs": [
    {
     "data": {
      "application/vnd.plotly.v1+json": {
       "config": {
        "plotlyServerURL": "https://plot.ly"
       },
       "data": [
        {
         "marker": {
          "color": "rgba(0, 0, 0, 0.8)"
         },
         "mode": "lines+markers",
         "name": "BLR COMMERCIAL TRACKING",
         "text": "BLR COMM Tracking",
         "type": "scatter",
         "x": [
          "oct",
          "nov",
          "dec",
          "jan",
          "feb",
          "mar",
          "apr",
          "may"
         ],
         "y": [
          123.07651911119918,
          160.89987366543636,
          186.67413114023137,
          214.1215784389011,
          208.42039683915877,
          171.8494389259085,
          147.68302410265304,
          123.97815155193341
         ]
        },
        {
         "marker": {
          "color": "rgba(255, 255, 0, 0.8)"
         },
         "mode": "lines+markers",
         "name": "BLR ADMINISTRATIVE TRACKING",
         "text": "BLR ADM Tracking",
         "type": "scatter",
         "x": [
          "oct",
          "nov",
          "dec",
          "jan",
          "feb",
          "mar",
          "apr",
          "may"
         ],
         "y": [
          62.56015754663231,
          79.58359136961529,
          84.92362951769924,
          94.14803438281851,
          93.43139537764127,
          83.41455076915454,
          71.87921424855705,
          64.60866011048081
         ]
        },
        {
         "marker": {
          "color": "rgba(255, 20, 147, 0.8)"
         },
         "mode": "lines+markers",
         "name": "BLR RESIDENTIAL TRACKING",
         "text": "BLR RES Tracking",
         "type": "scatter",
         "x": [
          "oct",
          "nov",
          "dec",
          "jan",
          "feb",
          "mar",
          "apr",
          "may"
         ],
         "y": [
          27.318883301543263,
          30.058188213728354,
          29.526641730040375,
          30.09965567638534,
          32.10101810795412,
          33.9685154450197,
          31.08878099531819,
          30.725531967598897
         ]
        }
       ],
       "layout": {
        "template": {
         "data": {
          "bar": [
           {
            "error_x": {
             "color": "#2a3f5f"
            },
            "error_y": {
             "color": "#2a3f5f"
            },
            "marker": {
             "line": {
              "color": "#E5ECF6",
              "width": 0.5
             }
            },
            "type": "bar"
           }
          ],
          "barpolar": [
           {
            "marker": {
             "line": {
              "color": "#E5ECF6",
              "width": 0.5
             }
            },
            "type": "barpolar"
           }
          ],
          "carpet": [
           {
            "aaxis": {
             "endlinecolor": "#2a3f5f",
             "gridcolor": "white",
             "linecolor": "white",
             "minorgridcolor": "white",
             "startlinecolor": "#2a3f5f"
            },
            "baxis": {
             "endlinecolor": "#2a3f5f",
             "gridcolor": "white",
             "linecolor": "white",
             "minorgridcolor": "white",
             "startlinecolor": "#2a3f5f"
            },
            "type": "carpet"
           }
          ],
          "choropleth": [
           {
            "colorbar": {
             "outlinewidth": 0,
             "ticks": ""
            },
            "type": "choropleth"
           }
          ],
          "contour": [
           {
            "colorbar": {
             "outlinewidth": 0,
             "ticks": ""
            },
            "colorscale": [
             [
              0,
              "#0d0887"
             ],
             [
              0.1111111111111111,
              "#46039f"
             ],
             [
              0.2222222222222222,
              "#7201a8"
             ],
             [
              0.3333333333333333,
              "#9c179e"
             ],
             [
              0.4444444444444444,
              "#bd3786"
             ],
             [
              0.5555555555555556,
              "#d8576b"
             ],
             [
              0.6666666666666666,
              "#ed7953"
             ],
             [
              0.7777777777777778,
              "#fb9f3a"
             ],
             [
              0.8888888888888888,
              "#fdca26"
             ],
             [
              1,
              "#f0f921"
             ]
            ],
            "type": "contour"
           }
          ],
          "contourcarpet": [
           {
            "colorbar": {
             "outlinewidth": 0,
             "ticks": ""
            },
            "type": "contourcarpet"
           }
          ],
          "heatmap": [
           {
            "colorbar": {
             "outlinewidth": 0,
             "ticks": ""
            },
            "colorscale": [
             [
              0,
              "#0d0887"
             ],
             [
              0.1111111111111111,
              "#46039f"
             ],
             [
              0.2222222222222222,
              "#7201a8"
             ],
             [
              0.3333333333333333,
              "#9c179e"
             ],
             [
              0.4444444444444444,
              "#bd3786"
             ],
             [
              0.5555555555555556,
              "#d8576b"
             ],
             [
              0.6666666666666666,
              "#ed7953"
             ],
             [
              0.7777777777777778,
              "#fb9f3a"
             ],
             [
              0.8888888888888888,
              "#fdca26"
             ],
             [
              1,
              "#f0f921"
             ]
            ],
            "type": "heatmap"
           }
          ],
          "heatmapgl": [
           {
            "colorbar": {
             "outlinewidth": 0,
             "ticks": ""
            },
            "colorscale": [
             [
              0,
              "#0d0887"
             ],
             [
              0.1111111111111111,
              "#46039f"
             ],
             [
              0.2222222222222222,
              "#7201a8"
             ],
             [
              0.3333333333333333,
              "#9c179e"
             ],
             [
              0.4444444444444444,
              "#bd3786"
             ],
             [
              0.5555555555555556,
              "#d8576b"
             ],
             [
              0.6666666666666666,
              "#ed7953"
             ],
             [
              0.7777777777777778,
              "#fb9f3a"
             ],
             [
              0.8888888888888888,
              "#fdca26"
             ],
             [
              1,
              "#f0f921"
             ]
            ],
            "type": "heatmapgl"
           }
          ],
          "histogram": [
           {
            "marker": {
             "colorbar": {
              "outlinewidth": 0,
              "ticks": ""
             }
            },
            "type": "histogram"
           }
          ],
          "histogram2d": [
           {
            "colorbar": {
             "outlinewidth": 0,
             "ticks": ""
            },
            "colorscale": [
             [
              0,
              "#0d0887"
             ],
             [
              0.1111111111111111,
              "#46039f"
             ],
             [
              0.2222222222222222,
              "#7201a8"
             ],
             [
              0.3333333333333333,
              "#9c179e"
             ],
             [
              0.4444444444444444,
              "#bd3786"
             ],
             [
              0.5555555555555556,
              "#d8576b"
             ],
             [
              0.6666666666666666,
              "#ed7953"
             ],
             [
              0.7777777777777778,
              "#fb9f3a"
             ],
             [
              0.8888888888888888,
              "#fdca26"
             ],
             [
              1,
              "#f0f921"
             ]
            ],
            "type": "histogram2d"
           }
          ],
          "histogram2dcontour": [
           {
            "colorbar": {
             "outlinewidth": 0,
             "ticks": ""
            },
            "colorscale": [
             [
              0,
              "#0d0887"
             ],
             [
              0.1111111111111111,
              "#46039f"
             ],
             [
              0.2222222222222222,
              "#7201a8"
             ],
             [
              0.3333333333333333,
              "#9c179e"
             ],
             [
              0.4444444444444444,
              "#bd3786"
             ],
             [
              0.5555555555555556,
              "#d8576b"
             ],
             [
              0.6666666666666666,
              "#ed7953"
             ],
             [
              0.7777777777777778,
              "#fb9f3a"
             ],
             [
              0.8888888888888888,
              "#fdca26"
             ],
             [
              1,
              "#f0f921"
             ]
            ],
            "type": "histogram2dcontour"
           }
          ],
          "mesh3d": [
           {
            "colorbar": {
             "outlinewidth": 0,
             "ticks": ""
            },
            "type": "mesh3d"
           }
          ],
          "parcoords": [
           {
            "line": {
             "colorbar": {
              "outlinewidth": 0,
              "ticks": ""
             }
            },
            "type": "parcoords"
           }
          ],
          "scatter": [
           {
            "marker": {
             "colorbar": {
              "outlinewidth": 0,
              "ticks": ""
             }
            },
            "type": "scatter"
           }
          ],
          "scatter3d": [
           {
            "line": {
             "colorbar": {
              "outlinewidth": 0,
              "ticks": ""
             }
            },
            "marker": {
             "colorbar": {
              "outlinewidth": 0,
              "ticks": ""
             }
            },
            "type": "scatter3d"
           }
          ],
          "scattercarpet": [
           {
            "marker": {
             "colorbar": {
              "outlinewidth": 0,
              "ticks": ""
             }
            },
            "type": "scattercarpet"
           }
          ],
          "scattergeo": [
           {
            "marker": {
             "colorbar": {
              "outlinewidth": 0,
              "ticks": ""
             }
            },
            "type": "scattergeo"
           }
          ],
          "scattergl": [
           {
            "marker": {
             "colorbar": {
              "outlinewidth": 0,
              "ticks": ""
             }
            },
            "type": "scattergl"
           }
          ],
          "scattermapbox": [
           {
            "marker": {
             "colorbar": {
              "outlinewidth": 0,
              "ticks": ""
             }
            },
            "type": "scattermapbox"
           }
          ],
          "scatterpolar": [
           {
            "marker": {
             "colorbar": {
              "outlinewidth": 0,
              "ticks": ""
             }
            },
            "type": "scatterpolar"
           }
          ],
          "scatterpolargl": [
           {
            "marker": {
             "colorbar": {
              "outlinewidth": 0,
              "ticks": ""
             }
            },
            "type": "scatterpolargl"
           }
          ],
          "scatterternary": [
           {
            "marker": {
             "colorbar": {
              "outlinewidth": 0,
              "ticks": ""
             }
            },
            "type": "scatterternary"
           }
          ],
          "surface": [
           {
            "colorbar": {
             "outlinewidth": 0,
             "ticks": ""
            },
            "colorscale": [
             [
              0,
              "#0d0887"
             ],
             [
              0.1111111111111111,
              "#46039f"
             ],
             [
              0.2222222222222222,
              "#7201a8"
             ],
             [
              0.3333333333333333,
              "#9c179e"
             ],
             [
              0.4444444444444444,
              "#bd3786"
             ],
             [
              0.5555555555555556,
              "#d8576b"
             ],
             [
              0.6666666666666666,
              "#ed7953"
             ],
             [
              0.7777777777777778,
              "#fb9f3a"
             ],
             [
              0.8888888888888888,
              "#fdca26"
             ],
             [
              1,
              "#f0f921"
             ]
            ],
            "type": "surface"
           }
          ],
          "table": [
           {
            "cells": {
             "fill": {
              "color": "#EBF0F8"
             },
             "line": {
              "color": "white"
             }
            },
            "header": {
             "fill": {
              "color": "#C8D4E3"
             },
             "line": {
              "color": "white"
             }
            },
            "type": "table"
           }
          ]
         },
         "layout": {
          "annotationdefaults": {
           "arrowcolor": "#2a3f5f",
           "arrowhead": 0,
           "arrowwidth": 1
          },
          "colorscale": {
           "diverging": [
            [
             0,
             "#8e0152"
            ],
            [
             0.1,
             "#c51b7d"
            ],
            [
             0.2,
             "#de77ae"
            ],
            [
             0.3,
             "#f1b6da"
            ],
            [
             0.4,
             "#fde0ef"
            ],
            [
             0.5,
             "#f7f7f7"
            ],
            [
             0.6,
             "#e6f5d0"
            ],
            [
             0.7,
             "#b8e186"
            ],
            [
             0.8,
             "#7fbc41"
            ],
            [
             0.9,
             "#4d9221"
            ],
            [
             1,
             "#276419"
            ]
           ],
           "sequential": [
            [
             0,
             "#0d0887"
            ],
            [
             0.1111111111111111,
             "#46039f"
            ],
            [
             0.2222222222222222,
             "#7201a8"
            ],
            [
             0.3333333333333333,
             "#9c179e"
            ],
            [
             0.4444444444444444,
             "#bd3786"
            ],
            [
             0.5555555555555556,
             "#d8576b"
            ],
            [
             0.6666666666666666,
             "#ed7953"
            ],
            [
             0.7777777777777778,
             "#fb9f3a"
            ],
            [
             0.8888888888888888,
             "#fdca26"
            ],
            [
             1,
             "#f0f921"
            ]
           ],
           "sequentialminus": [
            [
             0,
             "#0d0887"
            ],
            [
             0.1111111111111111,
             "#46039f"
            ],
            [
             0.2222222222222222,
             "#7201a8"
            ],
            [
             0.3333333333333333,
             "#9c179e"
            ],
            [
             0.4444444444444444,
             "#bd3786"
            ],
            [
             0.5555555555555556,
             "#d8576b"
            ],
            [
             0.6666666666666666,
             "#ed7953"
            ],
            [
             0.7777777777777778,
             "#fb9f3a"
            ],
            [
             0.8888888888888888,
             "#fdca26"
            ],
            [
             1,
             "#f0f921"
            ]
           ]
          },
          "colorway": [
           "#636efa",
           "#EF553B",
           "#00cc96",
           "#ab63fa",
           "#FFA15A",
           "#19d3f3",
           "#FF6692",
           "#B6E880",
           "#FF97FF",
           "#FECB52"
          ],
          "font": {
           "color": "#2a3f5f"
          },
          "geo": {
           "bgcolor": "white",
           "lakecolor": "white",
           "landcolor": "#E5ECF6",
           "showlakes": true,
           "showland": true,
           "subunitcolor": "white"
          },
          "hoverlabel": {
           "align": "left"
          },
          "hovermode": "closest",
          "mapbox": {
           "style": "light"
          },
          "paper_bgcolor": "white",
          "plot_bgcolor": "#E5ECF6",
          "polar": {
           "angularaxis": {
            "gridcolor": "white",
            "linecolor": "white",
            "ticks": ""
           },
           "bgcolor": "#E5ECF6",
           "radialaxis": {
            "gridcolor": "white",
            "linecolor": "white",
            "ticks": ""
           }
          },
          "scene": {
           "xaxis": {
            "backgroundcolor": "#E5ECF6",
            "gridcolor": "white",
            "gridwidth": 2,
            "linecolor": "white",
            "showbackground": true,
            "ticks": "",
            "zerolinecolor": "white"
           },
           "yaxis": {
            "backgroundcolor": "#E5ECF6",
            "gridcolor": "white",
            "gridwidth": 2,
            "linecolor": "white",
            "showbackground": true,
            "ticks": "",
            "zerolinecolor": "white"
           },
           "zaxis": {
            "backgroundcolor": "#E5ECF6",
            "gridcolor": "white",
            "gridwidth": 2,
            "linecolor": "white",
            "showbackground": true,
            "ticks": "",
            "zerolinecolor": "white"
           }
          },
          "shapedefaults": {
           "line": {
            "color": "#2a3f5f"
           }
          },
          "ternary": {
           "aaxis": {
            "gridcolor": "white",
            "linecolor": "white",
            "ticks": ""
           },
           "baxis": {
            "gridcolor": "white",
            "linecolor": "white",
            "ticks": ""
           },
           "bgcolor": "#E5ECF6",
           "caxis": {
            "gridcolor": "white",
            "linecolor": "white",
            "ticks": ""
           }
          },
          "title": {
           "x": 0.05
          },
          "xaxis": {
           "automargin": true,
           "gridcolor": "white",
           "linecolor": "white",
           "ticks": "",
           "zerolinecolor": "white",
           "zerolinewidth": 2
          },
          "yaxis": {
           "automargin": true,
           "gridcolor": "white",
           "linecolor": "white",
           "ticks": "",
           "zerolinecolor": "white",
           "zerolinewidth": 2
          }
         }
        },
        "title": {
         "text": "BLR Night Light Category Wise"
        },
        "xaxis": {
         "ticklen": 5,
         "title": {
          "text": "Month"
         },
         "zeroline": false
        }
       }
      },
      "text/html": [
       "<div>\n",
       "        \n",
       "        \n",
       "            <div id=\"0061e801-e6f8-44e3-943a-9f0fcc66e41b\" class=\"plotly-graph-div\" style=\"height:525px; width:100%;\"></div>\n",
       "            <script type=\"text/javascript\">\n",
       "                require([\"plotly\"], function(Plotly) {\n",
       "                    window.PLOTLYENV=window.PLOTLYENV || {};\n",
       "                    \n",
       "                if (document.getElementById(\"0061e801-e6f8-44e3-943a-9f0fcc66e41b\")) {\n",
       "                    Plotly.newPlot(\n",
       "                        '0061e801-e6f8-44e3-943a-9f0fcc66e41b',\n",
       "                        [{\"marker\": {\"color\": \"rgba(0, 0, 0, 0.8)\"}, \"mode\": \"lines+markers\", \"name\": \"BLR COMMERCIAL TRACKING\", \"text\": \"BLR COMM Tracking\", \"type\": \"scatter\", \"x\": [\"oct\", \"nov\", \"dec\", \"jan\", \"feb\", \"mar\", \"apr\", \"may\"], \"y\": [123.07651911119918, 160.89987366543636, 186.67413114023137, 214.1215784389011, 208.42039683915877, 171.8494389259085, 147.68302410265304, 123.97815155193341]}, {\"marker\": {\"color\": \"rgba(255, 255, 0, 0.8)\"}, \"mode\": \"lines+markers\", \"name\": \"BLR ADMINISTRATIVE TRACKING\", \"text\": \"BLR ADM Tracking\", \"type\": \"scatter\", \"x\": [\"oct\", \"nov\", \"dec\", \"jan\", \"feb\", \"mar\", \"apr\", \"may\"], \"y\": [62.56015754663231, 79.58359136961529, 84.92362951769924, 94.14803438281851, 93.43139537764127, 83.41455076915454, 71.87921424855705, 64.60866011048081]}, {\"marker\": {\"color\": \"rgba(255, 20, 147, 0.8)\"}, \"mode\": \"lines+markers\", \"name\": \"BLR RESIDENTIAL TRACKING\", \"text\": \"BLR RES Tracking\", \"type\": \"scatter\", \"x\": [\"oct\", \"nov\", \"dec\", \"jan\", \"feb\", \"mar\", \"apr\", \"may\"], \"y\": [27.318883301543263, 30.058188213728354, 29.526641730040375, 30.09965567638534, 32.10101810795412, 33.9685154450197, 31.08878099531819, 30.725531967598897]}],\n",
       "                        {\"template\": {\"data\": {\"bar\": [{\"error_x\": {\"color\": \"#2a3f5f\"}, \"error_y\": {\"color\": \"#2a3f5f\"}, \"marker\": {\"line\": {\"color\": \"#E5ECF6\", \"width\": 0.5}}, \"type\": \"bar\"}], \"barpolar\": [{\"marker\": {\"line\": {\"color\": \"#E5ECF6\", \"width\": 0.5}}, \"type\": \"barpolar\"}], \"carpet\": [{\"aaxis\": {\"endlinecolor\": \"#2a3f5f\", \"gridcolor\": \"white\", \"linecolor\": \"white\", \"minorgridcolor\": \"white\", \"startlinecolor\": \"#2a3f5f\"}, \"baxis\": {\"endlinecolor\": \"#2a3f5f\", \"gridcolor\": \"white\", \"linecolor\": \"white\", \"minorgridcolor\": \"white\", \"startlinecolor\": \"#2a3f5f\"}, \"type\": \"carpet\"}], \"choropleth\": [{\"colorbar\": {\"outlinewidth\": 0, \"ticks\": \"\"}, \"type\": \"choropleth\"}], \"contour\": [{\"colorbar\": {\"outlinewidth\": 0, \"ticks\": \"\"}, \"colorscale\": [[0.0, \"#0d0887\"], [0.1111111111111111, \"#46039f\"], [0.2222222222222222, \"#7201a8\"], [0.3333333333333333, \"#9c179e\"], [0.4444444444444444, \"#bd3786\"], [0.5555555555555556, \"#d8576b\"], [0.6666666666666666, \"#ed7953\"], [0.7777777777777778, \"#fb9f3a\"], [0.8888888888888888, \"#fdca26\"], [1.0, \"#f0f921\"]], \"type\": \"contour\"}], \"contourcarpet\": [{\"colorbar\": {\"outlinewidth\": 0, \"ticks\": \"\"}, \"type\": \"contourcarpet\"}], \"heatmap\": [{\"colorbar\": {\"outlinewidth\": 0, \"ticks\": \"\"}, \"colorscale\": [[0.0, \"#0d0887\"], [0.1111111111111111, \"#46039f\"], [0.2222222222222222, \"#7201a8\"], [0.3333333333333333, \"#9c179e\"], [0.4444444444444444, \"#bd3786\"], [0.5555555555555556, \"#d8576b\"], [0.6666666666666666, \"#ed7953\"], [0.7777777777777778, \"#fb9f3a\"], [0.8888888888888888, \"#fdca26\"], [1.0, \"#f0f921\"]], \"type\": \"heatmap\"}], \"heatmapgl\": [{\"colorbar\": {\"outlinewidth\": 0, \"ticks\": \"\"}, \"colorscale\": [[0.0, \"#0d0887\"], [0.1111111111111111, \"#46039f\"], [0.2222222222222222, \"#7201a8\"], [0.3333333333333333, \"#9c179e\"], [0.4444444444444444, \"#bd3786\"], [0.5555555555555556, \"#d8576b\"], [0.6666666666666666, \"#ed7953\"], [0.7777777777777778, \"#fb9f3a\"], [0.8888888888888888, \"#fdca26\"], [1.0, \"#f0f921\"]], \"type\": \"heatmapgl\"}], \"histogram\": [{\"marker\": {\"colorbar\": {\"outlinewidth\": 0, \"ticks\": \"\"}}, \"type\": \"histogram\"}], \"histogram2d\": [{\"colorbar\": {\"outlinewidth\": 0, \"ticks\": \"\"}, \"colorscale\": [[0.0, \"#0d0887\"], [0.1111111111111111, \"#46039f\"], [0.2222222222222222, \"#7201a8\"], [0.3333333333333333, \"#9c179e\"], [0.4444444444444444, \"#bd3786\"], [0.5555555555555556, \"#d8576b\"], [0.6666666666666666, \"#ed7953\"], [0.7777777777777778, \"#fb9f3a\"], [0.8888888888888888, \"#fdca26\"], [1.0, \"#f0f921\"]], \"type\": \"histogram2d\"}], \"histogram2dcontour\": [{\"colorbar\": {\"outlinewidth\": 0, \"ticks\": \"\"}, \"colorscale\": [[0.0, \"#0d0887\"], [0.1111111111111111, \"#46039f\"], [0.2222222222222222, \"#7201a8\"], [0.3333333333333333, \"#9c179e\"], [0.4444444444444444, \"#bd3786\"], [0.5555555555555556, \"#d8576b\"], [0.6666666666666666, \"#ed7953\"], [0.7777777777777778, \"#fb9f3a\"], [0.8888888888888888, \"#fdca26\"], [1.0, \"#f0f921\"]], \"type\": \"histogram2dcontour\"}], \"mesh3d\": [{\"colorbar\": {\"outlinewidth\": 0, \"ticks\": \"\"}, \"type\": \"mesh3d\"}], \"parcoords\": [{\"line\": {\"colorbar\": {\"outlinewidth\": 0, \"ticks\": \"\"}}, \"type\": \"parcoords\"}], \"scatter\": [{\"marker\": {\"colorbar\": {\"outlinewidth\": 0, \"ticks\": \"\"}}, \"type\": \"scatter\"}], \"scatter3d\": [{\"line\": {\"colorbar\": {\"outlinewidth\": 0, \"ticks\": \"\"}}, \"marker\": {\"colorbar\": {\"outlinewidth\": 0, \"ticks\": \"\"}}, \"type\": \"scatter3d\"}], \"scattercarpet\": [{\"marker\": {\"colorbar\": {\"outlinewidth\": 0, \"ticks\": \"\"}}, \"type\": \"scattercarpet\"}], \"scattergeo\": [{\"marker\": {\"colorbar\": {\"outlinewidth\": 0, \"ticks\": \"\"}}, \"type\": \"scattergeo\"}], \"scattergl\": [{\"marker\": {\"colorbar\": {\"outlinewidth\": 0, \"ticks\": \"\"}}, \"type\": \"scattergl\"}], \"scattermapbox\": [{\"marker\": {\"colorbar\": {\"outlinewidth\": 0, \"ticks\": \"\"}}, \"type\": \"scattermapbox\"}], \"scatterpolar\": [{\"marker\": {\"colorbar\": {\"outlinewidth\": 0, \"ticks\": \"\"}}, \"type\": \"scatterpolar\"}], \"scatterpolargl\": [{\"marker\": {\"colorbar\": {\"outlinewidth\": 0, \"ticks\": \"\"}}, \"type\": \"scatterpolargl\"}], \"scatterternary\": [{\"marker\": {\"colorbar\": {\"outlinewidth\": 0, \"ticks\": \"\"}}, \"type\": \"scatterternary\"}], \"surface\": [{\"colorbar\": {\"outlinewidth\": 0, \"ticks\": \"\"}, \"colorscale\": [[0.0, \"#0d0887\"], [0.1111111111111111, \"#46039f\"], [0.2222222222222222, \"#7201a8\"], [0.3333333333333333, \"#9c179e\"], [0.4444444444444444, \"#bd3786\"], [0.5555555555555556, \"#d8576b\"], [0.6666666666666666, \"#ed7953\"], [0.7777777777777778, \"#fb9f3a\"], [0.8888888888888888, \"#fdca26\"], [1.0, \"#f0f921\"]], \"type\": \"surface\"}], \"table\": [{\"cells\": {\"fill\": {\"color\": \"#EBF0F8\"}, \"line\": {\"color\": \"white\"}}, \"header\": {\"fill\": {\"color\": \"#C8D4E3\"}, \"line\": {\"color\": \"white\"}}, \"type\": \"table\"}]}, \"layout\": {\"annotationdefaults\": {\"arrowcolor\": \"#2a3f5f\", \"arrowhead\": 0, \"arrowwidth\": 1}, \"colorscale\": {\"diverging\": [[0, \"#8e0152\"], [0.1, \"#c51b7d\"], [0.2, \"#de77ae\"], [0.3, \"#f1b6da\"], [0.4, \"#fde0ef\"], [0.5, \"#f7f7f7\"], [0.6, \"#e6f5d0\"], [0.7, \"#b8e186\"], [0.8, \"#7fbc41\"], [0.9, \"#4d9221\"], [1, \"#276419\"]], \"sequential\": [[0.0, \"#0d0887\"], [0.1111111111111111, \"#46039f\"], [0.2222222222222222, \"#7201a8\"], [0.3333333333333333, \"#9c179e\"], [0.4444444444444444, \"#bd3786\"], [0.5555555555555556, \"#d8576b\"], [0.6666666666666666, \"#ed7953\"], [0.7777777777777778, \"#fb9f3a\"], [0.8888888888888888, \"#fdca26\"], [1.0, \"#f0f921\"]], \"sequentialminus\": [[0.0, \"#0d0887\"], [0.1111111111111111, \"#46039f\"], [0.2222222222222222, \"#7201a8\"], [0.3333333333333333, \"#9c179e\"], [0.4444444444444444, \"#bd3786\"], [0.5555555555555556, \"#d8576b\"], [0.6666666666666666, \"#ed7953\"], [0.7777777777777778, \"#fb9f3a\"], [0.8888888888888888, \"#fdca26\"], [1.0, \"#f0f921\"]]}, \"colorway\": [\"#636efa\", \"#EF553B\", \"#00cc96\", \"#ab63fa\", \"#FFA15A\", \"#19d3f3\", \"#FF6692\", \"#B6E880\", \"#FF97FF\", \"#FECB52\"], \"font\": {\"color\": \"#2a3f5f\"}, \"geo\": {\"bgcolor\": \"white\", \"lakecolor\": \"white\", \"landcolor\": \"#E5ECF6\", \"showlakes\": true, \"showland\": true, \"subunitcolor\": \"white\"}, \"hoverlabel\": {\"align\": \"left\"}, \"hovermode\": \"closest\", \"mapbox\": {\"style\": \"light\"}, \"paper_bgcolor\": \"white\", \"plot_bgcolor\": \"#E5ECF6\", \"polar\": {\"angularaxis\": {\"gridcolor\": \"white\", \"linecolor\": \"white\", \"ticks\": \"\"}, \"bgcolor\": \"#E5ECF6\", \"radialaxis\": {\"gridcolor\": \"white\", \"linecolor\": \"white\", \"ticks\": \"\"}}, \"scene\": {\"xaxis\": {\"backgroundcolor\": \"#E5ECF6\", \"gridcolor\": \"white\", \"gridwidth\": 2, \"linecolor\": \"white\", \"showbackground\": true, \"ticks\": \"\", \"zerolinecolor\": \"white\"}, \"yaxis\": {\"backgroundcolor\": \"#E5ECF6\", \"gridcolor\": \"white\", \"gridwidth\": 2, \"linecolor\": \"white\", \"showbackground\": true, \"ticks\": \"\", \"zerolinecolor\": \"white\"}, \"zaxis\": {\"backgroundcolor\": \"#E5ECF6\", \"gridcolor\": \"white\", \"gridwidth\": 2, \"linecolor\": \"white\", \"showbackground\": true, \"ticks\": \"\", \"zerolinecolor\": \"white\"}}, \"shapedefaults\": {\"line\": {\"color\": \"#2a3f5f\"}}, \"ternary\": {\"aaxis\": {\"gridcolor\": \"white\", \"linecolor\": \"white\", \"ticks\": \"\"}, \"baxis\": {\"gridcolor\": \"white\", \"linecolor\": \"white\", \"ticks\": \"\"}, \"bgcolor\": \"#E5ECF6\", \"caxis\": {\"gridcolor\": \"white\", \"linecolor\": \"white\", \"ticks\": \"\"}}, \"title\": {\"x\": 0.05}, \"xaxis\": {\"automargin\": true, \"gridcolor\": \"white\", \"linecolor\": \"white\", \"ticks\": \"\", \"zerolinecolor\": \"white\", \"zerolinewidth\": 2}, \"yaxis\": {\"automargin\": true, \"gridcolor\": \"white\", \"linecolor\": \"white\", \"ticks\": \"\", \"zerolinecolor\": \"white\", \"zerolinewidth\": 2}}}, \"title\": {\"text\": \"BLR Night Light Category Wise\"}, \"xaxis\": {\"ticklen\": 5, \"title\": {\"text\": \"Month\"}, \"zeroline\": false}},\n",
       "                        {\"responsive\": true}\n",
       "                    ).then(function(){\n",
       "                            \n",
       "var gd = document.getElementById('0061e801-e6f8-44e3-943a-9f0fcc66e41b');\n",
       "var x = new MutationObserver(function (mutations, observer) {{\n",
       "        var display = window.getComputedStyle(gd).display;\n",
       "        if (!display || display === 'none') {{\n",
       "            console.log([gd, 'removed!']);\n",
       "            Plotly.purge(gd);\n",
       "            observer.disconnect();\n",
       "        }}\n",
       "}});\n",
       "\n",
       "// Listen for the removal of the full notebook cells\n",
       "var notebookContainer = gd.closest('#notebook-container');\n",
       "if (notebookContainer) {{\n",
       "    x.observe(notebookContainer, {childList: true});\n",
       "}}\n",
       "\n",
       "// Listen for the clearing of the current output cell\n",
       "var outputEl = gd.closest('.output');\n",
       "if (outputEl) {{\n",
       "    x.observe(outputEl, {childList: true});\n",
       "}}\n",
       "\n",
       "                        })\n",
       "                };\n",
       "                });\n",
       "            </script>\n",
       "        </div>"
      ]
     },
     "metadata": {},
     "output_type": "display_data"
    }
   ],
   "source": [
    "trace1 = go.Scatter(\n",
    "                    x = months,\n",
    "                    y = blr_com_tracking,\n",
    "                    mode = \"lines+markers\",\n",
    "                    name = \"BLR COMMERCIAL TRACKING\",\n",
    "                    marker = dict(color = 'rgba(0, 0, 0, 0.8)'),\n",
    "                    text= 'BLR COMM Tracking')\n",
    "\n",
    "trace2 = go.Scatter(\n",
    "                    x = months,\n",
    "                    y = blr_adm_tracking,\n",
    "                    mode = \"lines+markers\",\n",
    "                    name = \"BLR ADMINISTRATIVE TRACKING\",\n",
    "                    marker = dict(color = 'rgba(255, 255, 0, 0.8)'),\n",
    "                    text= 'BLR ADM Tracking')\n",
    "\n",
    "trace3= go.Scatter(\n",
    "                    x = months,\n",
    "                    y = blr_res_tracking,\n",
    "                    mode = \"lines+markers\",\n",
    "                    name = \"BLR RESIDENTIAL TRACKING\",\n",
    "                    marker = dict(color = 'rgba(255, 20, 147, 0.8)'),\n",
    "                    text= 'BLR RES Tracking')\n",
    "\n",
    "\n",
    "data = [trace1, trace2, trace3]\n",
    "layout = dict(title = 'BLR Night Light Category Wise',\n",
    "              xaxis= dict(title= 'Month',ticklen= 5,zeroline= False)\n",
    "             )\n",
    "fig = dict(data = data, layout = layout)\n",
    "go.Figure(fig).show()"
   ]
  },
  {
   "cell_type": "code",
   "execution_count": 79,
   "metadata": {},
   "outputs": [],
   "source": [
    "exec(\"com_filter = (blr_jan>=500).astype('int')\")\n"
   ]
  },
  {
   "cell_type": "code",
   "execution_count": 70,
   "metadata": {},
   "outputs": [],
   "source": [
    "summary = pd.DataFrame()\n",
    "summary['months'] = months\n",
    "summary['BLR COM TRACKING'] = blr_com_tracking\n",
    "summary['BLR ADM TRACKING'] = blr_adm_tracking\n",
    "summary['BLR RES TRACKING'] = blr_res_tracking\n",
    "summary['NOP COM'] = com_num_track\n",
    "summary['NOP ADM'] = adm_num_track\n",
    "summary['NOP RES'] = res_num_track\n",
    "summary['SUM'] = summary['NOP COM'] + summary['NOP ADM'] + summary['NOP RES']\n",
    "summary.to_csv(city + '_summary.csv', index=False)"
   ]
  },
  {
   "cell_type": "code",
   "execution_count": 484,
   "metadata": {
    "scrolled": true
   },
   "outputs": [
    {
     "name": "stdout",
     "output_type": "stream",
     "text": [
      "blr\n",
      "73 79\n",
      "5767\n",
      "bom\n",
      "93 70\n",
      "6510\n",
      "pune\n",
      "63 84\n",
      "5292\n",
      "delhi\n",
      "132 162\n",
      "21384\n",
      "surat\n",
      "32 42\n",
      "1344\n",
      "ahm\n",
      "76 66\n",
      "5016\n",
      "san_diego\n",
      "123 114\n",
      "14022\n",
      "SanFBA\n",
      "161 203\n",
      "32683\n",
      "LasVegas\n",
      "101 116\n",
      "11716\n",
      "Paris\n",
      "221 98\n",
      "21658\n",
      "Tehran\n",
      "209 220\n",
      "45980\n",
      "shanghai\n",
      "216 271\n",
      "58536\n",
      "mexico_city\n",
      "169 166\n",
      "28054\n"
     ]
    }
   ],
   "source": [
    "\n",
    "weeks_to_use = [(2018, 13, 19, 2)]\n",
    "months = ['_2018']\n",
    "tiles = ['h25v07', 'h25v06', 'h06v05', 'h10v04']\n",
    "tile_var_name = 'h25v07'\n",
    "\n",
    "#data = [('h25v07', 'blr'), ('h25v07', 'bom'), ('h25v07', 'pune'), ('h25v06', 'delhi'), ('h25v06', 'surat'), ('h25v06', 'ahm'), ('h10v04', 'NY'), ('h06v05', 'san_diego'), ('h05v05', 'SanFBA'), ('h06v05', 'LasVegas'), ('h18v04', 'Paris'), ('h23v05', 'Tehran'), \\\n",
    "#        ('h30v05', 'shanghai'), ('h08v07', 'mexico_city'), ('h31v05', 'Tokyo')]\n",
    "        \n",
    "data = [('h25v07', 'blr'), ('h25v07', 'bom'), ('h25v07', 'pune'), ('h25v06', 'delhi'), ('h25v06', 'surat'), ('h25v06', 'ahm'), ('h06v05', 'san_diego'), ('h05v05', 'SanFBA'), ('h06v05', 'LasVegas'), ('h18v04', 'Paris'), ('h23v05', 'Tehran'), \\\n",
    "        ('h30v05', 'shanghai'), ('h08v07', 'mexico_city')]\n",
    "    \n",
    "#data = [('h25v07', 'blr'), ('h25v07', 'pune'), ('h25v06', 'delhi'), ('h25v06', 'surat'), ('h25v06', 'ahm'), ('h30v05', 'shanghai')]\n",
    "\n",
    "for tile, city in data:\n",
    "    year, ds, de, mon = weeks_to_use[0]\n",
    "    command = months[0] + \"_\" + tile_var_name + \" = week_loc_mean('\" + tile + \"', \" + str(year) + ',' + str(ds) + ',' + str(de) + ',' + str(mon) + str(')')\n",
    "    exec(command, globals())\n",
    "    hemi = 'n'\n",
    "    for mon in months:\n",
    "\n",
    "        print(city)\n",
    "        command = \"print(return_area(lat_longs['\" + city + \"_lat'][0], lat_longs['\" + city + \"_long'][0], lat_longs['\" + city + \"_lat'][1], lat_longs['\" + city + \"_long'][1]\"\n",
    "        command = command + \", \" + mon + \"_\" + tile_var_name + \", tiles_cords['\" + tile + \"'][0], tiles_cords['\" + tile + \"'][1], '\" + hemi + \"'))\"\n",
    "        exec(command, globals())\n",
    "        #command = city + '_' + mon + ' = clean_noise(' + city + '_' + mon + ')'\n",
    "        #exec(command, globals())\n"
   ]
  },
  {
   "cell_type": "code",
   "execution_count": 2,
   "metadata": {},
   "outputs": [],
   "source": [
    "lat_longs = {\n",
    "    'blr_lat': (13.1436111, 12.83388),\n",
    "    'blr_long': (77.46, 77.78388889),\n",
    "    'mysore_lat' : (12.3744611, 12.2468304),\n",
    "    'mysore_long' : (76.5603734, 76.7110062),\n",
    "    'salem_lat' : (11.7433445, 11.5641257),\n",
    "    'salem_long' : (78.034283, 78.242311399),\n",
    "    'bom_lat' : (19.315898, 18.907216),\n",
    "    'bom_long' : (72.778399, 73.221846),\n",
    "    'pune_lat' : (18.698978, 18.432714),\n",
    "    'pune_long' : (73.662993, 74.011603),\n",
    "    'karnataka_lat' : (16.444482, 11.679891),\n",
    "    'karnataka_long': (74.298543, 77.93700),\n",
    "    'delhi_lat' : (28.873679, 28.317670),\n",
    "    'delhi_long' : (76.910456, 77.582555),\n",
    "    'surat_lat' : (21.266955, 21.131060),\n",
    "    'surat_long' : (72.747415, 72.920826),\n",
    "    'bhopal_lat' : (23.317829, 23.160057),\n",
    "    'bhopal_long' : (77.300587, 77.509989),\n",
    "    'jaipur_lat' : (27.009452, 26.755429),\n",
    "    'jaipur_long' : (75.666172, 75.912764),\n",
    "    'ahm_lat' : (23.261146, 22.939163),\n",
    "    'ahm_long' : (72.434385, 72.705903),\n",
    "    'NY_lat' : (40.989266, 40.479856),\n",
    "    'NY_long' : (-74.351461, -73.346537),\n",
    "    'california_lower_lat' : (36.967640, 32.557551),\n",
    "    'california_lower_long' : (-119.922886, -115.999695),\n",
    "    'california_upper_lat' : (39.823049, 34.451615),\n",
    "    'california_upper_long' : (-123.887838, -120.092777),\n",
    "    'san_diego_lat' : (33.099362, 32.582562),\n",
    "    'san_diego_long' : (-117.341578, -116.869401),\n",
    "    'LA_lat' : (34.328695, 33.435326),\n",
    "    'LA_long' : (-118.722811, -116.958560),\n",
    "    'SanFBA_lat' : (37.874732, 37.196889),\n",
    "    'SanFBA_long' : (-122.565049, -121.724266),\n",
    "    'LasVegas_lat' : (36.339823, 35.912815),\n",
    "    'LasVegas_long' : (-115.381645, -114.903089),\n",
    "    'Paris_lat' : (49.343414, 48.417113),\n",
    "    'Paris_long' : (2.138253, 2.545352),\n",
    "    'Tehran_lat' : (35.924179, 35.048941),\n",
    "    'Tehran_long' : (50.922294, 51.836051),\n",
    "    'chicago_lat' : (42.392790, 41.280936),\n",
    "    'chicago_long' : (-88.551763, -86.940744),\n",
    "    'shanghai_lat' : (31.518397, 30.615533),\n",
    "    'shanghai_long' : (120.837911, 121.966061),\n",
    "    'mexico_city_lat' : (19.885730, 19.175815),\n",
    "    'mexico_city_long' : (-99.410912, -98.723546),\n",
    "    'Tokyo_lat' : (36.041088, 35.181342),\n",
    "    'Tokyo_long' : (139.271901, 139.929616),\n",
    "    'blr_krishna_rd_lat' : (12.674936, 12.665422),\n",
    "    'blr_krishna_rd_long' : (77.974699, 77.981034),\n",
    "    'blr_krishna_forest_rd_lat' : (12.714323, 12.687609),\n",
    "    'blr_krishna_forest_rd_long' : (77.894460, 77.924690),\n",
    "    'bom_surat_rd_lat' : (19.608126, 19.503841),\n",
    "    'bom_surat_rd_long' : (72.905563, 72.924168),\n",
    "    'blr_hyd_rd_lat' : (16.891514, 16.869547),\n",
    "    'blr_hyd_rd_long' : (78.162950, 78.170085),\n",
    "    'wuhan_lat' : (30.819098, 30.227453),\n",
    "    'wuhan_long' : (113.996109, 114.658473),\n",
    "    'HK_lat' : (22.500775, 22.231428),\n",
    "    'HK_long' : (113.911420, 114.276307),\n",
    "    'Montreal_lat' : (45.685115, 45.448075),\n",
    "    'Montreal_long' : (-73.755032, -73.493468),\n",
    "    'Chennai_lat' : (13.324117, 12.818451),\n",
    "    'Chennai_long' : (80.095112, 80.405370),\n",
    "    'Vishaka_lat' : (17.755858, 17.591978),\n",
    "    'Vishaka_long' : (83.163222, 83.357496),\n",
    "    'HYD_lat' : (17.534505, 17.275169),\n",
    "    'HYD_long' : (78.273751, 78.614169),\n",
    "    'SauPaulo_lat' : (-23.402565, -23.754118),\n",
    "    'SauPaulo_long' : (-46.766356, -46.360879),\n",
    "    'Seoul_lat' : (37.633061, 37.350121),\n",
    "    'Seoul_long' : (126.609159, 127.200089),\n",
    "    'Miami_lat' : (25.875035, 25.672416),\n",
    "    'Miami_long' : (-80.319136, -80.117516),\n",
    "    'Dubai_lat' : (25.262080, 24.871344),\n",
    "    'Dubai_long' : (54.981199, 55.553674),\n",
    "    'Bangkok_lat' : (13.951137, 13.513020),\n",
    "    'Bangkok_long' : (100.280079, 100.873502),\n",
    "    'Taipei_lat' : (25.212822, 24.952546),\n",
    "    'Taipei_long' : (121.385579, 121.667942),\n",
    "    'Sydney_lat' : (-33.644266, -34.110462),\n",
    "    'Sydney_long' : (150.668698, 151.257291)\n",
    "}\n",
    "\n",
    "\n",
    "tiles_cords = {\n",
    "    'h25v07': (20, 70),\n",
    "    'h25v06' : (30, 70),\n",
    "    'h10v04' : (50, -80),\n",
    "    'h06v05' : (40, -120),\n",
    "    'h05v05' : (40, -130),\n",
    "    'h18v04' : (50, 0),\n",
    "    'h23v05' : (40, 50),\n",
    "    'h09v04' : (50, -90),\n",
    "    'h30v05' : (40, 120),\n",
    "    'h08v07' : (20, -100),\n",
    "    'h31v05' : (40, 130),\n",
    "    'h29v05' : (40, 110),\n",
    "    'h29v06' : (30, 110),\n",
    "    'h26v07' : (20, 80),\n",
    "    'h13v11' : (-20, -50),\n",
    "    'h09v06' : (30, -90),\n",
    "    'h23v06' : (30, 50),\n",
    "    'h28v07' : (20,100),\n",
    "    'h30v06' : (30, 120),\n",
    "    'h33v12' : (-30, 150)\n",
    "}"
   ]
  },
  {
   "cell_type": "code",
   "execution_count": 3,
   "metadata": {},
   "outputs": [],
   "source": [
    "def return_area(lat_ul, long_ul, lat_br, long_br, tile, start_lat, start_long, hemisphere = 'n'):\n",
    "    \n",
    "    pixel = 10 / 2400\n",
    "    \n",
    "    lat_ul = int(np.floor((lat_ul - start_lat) / pixel))\n",
    "    lat_br = int(np.ceil((lat_br - start_lat) / pixel))\n",
    "    if hemisphere.lower() == 'n':\n",
    "        lat_ul = -lat_ul\n",
    "        lat_br = -lat_br\n",
    "        \n",
    "    if (lat_br - lat_ul) < 0 or (long_br - long_ul) < 0:\n",
    "        raise Exception(\"Error: Choose the Correct Hemisphere\")\n",
    "    \n",
    "    \n",
    "    long_ul = int(np.floor((long_ul - start_long) / pixel))\n",
    "    long_br = int(np.ceil((long_br - start_long) / pixel))\n",
    "    \n",
    "    extract = np.zeros((lat_br - lat_ul, long_br - long_ul))\n",
    "    print(extract.shape[0], extract.shape[1])\n",
    "    return extract.shape[0] * extract.shape[1]"
   ]
  },
  {
   "cell_type": "code",
   "execution_count": 6,
   "metadata": {},
   "outputs": [
    {
     "ename": "NameError",
     "evalue": "name 'tile_var_name' is not defined",
     "output_type": "error",
     "traceback": [
      "\u001b[0;31m---------------------------------------------------------------------------\u001b[0m",
      "\u001b[0;31mNameError\u001b[0m                                 Traceback (most recent call last)",
      "\u001b[0;32m<ipython-input-6-b7533f4fc96e>\u001b[0m in \u001b[0;36m<module>\u001b[0;34m\u001b[0m\n\u001b[1;32m      3\u001b[0m \u001b[0mtile\u001b[0m \u001b[0;34m=\u001b[0m \u001b[0;34m'h25v07'\u001b[0m\u001b[0;34m\u001b[0m\u001b[0;34m\u001b[0m\u001b[0m\n\u001b[1;32m      4\u001b[0m \u001b[0mcommand\u001b[0m \u001b[0;34m=\u001b[0m \u001b[0;34m\"print(return_area(lat_longs['\"\u001b[0m \u001b[0;34m+\u001b[0m \u001b[0mcity\u001b[0m \u001b[0;34m+\u001b[0m \u001b[0;34m\"_lat'][0], lat_longs['\"\u001b[0m \u001b[0;34m+\u001b[0m \u001b[0mcity\u001b[0m \u001b[0;34m+\u001b[0m \u001b[0;34m\"_long'][0], lat_longs['\"\u001b[0m \u001b[0;34m+\u001b[0m \u001b[0mcity\u001b[0m \u001b[0;34m+\u001b[0m \u001b[0;34m\"_lat'][1], lat_longs['\"\u001b[0m \u001b[0;34m+\u001b[0m \u001b[0mcity\u001b[0m \u001b[0;34m+\u001b[0m \u001b[0;34m\"_long'][1]\"\u001b[0m\u001b[0;34m\u001b[0m\u001b[0;34m\u001b[0m\u001b[0m\n\u001b[0;32m----> 5\u001b[0;31m \u001b[0mcommand\u001b[0m \u001b[0;34m=\u001b[0m \u001b[0mcommand\u001b[0m \u001b[0;34m+\u001b[0m \u001b[0;34m\", \"\u001b[0m \u001b[0;34m+\u001b[0m \u001b[0mmon\u001b[0m \u001b[0;34m+\u001b[0m \u001b[0;34m\"_\"\u001b[0m \u001b[0;34m+\u001b[0m \u001b[0mtile_var_name\u001b[0m \u001b[0;34m+\u001b[0m \u001b[0;34m\", tiles_cords['\"\u001b[0m \u001b[0;34m+\u001b[0m \u001b[0mtile\u001b[0m \u001b[0;34m+\u001b[0m \u001b[0;34m\"'][0], tiles_cords['\"\u001b[0m \u001b[0;34m+\u001b[0m \u001b[0mtile\u001b[0m \u001b[0;34m+\u001b[0m \u001b[0;34m\"'][1], '\"\u001b[0m \u001b[0;34m+\u001b[0m \u001b[0mhemi\u001b[0m \u001b[0;34m+\u001b[0m \u001b[0;34m\"'))\"\u001b[0m\u001b[0;34m\u001b[0m\u001b[0;34m\u001b[0m\u001b[0m\n\u001b[0m\u001b[1;32m      6\u001b[0m \u001b[0;34m\u001b[0m\u001b[0m\n\u001b[1;32m      7\u001b[0m \u001b[0mexec\u001b[0m\u001b[0;34m(\u001b[0m\u001b[0mcommand\u001b[0m\u001b[0;34m)\u001b[0m\u001b[0;34m\u001b[0m\u001b[0;34m\u001b[0m\u001b[0m\n",
      "\u001b[0;31mNameError\u001b[0m: name 'tile_var_name' is not defined"
     ]
    }
   ],
   "source": [
    "city = 'HK'\n",
    "mon = '_2018'\n",
    "tile = 'h25v07'\n",
    "command = \"print(return_area(lat_longs['\" + city + \"_lat'][0], lat_longs['\" + city + \"_long'][0], lat_longs['\" + city + \"_lat'][1], lat_longs['\" + city + \"_long'][1]\"\n",
    "command = command + \", \" + mon + \"_\" + tile_var_name + \", tiles_cords['\" + tile + \"'][0], tiles_cords['\" + tile + \"'][1], '\" + hemi + \"'))\"\n",
    "    \n",
    "exec(command)"
   ]
  },
  {
   "cell_type": "code",
   "execution_count": 7,
   "metadata": {
    "scrolled": true
   },
   "outputs": [
    {
     "name": "stdout",
     "output_type": "stream",
     "text": [
      "73 79\n",
      "5767\n",
      "blr\n",
      "97 108\n",
      "10476\n",
      "bom\n",
      "63 84\n",
      "5292\n",
      "pune\n",
      "132 162\n",
      "21384\n",
      "delhi\n",
      "32 42\n",
      "1344\n",
      "surat\n",
      "76 66\n",
      "5016\n",
      "ahm\n",
      "123 114\n",
      "14022\n",
      "san_diego\n",
      "161 203\n",
      "32683\n",
      "SanFBA\n",
      "209 220\n",
      "45980\n",
      "Tehran\n",
      "216 271\n",
      "58536\n",
      "shanghai\n",
      "169 166\n",
      "28054\n",
      "mexico_city\n",
      "56 64\n",
      "3584\n",
      "Montreal\n",
      "38 47\n",
      "1786\n",
      "Vishaka\n",
      "120 76\n",
      "9120\n",
      "Chennai\n",
      "61 83\n",
      "5063\n",
      "HYD\n",
      "83 98\n",
      "8134\n",
      "SauPaulo\n",
      "66 143\n",
      "9438\n",
      "Seoul\n",
      "48 49\n",
      "2352\n",
      "Miami\n",
      "104 143\n",
      "14872\n",
      "Bangkok\n",
      "62 69\n",
      "4278\n",
      "Taipei\n",
      "111 142\n",
      "15762\n",
      "Sydney\n"
     ]
    }
   ],
   "source": [
    "\n",
    "weeks_to_use = [(2018, 13, 19, 2)]\n",
    "months = ['_2018']\n",
    "tiles = ['h25v07', 'h25v06', 'h06v05', 'h10v04']\n",
    "tile_var_name = 'h25v07'\n",
    "\n",
    "#data = [('h25v07', 'blr'), ('h25v07', 'bom'), ('h25v07', 'pune'), ('h25v06', 'delhi'), ('h25v06', 'surat'), ('h25v06', 'ahm'), ('h10v04', 'NY'), ('h06v05', 'san_diego'), ('h05v05', 'SanFBA'), ('h06v05', 'LasVegas'), ('h18v04', 'Paris'), ('h23v05', 'Tehran'), \\\n",
    "#        ('h30v05', 'shanghai'), ('h08v07', 'mexico_city'), ('h31v05', 'Tokyo')]\n",
    "        \n",
    "#data = [('h25v07', 'blr'), ('h25v07', 'bom'), ('h25v07', 'pune'), ('h25v06', 'delhi'), ('h25v06', 'surat'), ('h25v06', 'ahm'), ('h06v05', 'san_diego'), ('h05v05', 'SanFBA'), ('h06v05', 'LasVegas'), ('h18v04', 'Paris'), ('h23v05', 'Tehran'), \\\n",
    "#        ('h30v05', 'shanghai'), ('h08v07', 'mexico_city')]\n",
    "\n",
    "data = [('h25v07', 'blr'), ('h25v07', 'bom'), ('h25v07', 'pune'), ('h25v06', 'delhi'), ('h25v06', 'surat'), ('h25v06', 'ahm'), ('h06v05', 'san_diego'), ('h05v05', 'SanFBA'), ('h23v05', 'Tehran'), \\\n",
    "        ('h30v05', 'shanghai'), ('h08v07', 'mexico_city'), ('h10v04', 'Montreal'), ('h26v07', 'Vishaka'), \\\n",
    "        ('h26v07', 'Chennai'), ('h25v07', 'HYD'), ('h13v11', 'SauPaulo'), ('h30v05', 'Seoul'), ('h09v06', 'Miami'), \\\n",
    "       ('h28v07', 'Bangkok'), ('h30v06', 'Taipei'), ('h33v12', 'Sydney')]\n",
    "\n",
    "#, , , ('h23v06', 'Dubai'), \\\n",
    "#       ('h25v07', 'hyderabad'), ,\n",
    "\n",
    "#data = [('h25v07', 'blr'), ('h25v07', 'pune'), ('h25v06', 'delhi'), ('h25v06', 'surat'), ('h25v06', 'ahm'), ('h06v05', 'san_diego'), ('h05v05', 'SanFBA'), ('h23v05', 'Tehran'), \\\n",
    "#        ('h30v05', 'shanghai'), ('h08v07', 'mexico_city')]\n",
    "    \n",
    "#data = [('h25v07', 'blr'), ('h25v07', 'pune'), ('h25v06', 'delhi'), ('h25v06', 'surat'), ('h25v06', 'ahm'), ('h30v05', 'shanghai')]\n",
    "\n",
    "for tile, city in data:\n",
    "    year, ds, de, mon = weeks_to_use[0]\n",
    "    command = months[0] + \"_\" + tile_var_name + \" = week_loc_mean('\" + tile + \"', \" + str(year) + ',' + str(ds) + ',' + str(de) + ',' + str(mon) + str(')')\n",
    "    exec(command, globals())\n",
    "    hemi = 'n'\n",
    "    for mon in months:\n",
    "\n",
    "        command = city + \"_\" + mon + \" = extract_lat_long(lat_longs['\" + city + \"_lat'][0], lat_longs['\" + city + \"_long'][0], lat_longs['\" + city + \"_lat'][1], lat_longs['\" + city + \"_long'][1]\"\n",
    "        command = command + \", \" + mon + \"_\" + tile_var_name + \", tiles_cords['\" + tile + \"'][0], tiles_cords['\" + tile + \"'][1], '\" + hemi + \"')\"\n",
    "        exec(command, globals())\n",
    "\n",
    "#         command = \"print(return_area(lat_longs['\" + city + \"_lat'][0], lat_longs['\" + city + \"_long'][0], lat_longs['\" + city + \"_lat'][1], lat_longs['\" + city + \"_long'][1]\"\n",
    "#         command = command + \", \" + mon + \"_\" + tile_var_name + \", tiles_cords['\" + tile + \"'][0], tiles_cords['\" + tile + \"'][1], '\" + hemi + \"'))\"\n",
    "#         exec(command, globals())\n",
    "        \n",
    "        command = city + \"__2018 = return_category(\"city + \"__2018, 'commercial') + return_category(\"city + \"__2018, 'administrative')\"\n",
    "        exec(command, globals())\n",
    "        #command = city + '_' + mon + ' = clean_noise(' + city + '_' + mon + ')'\n",
    "        #exec(command, globals())\n",
    "    print(city)\n",
    "    "
   ]
  },
  {
   "cell_type": "code",
   "execution_count": 8,
   "metadata": {},
   "outputs": [],
   "source": [
    "city_data = []\n",
    "for _, city in data:\n",
    "    city_data.append(eval(city + \"__2018\").sum())"
   ]
  },
  {
   "cell_type": "code",
   "execution_count": 9,
   "metadata": {},
   "outputs": [
    {
     "data": {
      "text/plain": [
       "array([1996075.28571429, 1549946.28571429,  654159.42857143,\n",
       "       4440738.71428571,  265094.28571429,  754405.71428571,\n",
       "       1367235.14285714, 3401561.        , 3026344.14285714,\n",
       "       3734285.42857143, 5873554.71428571, 3098985.14285714,\n",
       "        214638.85714286,  984944.14285714, 1454201.42857143,\n",
       "       2050024.57142857, 2892389.71428571, 1423000.71428571,\n",
       "       2767402.85714286,  670996.42857143, 1452812.57142857])"
      ]
     },
     "execution_count": 9,
     "metadata": {},
     "output_type": "execute_result"
    }
   ],
   "source": [
    "city_data = np.array(city_data)\n",
    "city_data = city_data / 1#5000   #1500#1000000\n",
    "city_data"
   ]
  },
  {
   "cell_type": "code",
   "execution_count": 10,
   "metadata": {},
   "outputs": [],
   "source": [
    "#city_gdp = np.array([110, 310, 69, 293.6, 59.8, 68, 1500, 219, 497.2, 122, 86, 206, 480, 266, 1600]) # $ Billions GDP\n",
    "#city_gdp = np.array([110, 310, 69, 293.6, 59.8, 68, 1500, 219, 497.2, 122, 86, 206, 480, 266]) # $ Billions GDP\n",
    "\n",
    "city_gdp = np.array([110, 310, 69, 293.6, 59.8, 68, 219, 497.2, 206, 480, 266, 170, 43.5, 78.6,\\\n",
    "                     75, 211, 408, 354.7, 211.17, 176.95, 310]) # $ Billions GDP \n",
    "\n",
    "bool_flag = np.array([0, 0, 0, 0, 0, 0, 1, 1, 0, 1, 0, 0, 0, 0, 0, 0, 1, 1, 0, 1, 1]) #without HK\n",
    "\n",
    "#city_gdp = np.array([110, 310, 69, 293.6, 59.8, 68, 219, 497.2, 206, 480, 266, 170, 362.68, 43.5, 78.6,\\\n",
    "#                     75, 211, 408, 354.7, 211.17, 176.95]) # $ Billions GDP with HK\n",
    "\n",
    "\n",
    "#bool_flag = np.array([0, 0, 0, 0, 0, 0, 1, 1, 0, 1, 0, 0, 1, 0, 0, 0, 0, 1, 1, 0, 1]) #with HK\n",
    "\n",
    "\n",
    "#city_gdp = np.array([110/8.4, 310/18.4, 69/3.12, 293.6 / 19, 59.8 / 4.4, 68 / 5.57, 219 / 1.43, 497.2 / 7.75, 206 / 8.7, 480 / 24.3, 266 / 8.85])\n",
    "\n",
    "\n",
    "\n",
    "\n",
    "#city_gdp = np.array([110000000, 310000000, 69000000, 293600000, 59800000, 68000000, 219000000, 497200000, 206000000, 480000000, 266000000]) # $ Billions GDP\n",
    "#city_gdp = np.array([110, 69, 293.6, 59.8, 68, 480]) # $ Billions GDP"
   ]
  },
  {
   "cell_type": "code",
   "execution_count": 11,
   "metadata": {},
   "outputs": [
    {
     "data": {
      "text/plain": [
       "(array([4.70048037, 5.7365723 , 4.2341065 , 5.6822183 , 4.09100566,\n",
       "        4.21950771, 5.38907173, 6.20899236, 5.32787617, 6.1737861 ,\n",
       "        5.58349631, 5.13579844, 3.77276094, 4.3643717 , 4.31748811,\n",
       "        5.35185813, 6.01126717, 5.87127236, 5.3526635 , 5.17586721,\n",
       "        5.7365723 ]),\n",
       " array([14.50669345, 14.25373083, 13.39110638, 15.3063313 , 12.48784084,\n",
       "        13.53368558, 14.12830111, 15.039745  , 14.9228659 , 15.13306704,\n",
       "        15.58597058, 14.94658524, 12.27671216, 13.80034021, 14.18996746,\n",
       "        14.53336234, 14.87759361, 14.16827838, 14.83341984, 13.41651909,\n",
       "        14.18901194]),\n",
       " 21,\n",
       " 21,\n",
       " 21)"
      ]
     },
     "execution_count": 11,
     "metadata": {},
     "output_type": "execute_result"
    }
   ],
   "source": [
    "np.log(city_gdp), np.log(city_data), len(city_gdp), len(city_data), len(bool_flag)"
   ]
  },
  {
   "cell_type": "code",
   "execution_count": 12,
   "metadata": {},
   "outputs": [
    {
     "name": "stdout",
     "output_type": "stream",
     "text": [
      "(21, 2)\n"
     ]
    },
    {
     "data": {
      "text/plain": [
       "array([[14.50669345,  0.        ],\n",
       "       [14.25373083,  0.        ],\n",
       "       [13.39110638,  0.        ],\n",
       "       [15.3063313 ,  0.        ],\n",
       "       [12.48784084,  0.        ],\n",
       "       [13.53368558,  0.        ],\n",
       "       [14.12830111,  1.        ],\n",
       "       [15.039745  ,  1.        ],\n",
       "       [14.9228659 ,  0.        ],\n",
       "       [15.13306704,  1.        ],\n",
       "       [15.58597058,  0.        ],\n",
       "       [14.94658524,  0.        ],\n",
       "       [12.27671216,  0.        ],\n",
       "       [13.80034021,  0.        ],\n",
       "       [14.18996746,  0.        ],\n",
       "       [14.53336234,  0.        ],\n",
       "       [14.87759361,  1.        ],\n",
       "       [14.16827838,  1.        ],\n",
       "       [14.83341984,  0.        ],\n",
       "       [13.41651909,  1.        ],\n",
       "       [14.18901194,  1.        ]])"
      ]
     },
     "execution_count": 12,
     "metadata": {},
     "output_type": "execute_result"
    }
   ],
   "source": [
    "from sklearn.linear_model import LinearRegression\n",
    "lr = LinearRegression()\n",
    "data = np.vstack((np.log(city_data), bool_flag)).T\n",
    "print(data.shape)\n",
    "lr.fit(data, np.log(city_gdp))\n",
    "data"
   ]
  },
  {
   "cell_type": "code",
   "execution_count": 13,
   "metadata": {},
   "outputs": [
    {
     "data": {
      "text/plain": [
       "(array([0.58762768, 0.80734867]), -3.486729262856752)"
      ]
     },
     "execution_count": 13,
     "metadata": {},
     "output_type": "execute_result"
    }
   ],
   "source": [
    "lr.coef_, lr.intercept_"
   ]
  },
  {
   "cell_type": "code",
   "execution_count": 14,
   "metadata": {
    "scrolled": true
   },
   "outputs": [
    {
     "data": {
      "text/plain": [
       "Text(0, 0.5, 'ln(GDP in billions USD)')"
      ]
     },
     "execution_count": 14,
     "metadata": {},
     "output_type": "execute_result"
    },
    {
     "data": {
      "image/png": "[encoded data removed]",
      "text/plain": [
       "<Figure size 432x288 with 1 Axes>"
      ]
     },
     "metadata": {
      "needs_background": "light"
     },
     "output_type": "display_data"
    }
   ],
   "source": [
    "#m, b = np.polyfit(np.log(city_data), np.log(city_gdp), 1)\n",
    "plt.scatter(np.log(city_data), np.log(city_gdp) - lr.coef_[0] * bool_flag)\n",
    "x = np.linspace(12, 21, 100)\n",
    "y = lr.coef_[0] * x + lr.intercept_\n",
    "plt.plot(x, y, '-r', label='y=2x+1')\n",
    "plt.title(\"ln(GDP) vs ln(Total Night Light) Corrected For Boolean Flag\")\n",
    "plt.xlabel(\"ln(Total Night Light)\")\n",
    "plt.ylabel(\"ln(GDP in billions USD)\")"
   ]
  },
  {
   "cell_type": "code",
   "execution_count": 883,
   "metadata": {},
   "outputs": [
    {
     "data": {
      "text/plain": [
       "35.92739644790554"
      ]
     },
     "execution_count": 883,
     "metadata": {},
     "output_type": "execute_result"
    }
   ],
   "source": [
    "preds_l = lr.predict(data)\n",
    "preds_l = np.exp(preds_l)\n",
    "preds_l\n",
    "from sklearn.metrics import mean_absolute_error\n",
    "mean_absolute_error(city_gdp, preds_l)"
   ]
  },
  {
   "cell_type": "code",
   "execution_count": 823,
   "metadata": {},
   "outputs": [
    {
     "data": {
      "text/plain": [
       "(array([154.1313907 , 132.84161934,  80.01831717, 246.58204061,\n",
       "         47.06227553,  87.01139298, 276.66303491, 472.66644356,\n",
       "        196.83383066, 499.31070633, 290.62057345, 199.59653791,\n",
       "         41.57116096, 101.77176462, 127.95625705, 156.5658674 ,\n",
       "        429.70773817, 283.23927425, 186.75524253, 182.09662703,\n",
       "        286.71126008]), 21)"
      ]
     },
     "execution_count": 823,
     "metadata": {},
     "output_type": "execute_result"
    }
   ],
   "source": [
    "preds_l, len(preds_l)"
   ]
  },
  {
   "cell_type": "code",
   "execution_count": 824,
   "metadata": {},
   "outputs": [
    {
     "data": {
      "text/plain": [
       "(array([ 44.1313907 , 177.15838066,  11.01831717,  47.01795939,\n",
       "         12.73772447,  19.01139298,  57.66303491,  24.53355644,\n",
       "          9.16616934,  19.31070633,  24.62057345,  29.59653791,\n",
       "          1.92883904,  23.17176462,  52.95625705,  54.4341326 ,\n",
       "         21.70773817,  71.46072575,  24.41475747,   5.14662703,\n",
       "         23.28873992]),\n",
       " array([  44.1313907 , -177.15838066,   11.01831717,  -47.01795939,\n",
       "         -12.73772447,   19.01139298,   57.66303491,  -24.53355644,\n",
       "          -9.16616934,   19.31070633,   24.62057345,   29.59653791,\n",
       "          -1.92883904,   23.17176462,   52.95625705,  -54.4341326 ,\n",
       "          21.70773817,  -71.46072575,  -24.41475747,    5.14662703,\n",
       "         -23.28873992]))"
      ]
     },
     "execution_count": 824,
     "metadata": {},
     "output_type": "execute_result"
    }
   ],
   "source": [
    "np.abs(preds_l - city_gdp), preds_l - city_gdp"
   ]
  },
  {
   "cell_type": "code",
   "execution_count": 825,
   "metadata": {},
   "outputs": [
    {
     "data": {
      "text/plain": [
       "array([[1.        , 0.58716731],\n",
       "       [0.58716731, 1.        ]])"
      ]
     },
     "execution_count": 825,
     "metadata": {},
     "output_type": "execute_result"
    }
   ],
   "source": [
    "np.corrcoef(city_data, city_gdp)"
   ]
  },
  {
   "cell_type": "code",
   "execution_count": 826,
   "metadata": {},
   "outputs": [
    {
     "data": {
      "text/plain": [
       "array([[1.        , 0.67888773],\n",
       "       [0.67888773, 1.        ]])"
      ]
     },
     "execution_count": 826,
     "metadata": {},
     "output_type": "execute_result"
    }
   ],
   "source": [
    "np.corrcoef(bool_flag, city_gdp)"
   ]
  },
  {
   "cell_type": "code",
   "execution_count": 896,
   "metadata": {},
   "outputs": [
    {
     "data": {
      "text/plain": [
       "array([[1.        , 0.76234765],\n",
       "       [0.76234765, 1.        ]])"
      ]
     },
     "execution_count": 896,
     "metadata": {},
     "output_type": "execute_result"
    }
   ],
   "source": [
    "np.corrcoef(np.log(city_data), np.log(city_gdp))"
   ]
  },
  {
   "cell_type": "code",
   "execution_count": 611,
   "metadata": {},
   "outputs": [
    {
     "data": {
      "text/plain": [
       "(array([1996075.28571429, 1159746.28571429,  654159.42857143,\n",
       "        4440738.71428571,  265094.28571429,  754405.71428571,\n",
       "        1367235.14285714, 3401561.        , 3026344.14285714,\n",
       "        3734285.42857143, 5873554.71428571, 3098985.14285714,\n",
       "        1003491.71428571,  214638.85714286,  984944.14285714,\n",
       "        1454201.42857143, 2050024.57142857]),\n",
       " array([110.  , 310.  ,  69.  , 293.6 ,  59.8 ,  68.  , 219.  , 497.2 ,\n",
       "        206.  , 480.  , 266.  , 170.  , 362.68,  43.5 ,  78.6 ,  75.  ,\n",
       "        211.  ]))"
      ]
     },
     "execution_count": 611,
     "metadata": {},
     "output_type": "execute_result"
    }
   ],
   "source": [
    "city_data, city_gdp"
   ]
  },
  {
   "cell_type": "code",
   "execution_count": 890,
   "metadata": {},
   "outputs": [
    {
     "data": {
      "text/plain": [
       "(0.6463334560435553, -4.054928221294241)"
      ]
     },
     "execution_count": 890,
     "metadata": {},
     "output_type": "execute_result"
    },
    {
     "data": {
      "image/png": "[encoded data removed]",
      "text/plain": [
       "<Figure size 432x288 with 1 Axes>"
      ]
     },
     "metadata": {
      "needs_background": "light"
     },
     "output_type": "display_data"
    }
   ],
   "source": [
    "m, b = np.polyfit(np.log(city_data), np.log(city_gdp), 1)\n",
    "plt.scatter(np.log(city_data), np.log(city_gdp))\n",
    "x = np.linspace(12, 20, 100)\n",
    "y = m * x + b\n",
    "plt.plot(x, y, '-r', label='y=2x+1')\n",
    "\n",
    "plt.title(\"ln(GDP) vs ln(Total Night Light)\")\n",
    "plt.xlabel(\"ln(Total Night Light)\")\n",
    "plt.ylabel(\"ln(GDP in billions USD)\")\n",
    "m, b"
   ]
  },
  {
   "cell_type": "code",
   "execution_count": 474,
   "metadata": {},
   "outputs": [
    {
     "data": {
      "text/plain": [
       "[<mpl_toolkits.mplot3d.art3d.Line3D at 0x7fd0a048be48>]"
      ]
     },
     "execution_count": 474,
     "metadata": {},
     "output_type": "execute_result"
    },
    {
     "data": {
      "image/png": "[encoded data removed]",
      "text/plain": [
       "<Figure size 432x288 with 1 Axes>"
      ]
     },
     "metadata": {
      "needs_background": "light"
     },
     "output_type": "display_data"
    }
   ],
   "source": [
    "from mpl_toolkits.mplot3d import axes3d\n",
    "fig = plt.figure()\n",
    "ax = fig.add_subplot(111, projection='3d')\n",
    "ax.plot(city_data, bool_flag, city_gdp)"
   ]
  },
  {
   "cell_type": "code",
   "execution_count": 891,
   "metadata": {},
   "outputs": [
    {
     "data": {
      "text/plain": [
       "array([204.63606203, 173.77040043,  99.50340279, 343.11504039,\n",
       "        55.49989369, 109.10880068, 160.23884224, 288.80801049,\n",
       "       267.79433174, 306.76417709, 411.08746848, 271.93141251,\n",
       "        48.42041771, 129.63118263, 166.75446971, 208.19394767,\n",
       "       260.07193705, 164.43315082, 252.75162569, 101.15125111,\n",
       "       166.65151635])"
      ]
     },
     "execution_count": 891,
     "metadata": {},
     "output_type": "execute_result"
    }
   ],
   "source": [
    "preds_l = m*np.log(city_data) + b\n",
    "preds_l = np.exp(preds_l)\n",
    "preds_l"
   ]
  },
  {
   "cell_type": "code",
   "execution_count": 393,
   "metadata": {},
   "outputs": [],
   "source": [
    "import pandas as pd\n",
    "a = pd.DataFrame()\n",
    "a['original'] = city_gdp\n",
    "a['preds'] = preds_l\n",
    "a.to_excel('data.xlsx', index=False)"
   ]
  },
  {
   "cell_type": "code",
   "execution_count": 892,
   "metadata": {},
   "outputs": [
    {
     "data": {
      "text/plain": [
       "88.33005178183069"
      ]
     },
     "execution_count": 892,
     "metadata": {},
     "output_type": "execute_result"
    }
   ],
   "source": [
    "from sklearn.metrics import mean_absolute_error\n",
    "mean_absolute_error(city_gdp, preds_l)"
   ]
  },
  {
   "cell_type": "code",
   "execution_count": 894,
   "metadata": {},
   "outputs": [
    {
     "data": {
      "text/plain": [
       "array([214.2181993 , 189.59810605, 140.16317591, 349.12949529,\n",
       "       118.69221101, 145.69537153, 179.51500145, 291.78139143,\n",
       "       271.0746586 , 310.14313536, 428.20093769, 275.0834278 ,\n",
       "       115.90777567, 158.41787468, 184.31432645, 217.19544679,\n",
       "       263.68224403, 182.59248255, 256.78471421, 141.09234328,\n",
       "       184.23768092])"
      ]
     },
     "execution_count": 894,
     "metadata": {},
     "output_type": "execute_result"
    }
   ],
   "source": [
    "preds_n = m*city_data + b\n",
    "preds_n"
   ]
  },
  {
   "cell_type": "code",
   "execution_count": 895,
   "metadata": {},
   "outputs": [
    {
     "data": {
      "text/plain": [
       "96.49596332642565"
      ]
     },
     "execution_count": 895,
     "metadata": {},
     "output_type": "execute_result"
    }
   ],
   "source": [
    "mean_absolute_error(city_gdp, preds_n)"
   ]
  },
  {
   "cell_type": "code",
   "execution_count": 893,
   "metadata": {},
   "outputs": [
    {
     "data": {
      "text/plain": [
       "(5.518604091328476e-05, 104.06270691648898)"
      ]
     },
     "execution_count": 893,
     "metadata": {},
     "output_type": "execute_result"
    },
    {
     "data": {
      "image/png": "[encoded data removed]",
      "text/plain": [
       "<Figure size 432x288 with 1 Axes>"
      ]
     },
     "metadata": {
      "needs_background": "light"
     },
     "output_type": "display_data"
    }
   ],
   "source": [
    "m, b = np.polyfit(city_data, city_gdp, 1)\n",
    "plt.scatter(city_data, city_gdp)\n",
    "x = np.linspace(0, 10000000, 100)\n",
    "y = m * x + b\n",
    "plt.plot(x, y, '-r', label='y=2x+1')\n",
    "\n",
    "\n",
    "plt.title(\"GDP vs Total Night Light\")\n",
    "plt.xlabel(\"Total Night Light\")\n",
    "plt.ylabel(\"GDP in Billions USD\")\n",
    "m, b"
   ]
  },
  {
   "cell_type": "code",
   "execution_count": 887,
   "metadata": {},
   "outputs": [
    {
     "data": {
      "text/plain": [
       "Text(0.5, 1.0, 'Residual Plot For Linear Regression')"
      ]
     },
     "execution_count": 887,
     "metadata": {},
     "output_type": "execute_result"
    },
    {
     "data": {
      "image/png": "[encoded data removed]",
      "text/plain": [
       "<Figure size 432x288 with 1 Axes>"
      ]
     },
     "metadata": {
      "needs_background": "light"
     },
     "output_type": "display_data"
    }
   ],
   "source": [
    "import seaborn as sns\n",
    "sns.residplot(city_data, city_gdp)\n",
    "plt.xlabel(\"Total Night Light\")\n",
    "plt.ylabel(\"GDP Residual\")\n",
    "plt.title(\"Residual Plot For Linear Regression\")"
   ]
  },
  {
   "cell_type": "code",
   "execution_count": 264,
   "metadata": {},
   "outputs": [
    {
     "data": {
      "text/plain": [
       "(112.47071686517114, -1381.0633338552882)"
      ]
     },
     "execution_count": 264,
     "metadata": {},
     "output_type": "execute_result"
    },
    {
     "data": {
      "image/png": "[encoded data removed]",
      "text/plain": [
       "<Figure size 432x288 with 1 Axes>"
      ]
     },
     "metadata": {
      "needs_background": "light"
     },
     "output_type": "display_data"
    }
   ],
   "source": [
    "m, b = np.polyfit(np.log(city_data), city_gdp, 1)\n",
    "plt.scatter(np.log(city_data), city_gdp)\n",
    "x = np.linspace(10, 18, 100)\n",
    "y = m * x + b\n",
    "plt.plot(x, y, '-r', label='y=2x+1')\n",
    "m, b"
   ]
  },
  {
   "cell_type": "code",
   "execution_count": 235,
   "metadata": {},
   "outputs": [
    {
     "data": {
      "text/plain": [
       "(0.6491506776966499, 16.61251570018773)"
      ]
     },
     "execution_count": 235,
     "metadata": {},
     "output_type": "execute_result"
    }
   ],
   "source": [
    "m, b"
   ]
  },
  {
   "cell_type": "code",
   "execution_count": 459,
   "metadata": {},
   "outputs": [
    {
     "data": {
      "text/plain": [
       "(array([[1.        , 0.79710514],\n",
       "        [0.79710514, 1.        ]]), array([[1.        , 0.61087016],\n",
       "        [0.61087016, 1.        ]]))"
      ]
     },
     "execution_count": 459,
     "metadata": {},
     "output_type": "execute_result"
    }
   ],
   "source": [
    "np.corrcoef(np.log(city_data), np.log(city_gdp)), np.corrcoef(city_data, city_gdp)"
   ]
  },
  {
   "cell_type": "code",
   "execution_count": 278,
   "metadata": {},
   "outputs": [],
   "source": [
    "x1 = np.array([2, 4, 6, 8, 10, 12, 14])\n",
    "y1 = np.array([4, 9, 12, 17, 20, 24, 29])\n"
   ]
  },
  {
   "cell_type": "code",
   "execution_count": 279,
   "metadata": {},
   "outputs": [
    {
     "name": "stdout",
     "output_type": "stream",
     "text": [
      "2.017857142857143 0.2857142857142887\n"
     ]
    },
    {
     "data": {
      "image/png": "[encoded data removed]",
      "text/plain": [
       "<Figure size 432x288 with 1 Axes>"
      ]
     },
     "metadata": {
      "needs_background": "light"
     },
     "output_type": "display_data"
    }
   ],
   "source": [
    "m, b = np.polyfit(x1, y1, 1)\n",
    "plt.scatter(x1, y1)\n",
    "x = np.linspace(0, 10, 100)\n",
    "y = m * x + b\n",
    "plt.plot(x, y, '-r', label='y=2x+1')\n",
    "print(m, b)"
   ]
  },
  {
   "cell_type": "code",
   "execution_count": 280,
   "metadata": {},
   "outputs": [
    {
     "name": "stdout",
     "output_type": "stream",
     "text": [
      "0.9907432546831616 0.7413369281615352\n"
     ]
    },
    {
     "data": {
      "image/png": "[encoded data removed]",
      "text/plain": [
       "<Figure size 432x288 with 1 Axes>"
      ]
     },
     "metadata": {
      "needs_background": "light"
     },
     "output_type": "display_data"
    }
   ],
   "source": [
    "m, b = np.polyfit(np.log(x1), np.log(y1), 1)\n",
    "plt.scatter(np.log(x1), np.log(y1))\n",
    "x = np.linspace(0, 10, 100)\n",
    "y = m * x + b\n",
    "plt.plot(x, y, '-r', label='y=2x+1')\n",
    "print(m, b)"
   ]
  },
  {
   "cell_type": "code",
   "execution_count": 191,
   "metadata": {},
   "outputs": [
    {
     "data": {
      "text/plain": [
       "(5.269023291678325e-05, 106.65298834880748)"
      ]
     },
     "execution_count": 191,
     "metadata": {},
     "output_type": "execute_result"
    }
   ],
   "source": [
    "m, b"
   ]
  },
  {
   "cell_type": "code",
   "execution_count": 231,
   "metadata": {},
   "outputs": [
    {
     "data": {
      "text/plain": [
       "array([[1.        , 0.61087016],\n",
       "       [0.61087016, 1.        ]])"
      ]
     },
     "execution_count": 231,
     "metadata": {},
     "output_type": "execute_result"
    }
   ],
   "source": [
    "np.corrcoef(city_data, city_gdp)"
   ]
  },
  {
   "cell_type": "code",
   "execution_count": 60,
   "metadata": {},
   "outputs": [
    {
     "data": {
      "text/plain": [
       "(84.47238599629152, 13.307492964405933)"
      ]
     },
     "execution_count": 60,
     "metadata": {},
     "output_type": "execute_result"
    }
   ],
   "source": [
    "m, b = np.polyfit(city_data, city_gdp, 1)\n",
    "m, b"
   ]
  },
  {
   "cell_type": "code",
   "execution_count": 38,
   "metadata": {},
   "outputs": [
    {
     "data": {
      "text/plain": [
       "array([[1.        , 0.75695905],\n",
       "       [0.75695905, 1.        ]])"
      ]
     },
     "execution_count": 38,
     "metadata": {},
     "output_type": "execute_result"
    }
   ],
   "source": [
    "np.corrcoef(city_data, np.log(city_gdp))"
   ]
  },
  {
   "cell_type": "code",
   "execution_count": 39,
   "metadata": {},
   "outputs": [
    {
     "data": {
      "text/plain": [
       "(0.39043017149728765, 4.232735957003381)"
      ]
     },
     "execution_count": 39,
     "metadata": {},
     "output_type": "execute_result"
    }
   ],
   "source": [
    "m, b = np.polyfit(city_data, np.log(city_gdp), 1)\n",
    "m, b"
   ]
  },
  {
   "cell_type": "code",
   "execution_count": 199,
   "metadata": {},
   "outputs": [
    {
     "data": {
      "text/plain": [
       "LinearRegression(copy_X=True, fit_intercept=True, n_jobs=None, normalize=False)"
      ]
     },
     "execution_count": 199,
     "metadata": {},
     "output_type": "execute_result"
    }
   ],
   "source": [
    "from sklearn.linear_model import LinearRegression\n",
    "\n",
    "lr = LinearRegression()\n",
    "lr.fit(city_data.reshape(-1, 1), np.log(city_gdp))"
   ]
  },
  {
   "cell_type": "code",
   "execution_count": 202,
   "metadata": {},
   "outputs": [
    {
     "data": {
      "text/plain": [
       "0.5616792820959213"
      ]
     },
     "execution_count": 202,
     "metadata": {},
     "output_type": "execute_result"
    }
   ],
   "source": [
    "lr.score(city_data.reshape(-1, 1), np.log(city_gdp))"
   ]
  },
  {
   "cell_type": "code",
   "execution_count": null,
   "metadata": {},
   "outputs": [],
   "source": []
  }
 ],
 "metadata": {
  "kernelspec": {
   "display_name": "Python 3",
   "language": "python",
   "name": "python3"
  },
  "language_info": {
   "codemirror_mode": {
    "name": "ipython",
    "version": 3
   },
   "file_extension": ".py",
   "mimetype": "text/x-python",
   "name": "python",
   "nbconvert_exporter": "python",
   "pygments_lexer": "ipython3",
   "version": "3.7.3"
  },
  "toc": {
   "base_numbering": 1,
   "nav_menu": {},
   "number_sections": true,
   "sideBar": true,
   "skip_h1_title": false,
   "title_cell": "Table of Contents",
   "title_sidebar": "Contents",
   "toc_cell": false,
   "toc_position": {},
   "toc_section_display": true,
   "toc_window_display": false
  },
  "varInspector": {
   "cols": {
    "lenName": 16,
    "lenType": 16,
    "lenVar": 40
   },
   "kernels_config": {
    "python": {
     "delete_cmd_postfix": "",
     "delete_cmd_prefix": "del ",
     "library": "var_list.py",
     "varRefreshCmd": "print(var_dic_list())"
    },
    "r": {
     "delete_cmd_postfix": ") ",
     "delete_cmd_prefix": "rm(",
     "library": "var_list.r",
     "varRefreshCmd": "cat(var_dic_list()) "
    }
   },
   "types_to_exclude": [
    "module",
    "function",
    "builtin_function_or_method",
    "instance",
    "_Feature"
   ],
   "window_display": false
  }
 },
 "nbformat": 4,
 "nbformat_minor": 2
}
