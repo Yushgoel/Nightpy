{
 "cells": [
  {
   "cell_type": "code",
   "execution_count": 334,
   "metadata": {},
   "outputs": [],
   "source": [
    "import os\n",
    "import h5py\n",
    "import numpy as np\n",
    "import matplotlib.pyplot as plt\n",
    "import PIL\n",
    "from PIL import Image"
   ]
  },
  {
   "cell_type": "code",
   "execution_count": 322,
   "metadata": {},
   "outputs": [],
   "source": [
    "def return_rad(path):\n",
    "    hf = h5py.File(path, 'r')\n",
    "    HDFEOS = hf['HDFEOS']\n",
    "    grids = HDFEOS['GRIDS']\n",
    "    vnp = grids['VNP_Grid_DNB']\n",
    "    data = vnp['Data Fields']\n",
    "    radiance = data['DNB_At_Sensor_Radiance_500m']\n",
    "    rad = np.matrix(radiance)\n",
    "    rad = rad.astype('int16')\n",
    "    return rad\n",
    "\n",
    "def return_cloud(path):\n",
    "    hf = h5py.File(path, 'r')\n",
    "    HDFEOS = hf['HDFEOS']\n",
    "    grids = HDFEOS['GRIDS']\n",
    "    vnp = grids['VNP_Grid_DNB']\n",
    "    data = vnp['Data Fields']\n",
    "    cloud_cov = data['QF_Cloud_Mask']\n",
    "    cloud = np.matrix(cloud_cov)\n",
    "    cloud = cloud.astype('int16')\n",
    "    return cloud\n",
    "\n",
    "def img_rad(matrix):\n",
    "    img = Image.fromarray(matrix)\n",
    "    img.show()\n",
    "    \n",
    "def city_from_cords(x_start, x_end, y_start, y_end, tile):\n",
    "    city_matrix = np.zeros(( (y_end - y_start),   (x_end - x_start)  ))\n",
    "    city_matrix = np.matrix(city_matrix)\n",
    "    \n",
    "    for x in range(x_start, x_end):\n",
    "        for y in range(y_start, y_end):\n",
    "            city_matrix[y - y_start, x - x_start] = tile[y, x]\n",
    "        \n",
    "    return city_matrix\n",
    "\n",
    "def return_cloud_filter(cloud_data, mask_num = 0b11000000, threshold = 190, scale_for_img = False):\n",
    "    cloud_filter = np.zeros(cloud_data.shape)\n",
    "    cloud_filter = np.matrix(cloud_filter)\n",
    "    \n",
    "    cloud_filter = cloud_data & mask_num\n",
    "    cloud_filter = cloud_filter < threshold\n",
    "    \n",
    "    if scale_for_img:\n",
    "        cloud_filter = cloud_filter * 255\n",
    "        \n",
    "    cloud_filter = cloud_filter.astype('int16')\n",
    "    return cloud_filter\n",
    "\n",
    "def single_loc_mean(tile):\n",
    "    return tile.mean()\n",
    "\n"
   ]
  },
  {
   "cell_type": "code",
   "execution_count": null,
   "metadata": {},
   "outputs": [],
   "source": [
    "import os\n",
    "#os.rename(r'Untitled.ipynb',r'Rename_trial.ipynb')\n",
    "\n"
   ]
  },
  {
   "cell_type": "code",
   "execution_count": 408,
   "metadata": {},
   "outputs": [
    {
     "data": {
      "text/plain": [
       "'A2020113.h25v07'"
      ]
     },
     "execution_count": 408,
     "metadata": {},
     "output_type": "execute_result"
    }
   ],
   "source": [
    "os.listdir('.')[7][8 : 23]"
   ]
  },
  {
   "cell_type": "code",
   "execution_count": 409,
   "metadata": {},
   "outputs": [],
   "source": [
    "os.rename(os.listdir('.')[7], os.listdir('.')[7][8 : 23] + '.h5')"
   ]
  },
  {
   "cell_type": "code",
   "execution_count": 326,
   "metadata": {},
   "outputs": [],
   "source": [
    "#Defining Coordinates for all cities\n",
    "\n",
    "city_cords = {\n",
    "    'blr_x_start' : 1781,\n",
    "    'blr_x_end' : 1870,\n",
    "    'blr_y_start' : 1640,\n",
    "    'blr_y_end' : 1738\n",
    "}"
   ]
  },
  {
   "cell_type": "code",
   "execution_count": 424,
   "metadata": {},
   "outputs": [],
   "source": [
    "import datetime as dt\n",
    "\n",
    "year = 2020\n",
    "month = 2\n",
    "day = 1\n",
    "days_in_the_year = (dt.date(year, month, day) - dt.date(year,1,1)).days + 1"
   ]
  },
  {
   "cell_type": "code",
   "execution_count": 435,
   "metadata": {},
   "outputs": [
    {
     "data": {
      "text/plain": [
       "'032'"
      ]
     },
     "execution_count": 435,
     "metadata": {},
     "output_type": "execute_result"
    }
   ],
   "source": [
    "days_in_the_year = (dt.date(year, month, day) - dt.date(year,1,1)).days + 1\n",
    "days_in_the_year = str(days_in_the_year).zfill(3)\n",
    "days_in_the_year"
   ]
  },
  {
   "cell_type": "code",
   "execution_count": 425,
   "metadata": {},
   "outputs": [
    {
     "name": "stdout",
     "output_type": "stream",
     "text": [
      "32\n"
     ]
    },
    {
     "data": {
      "text/plain": [
       "'032'"
      ]
     },
     "execution_count": 425,
     "metadata": {},
     "output_type": "execute_result"
    }
   ],
   "source": [
    "days_in_the_year = str(days_in_the_year)\n",
    "print(days_in_the_year)\n",
    "days_in_the_year.zfill(3)"
   ]
  },
  {
   "cell_type": "code",
   "execution_count": 432,
   "metadata": {},
   "outputs": [],
   "source": [
    "def rename_data():\n",
    "    data = os.listdir('./Renaming_data')\n",
    "    print(\"Starting Renaming      \", end=\"\", flush=True)\n",
    "    for file in data:\n",
    "        os.rename('./Renaming_data/' + file, './Renaming_data/' + file[8 : 23] + '.h5')\n",
    "        print(\".      \", end=\"\", flush=True)\n",
    "    print(\"Renaming Data Finished\")"
   ]
  },
  {
   "cell_type": "code",
   "execution_count": 441,
   "metadata": {},
   "outputs": [],
   "source": [
    "def week_loc_mean(tile, year, day_start, day_end, month):\n",
    "\n",
    "    week_tile = np.zeros((2400, 2400))\n",
    "    week_tile = np.matrix(week_tile)\n",
    "    \n",
    "    for i in range(day_start, day_end + 1):\n",
    "        day_file = (dt.date(year, month, i) - dt.date(year,1,1)).days + 1\n",
    "        day_file = str(day_file).zfill(3)\n",
    "        path = 'A' + str(year) + day_file + '.' + tile + '.h5'\n",
    "        rad = return_rad('Data/' + path)\n",
    "        week_tile = week_tile + rad\n",
    "    \n",
    "    week_tile = week_tile / (day_end - day_start + 1)\n",
    "    return week_tile"
   ]
  },
  {
   "cell_type": "code",
   "execution_count": 442,
   "metadata": {},
   "outputs": [],
   "source": [
    "week_test = week_loc_mean('h25v07', 2019, 25, 31, 10)"
   ]
  },
  {
   "cell_type": "code",
   "execution_count": 443,
   "metadata": {},
   "outputs": [],
   "source": [
    "img_rad(week_test)"
   ]
  },
  {
   "cell_type": "code",
   "execution_count": 433,
   "metadata": {},
   "outputs": [
    {
     "name": "stdout",
     "output_type": "stream",
     "text": [
      "Starting Renaming      .      .      .      .      .      .      .      .      .      .      .      .      .      .      .      .      .      .      .      .      .      .      .      .      .      .      .      .      .      .      .      .      .      .      .      .      .      .      .      .      .      .      .      .      .      .      .      .      .      .      .      .      .      .      .      .      Renaming Data Finished\n"
     ]
    }
   ],
   "source": [
    "rename_data()"
   ]
  },
  {
   "cell_type": "code",
   "execution_count": 414,
   "metadata": {},
   "outputs": [
    {
     "ename": "AttributeError",
     "evalue": "'datetime.datetime' object has no attribute 'days'",
     "output_type": "error",
     "traceback": [
      "\u001b[0;31m---------------------------------------------------------------------------\u001b[0m",
      "\u001b[0;31mAttributeError\u001b[0m                            Traceback (most recent call last)",
      "\u001b[0;32m<ipython-input-414-6a4f5c70938a>\u001b[0m in \u001b[0;36m<module>\u001b[0;34m\u001b[0m\n\u001b[0;32m----> 1\u001b[0;31m \u001b[0;34m(\u001b[0m\u001b[0mdatetime\u001b[0m\u001b[0;34m.\u001b[0m\u001b[0mdatetime\u001b[0m\u001b[0;34m(\u001b[0m\u001b[0;36m2020\u001b[0m\u001b[0;34m,\u001b[0m \u001b[0;36m3\u001b[0m\u001b[0;34m,\u001b[0m \u001b[0;36m1\u001b[0m\u001b[0;34m)\u001b[0m\u001b[0;34m)\u001b[0m\u001b[0;34m.\u001b[0m\u001b[0mdays\u001b[0m\u001b[0;34m\u001b[0m\u001b[0;34m\u001b[0m\u001b[0m\n\u001b[0m",
      "\u001b[0;31mAttributeError\u001b[0m: 'datetime.datetime' object has no attribute 'days'"
     ]
    }
   ],
   "source": [
    "(datetime.datetime(2020, 3, 1)).days"
   ]
  },
  {
   "cell_type": "code",
   "execution_count": null,
   "metadata": {},
   "outputs": [],
   "source": []
  },
  {
   "cell_type": "code",
   "execution_count": 323,
   "metadata": {},
   "outputs": [],
   "source": [
    "cloud_test = return_cloud('Data/h25v07.2020_7_1.h5')"
   ]
  },
  {
   "cell_type": "code",
   "execution_count": 324,
   "metadata": {},
   "outputs": [],
   "source": [
    "a = return_cloud_filter(cloud_test, 0b11000000, 190, True)"
   ]
  },
  {
   "cell_type": "code",
   "execution_count": 325,
   "metadata": {},
   "outputs": [],
   "source": [
    "img_rad(a)"
   ]
  },
  {
   "cell_type": "code",
   "execution_count": 327,
   "metadata": {},
   "outputs": [],
   "source": [
    "h25v07_2019_12 = week_loc_mean(tile='h25v07', year='2019', day_start=2, day_end=8, month=12)\n",
    "\n",
    "h25v07_2019_11 = week_loc_mean(tile='h25v07', year='2019', day_start=4, day_end=10, month=11)\n",
    "\n",
    "h25v07_2020_1 = week_loc_mean(tile='h25v07', year='2020', day_start=6, day_end=12, month=1)"
   ]
  },
  {
   "cell_type": "code",
   "execution_count": 328,
   "metadata": {},
   "outputs": [],
   "source": [
    "blr_2019_12 = city_from_cords(city_cords['blr_x_start'], city_cords['blr_x_end'], city_cords['blr_y_start'], city_cords['blr_y_end'], h25v07_2019_12)\n",
    "\n",
    "blr_2019_11 = city_from_cords(city_cords['blr_x_start'], city_cords['blr_x_end'], city_cords['blr_y_start'], city_cords['blr_y_end'], h25v07_2019_11)\n",
    "\n",
    "blr_2020_1 = city_from_cords(city_cords['blr_x_start'], city_cords['blr_x_end'], city_cords['blr_y_start'], city_cords['blr_y_end'], h25v07_2020_1)"
   ]
  },
  {
   "cell_type": "code",
   "execution_count": 330,
   "metadata": {},
   "outputs": [],
   "source": [
    "img_rad(blr_2019_11)\n",
    "\n",
    "img_rad(blr_2019_12)\n",
    "\n",
    "img_rad(blr_2020_1)"
   ]
  },
  {
   "cell_type": "code",
   "execution_count": 331,
   "metadata": {},
   "outputs": [],
   "source": [
    "nov = single_loc_mean(blr_2019_11)\n",
    "\n",
    "dec = single_loc_mean(blr_2019_12)\n",
    "\n",
    "jan = single_loc_mean(blr_2020_1)"
   ]
  },
  {
   "cell_type": "code",
   "execution_count": 332,
   "metadata": {},
   "outputs": [],
   "source": [
    "lights = [nov, dec, jan]\n",
    "days = ['nov', 'dec', 'jan']"
   ]
  },
  {
   "cell_type": "code",
   "execution_count": 337,
   "metadata": {},
   "outputs": [
    {
     "data": {
      "text/plain": [
       "[<matplotlib.lines.Line2D at 0x7fcd6e201198>]"
      ]
     },
     "execution_count": 337,
     "metadata": {},
     "output_type": "execute_result"
    },
    {
     "data": {
      "image/png": "[encoded data removed]",
      "text/plain": [
       "<Figure size 432x288 with 1 Axes>"
      ]
     },
     "metadata": {
      "needs_background": "light"
     },
     "output_type": "display_data"
    }
   ],
   "source": [
    "plt.plot(days, lights)"
   ]
  },
  {
   "cell_type": "code",
   "execution_count": 376,
   "metadata": {},
   "outputs": [],
   "source": [
    "h25v07_2019_2_12 = return_rad('Data/h25v07.2019_2_12.h5')\n",
    "\n"
   ]
  },
  {
   "cell_type": "code",
   "execution_count": 339,
   "metadata": {},
   "outputs": [
    {
     "data": {
      "text/plain": [
       "3"
      ]
     },
     "execution_count": 339,
     "metadata": {},
     "output_type": "execute_result"
    }
   ],
   "source": [
    "a = [1, 1, 1]\n",
    "sum(a)"
   ]
  },
  {
   "cell_type": "code",
   "execution_count": 380,
   "metadata": {},
   "outputs": [],
   "source": [
    "def join_tiles(tiles, shapes):\n",
    "    assert len(tiles) == sum(shapes)\n",
    "    null_tile = np.zeros((2400, 2400))\n",
    "    null_tile = np.matrix(null_tile)\n",
    "    \n",
    "    big_tile = np.zeros((2400*len(shapes), 2400*max(shapes)))\n",
    "    \n",
    "    index = 0\n",
    "    \n",
    "    for j in range(len(shapes)):\n",
    "        for i in range(shapes[j]):\n",
    "            tile = tiles[index]\n",
    "            big_tile[j*2400 : tile.shape[0] + j*2400, i*2400 : tile.shape[1] + i *2400] = tile\n",
    "            index += 1\n",
    "            \n",
    "    return big_tile\n",
    "            \n",
    "        "
   ]
  },
  {
   "cell_type": "code",
   "execution_count": 383,
   "metadata": {},
   "outputs": [],
   "source": [
    "join_test = join_tiles([h25v07_2019_2_12, h25v07_2019_2_12, h25v07_2019_2_12, h25v07_2019_2_12, h25v07_2019_2_12, h25v07_2019_2_12], [2, 1, 3])"
   ]
  },
  {
   "cell_type": "code",
   "execution_count": 384,
   "metadata": {},
   "outputs": [],
   "source": [
    "img_rad(join_test)"
   ]
  },
  {
   "cell_type": "code",
   "execution_count": 371,
   "metadata": {},
   "outputs": [],
   "source": [
    "A = np.ones((5,5))\n",
    "B = np.array(([[0.1, 0.2], [0.3, 0.4]]))\n"
   ]
  },
  {
   "cell_type": "code",
   "execution_count": 385,
   "metadata": {},
   "outputs": [],
   "source": [
    "a = [None, 1, 2]"
   ]
  },
  {
   "cell_type": "code",
   "execution_count": 386,
   "metadata": {},
   "outputs": [
    {
     "data": {
      "text/plain": [
       "[None, 1, 2]"
      ]
     },
     "execution_count": 386,
     "metadata": {},
     "output_type": "execute_result"
    }
   ],
   "source": [
    "a"
   ]
  },
  {
   "cell_type": "code",
   "execution_count": 357,
   "metadata": {},
   "outputs": [],
   "source": [
    "A[-B.shape[0]:, -B.shape[1]:] = B"
   ]
  },
  {
   "cell_type": "code",
   "execution_count": 373,
   "metadata": {},
   "outputs": [],
   "source": [
    "A[1:1 + B.shape[0], 0:B.shape[1]] = B"
   ]
  },
  {
   "cell_type": "code",
   "execution_count": 374,
   "metadata": {},
   "outputs": [
    {
     "data": {
      "text/plain": [
       "array([[1. , 1. , 1. , 1. , 1. ],\n",
       "       [0.1, 0.2, 1. , 1. , 1. ],\n",
       "       [0.3, 0.4, 1. , 1. , 1. ],\n",
       "       [1. , 1. , 1. , 1. , 1. ],\n",
       "       [1. , 1. , 1. , 1. , 1. ]])"
      ]
     },
     "execution_count": 374,
     "metadata": {},
     "output_type": "execute_result"
    }
   ],
   "source": [
    "A"
   ]
  },
  {
   "cell_type": "code",
   "execution_count": 346,
   "metadata": {},
   "outputs": [
    {
     "data": {
      "text/plain": [
       "array([[0.1, 0.2],\n",
       "       [0.3, 0.4]])"
      ]
     },
     "execution_count": 346,
     "metadata": {},
     "output_type": "execute_result"
    }
   ],
   "source": [
    "B"
   ]
  },
  {
   "cell_type": "code",
   "execution_count": 11,
   "metadata": {},
   "outputs": [
    {
     "data": {
      "text/plain": [
       "matrix([[ 2,  1,  1, ...,  3, 12,  4],\n",
       "        [ 2,  2,  2, ..., 14, 12, 13],\n",
       "        [ 3,  2,  2, ...,  3,  3,  2],\n",
       "        ...,\n",
       "        [ 1,  3,  3, ...,  2,  3,  3],\n",
       "        [ 2,  2,  2, ...,  3,  1,  3],\n",
       "        [ 2,  2,  2, ...,  3,  1,  2]], dtype=int16)"
      ]
     },
     "execution_count": 11,
     "metadata": {},
     "output_type": "execute_result"
    }
   ],
   "source": [
    "h25v07_2019_2_12"
   ]
  },
  {
   "cell_type": "code",
   "execution_count": 12,
   "metadata": {},
   "outputs": [],
   "source": [
    "img_rad(h25v07_2019_2_12)"
   ]
  },
  {
   "cell_type": "code",
   "execution_count": 61,
   "metadata": {},
   "outputs": [],
   "source": [
    "bangalore_2019_2_12 = np.zeros((98, 89))\n",
    "bangalore_2019_2_12 = np.matrix(bangalore_2020_2_12)"
   ]
  },
  {
   "cell_type": "code",
   "execution_count": 64,
   "metadata": {},
   "outputs": [],
   "source": [
    "for x in range(1781, 1870):\n",
    "    for y in range(1640, 1738):\n",
    "        bangalore_2019_2_12[y - 1640, x - 1781] = h25v07_2019_2_12[y, x]"
   ]
  },
  {
   "cell_type": "code",
   "execution_count": 65,
   "metadata": {},
   "outputs": [
    {
     "data": {
      "text/plain": [
       "matrix([[23., 21., 21., ..., 34., 30., 30.],\n",
       "        [23., 23., 22., ..., 34., 30., 30.],\n",
       "        [26., 26., 24., ..., 32., 32., 32.],\n",
       "        ...,\n",
       "        [40., 40., 40., ..., 64., 64., 66.],\n",
       "        [36., 36., 37., ..., 57., 57., 66.],\n",
       "        [33., 32., 32., ..., 57., 57., 66.]])"
      ]
     },
     "execution_count": 65,
     "metadata": {},
     "output_type": "execute_result"
    }
   ],
   "source": [
    "bangalore_2019_2_12"
   ]
  },
  {
   "cell_type": "code",
   "execution_count": 66,
   "metadata": {},
   "outputs": [],
   "source": [
    "img_rad(bangalore_2019_2_12)"
   ]
  },
  {
   "cell_type": "code",
   "execution_count": 70,
   "metadata": {},
   "outputs": [],
   "source": [
    "bng_test = city_from_cords(x_start=1781, x_end=1870, y_start=1640, y_end = 1738, tile=h25v07_2019_2_12)\n",
    "img_rad(bng_test)"
   ]
  },
  {
   "cell_type": "code",
   "execution_count": 74,
   "metadata": {},
   "outputs": [
    {
     "data": {
      "text/plain": [
       "matrix([[23., 21., 21., ..., 34., 30., 30.],\n",
       "        [23., 23., 22., ..., 34., 30., 30.],\n",
       "        [26., 26., 24., ..., 32., 32., 32.],\n",
       "        ...,\n",
       "        [40., 40., 40., ..., 64., 64., 66.],\n",
       "        [36., 36., 37., ..., 57., 57., 66.],\n",
       "        [33., 32., 32., ..., 57., 57., 66.]])"
      ]
     },
     "execution_count": 74,
     "metadata": {},
     "output_type": "execute_result"
    }
   ],
   "source": [
    "bng_test"
   ]
  },
  {
   "cell_type": "code",
   "execution_count": 75,
   "metadata": {},
   "outputs": [
    {
     "data": {
      "text/plain": [
       "matrix([[23., 21., 21., ..., 34., 30., 30.],\n",
       "        [23., 23., 22., ..., 34., 30., 30.],\n",
       "        [26., 26., 24., ..., 32., 32., 32.],\n",
       "        ...,\n",
       "        [40., 40., 40., ..., 64., 64., 66.],\n",
       "        [36., 36., 37., ..., 57., 57., 66.],\n",
       "        [33., 32., 32., ..., 57., 57., 66.]])"
      ]
     },
     "execution_count": 75,
     "metadata": {},
     "output_type": "execute_result"
    }
   ],
   "source": [
    "(bangalore_2019_2_12 + bng_test) / 2"
   ]
  },
  {
   "cell_type": "code",
   "execution_count": null,
   "metadata": {},
   "outputs": [],
   "source": []
  }
 ],
 "metadata": {
  "kernelspec": {
   "display_name": "Python 3",
   "language": "python",
   "name": "python3"
  },
  "language_info": {
   "codemirror_mode": {
    "name": "ipython",
    "version": 3
   },
   "file_extension": ".py",
   "mimetype": "text/x-python",
   "name": "python",
   "nbconvert_exporter": "python",
   "pygments_lexer": "ipython3",
   "version": "3.7.3"
  }
 },
 "nbformat": 4,
 "nbformat_minor": 2
}
