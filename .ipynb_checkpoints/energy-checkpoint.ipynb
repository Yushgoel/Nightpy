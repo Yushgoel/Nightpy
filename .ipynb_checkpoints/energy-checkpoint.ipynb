{
 "cells": [
  {
   "cell_type": "code",
   "execution_count": 1,
   "metadata": {},
   "outputs": [],
   "source": [
    "import pandas as pd\n",
    "import numpy as np"
   ]
  },
  {
   "cell_type": "code",
   "execution_count": 2,
   "metadata": {},
   "outputs": [
    {
     "data": {
      "text/plain": [
       "['.DS_Store',\n",
       " '.ipynb_checkpoints',\n",
       " '__pycache__',\n",
       " 'Concise_research.ipynb',\n",
       " 'Data',\n",
       " 'data.xlsx',\n",
       " 'Download Data.ipynb',\n",
       " 'energy.ipynb',\n",
       " 'energy_data.csv',\n",
       " 'hegMACv2.15',\n",
       " 'night_light_utils.py',\n",
       " 'Output',\n",
       " 'Pipeline.ipynb',\n",
       " 'Rename_trial.ipynb',\n",
       " 'Renaming_data',\n",
       " 'report_gen.py',\n",
       " 'Research.ipynb',\n",
       " 'Summaries',\n",
       " 'trial.png',\n",
       " 'trial1.png',\n",
       " 'VNP46A1',\n",
       " 'YASHK.csv']"
      ]
     },
     "execution_count": 2,
     "metadata": {},
     "output_type": "execute_result"
    }
   ],
   "source": [
    "import os\n",
    "os.listdir()"
   ]
  },
  {
   "cell_type": "code",
   "execution_count": 3,
   "metadata": {},
   "outputs": [],
   "source": [
    "data = pd.read_csv('YASHK.csv')"
   ]
  },
  {
   "cell_type": "code",
   "execution_count": 4,
   "metadata": {
    "scrolled": false
   },
   "outputs": [
    {
     "data": {
      "text/html": [
       "<div>\n",
       "<style scoped>\n",
       "    .dataframe tbody tr th:only-of-type {\n",
       "        vertical-align: middle;\n",
       "    }\n",
       "\n",
       "    .dataframe tbody tr th {\n",
       "        vertical-align: top;\n",
       "    }\n",
       "\n",
       "    .dataframe thead th {\n",
       "        text-align: right;\n",
       "    }\n",
       "</style>\n",
       "<table border=\"1\" class=\"dataframe\">\n",
       "  <thead>\n",
       "    <tr style=\"text-align: right;\">\n",
       "      <th></th>\n",
       "      <th>State</th>\n",
       "      <th>GSDP</th>\n",
       "      <th>Energy</th>\n",
       "    </tr>\n",
       "  </thead>\n",
       "  <tbody>\n",
       "    <tr>\n",
       "      <th>0</th>\n",
       "      <td>Andhra Pradesh</td>\n",
       "      <td>809547.0</td>\n",
       "      <td>157</td>\n",
       "    </tr>\n",
       "    <tr>\n",
       "      <th>1</th>\n",
       "      <td>Assam</td>\n",
       "      <td>288494.0</td>\n",
       "      <td>29</td>\n",
       "    </tr>\n",
       "    <tr>\n",
       "      <th>2</th>\n",
       "      <td>Bihar</td>\n",
       "      <td>484740.0</td>\n",
       "      <td>70</td>\n",
       "    </tr>\n",
       "    <tr>\n",
       "      <th>3</th>\n",
       "      <td>Chhattisgarh</td>\n",
       "      <td>284194.0</td>\n",
       "      <td>75</td>\n",
       "    </tr>\n",
       "    <tr>\n",
       "      <th>4</th>\n",
       "      <td>Delhi</td>\n",
       "      <td>690098.0</td>\n",
       "      <td>102</td>\n",
       "    </tr>\n",
       "    <tr>\n",
       "      <th>5</th>\n",
       "      <td>Goa</td>\n",
       "      <td>70493.0</td>\n",
       "      <td>9</td>\n",
       "    </tr>\n",
       "    <tr>\n",
       "      <th>6</th>\n",
       "      <td>Gujarat</td>\n",
       "      <td>1314680.0</td>\n",
       "      <td>250</td>\n",
       "    </tr>\n",
       "    <tr>\n",
       "      <th>7</th>\n",
       "      <td>Haryana</td>\n",
       "      <td>626054.0</td>\n",
       "      <td>161</td>\n",
       "    </tr>\n",
       "    <tr>\n",
       "      <th>8</th>\n",
       "      <td>Himachal Pradesh</td>\n",
       "      <td>140613.0</td>\n",
       "      <td>25</td>\n",
       "    </tr>\n",
       "    <tr>\n",
       "      <th>9</th>\n",
       "      <td>Jammu and Kashmir (state)</td>\n",
       "      <td>138488.0</td>\n",
       "      <td>34</td>\n",
       "    </tr>\n",
       "    <tr>\n",
       "      <th>10</th>\n",
       "      <td>Jharkhand</td>\n",
       "      <td>276243.0</td>\n",
       "      <td>21</td>\n",
       "    </tr>\n",
       "    <tr>\n",
       "      <th>11</th>\n",
       "      <td>Karnataka</td>\n",
       "      <td>1350257.0</td>\n",
       "      <td>172</td>\n",
       "    </tr>\n",
       "    <tr>\n",
       "      <th>12</th>\n",
       "      <td>Kerala</td>\n",
       "      <td>700532.0</td>\n",
       "      <td>63</td>\n",
       "    </tr>\n",
       "    <tr>\n",
       "      <th>13</th>\n",
       "      <td>Madhya Pradesh</td>\n",
       "      <td>728242.0</td>\n",
       "      <td>134</td>\n",
       "    </tr>\n",
       "    <tr>\n",
       "      <th>14</th>\n",
       "      <td>Maharashtra</td>\n",
       "      <td>2411600.0</td>\n",
       "      <td>368</td>\n",
       "    </tr>\n",
       "    <tr>\n",
       "      <th>15</th>\n",
       "      <td>Manipur</td>\n",
       "      <td>23968.0</td>\n",
       "      <td>2</td>\n",
       "    </tr>\n",
       "    <tr>\n",
       "      <th>16</th>\n",
       "      <td>Mizoram</td>\n",
       "      <td>19457.0</td>\n",
       "      <td>1</td>\n",
       "    </tr>\n",
       "    <tr>\n",
       "      <th>17</th>\n",
       "      <td>Nagaland</td>\n",
       "      <td>24281.0</td>\n",
       "      <td>2</td>\n",
       "    </tr>\n",
       "    <tr>\n",
       "      <th>18</th>\n",
       "      <td>Odisha</td>\n",
       "      <td>436374.0</td>\n",
       "      <td>77</td>\n",
       "    </tr>\n",
       "    <tr>\n",
       "      <th>19</th>\n",
       "      <td>Puducherry</td>\n",
       "      <td>32962.0</td>\n",
       "      <td>7</td>\n",
       "    </tr>\n",
       "    <tr>\n",
       "      <th>20</th>\n",
       "      <td>Punjab</td>\n",
       "      <td>479141.0</td>\n",
       "      <td>201</td>\n",
       "    </tr>\n",
       "    <tr>\n",
       "      <th>21</th>\n",
       "      <td>Rajasthan</td>\n",
       "      <td>835558.0</td>\n",
       "      <td>160</td>\n",
       "    </tr>\n",
       "    <tr>\n",
       "      <th>22</th>\n",
       "      <td>Sikkim</td>\n",
       "      <td>23495.0</td>\n",
       "      <td>1</td>\n",
       "    </tr>\n",
       "    <tr>\n",
       "      <th>23</th>\n",
       "      <td>Tamil Nadu</td>\n",
       "      <td>1461841.0</td>\n",
       "      <td>297</td>\n",
       "    </tr>\n",
       "    <tr>\n",
       "      <th>24</th>\n",
       "      <td>Telangana</td>\n",
       "      <td>753811.0</td>\n",
       "      <td>161</td>\n",
       "    </tr>\n",
       "    <tr>\n",
       "      <th>25</th>\n",
       "      <td>Uttar Pradesh</td>\n",
       "      <td>1376324.0</td>\n",
       "      <td>296</td>\n",
       "    </tr>\n",
       "    <tr>\n",
       "      <th>26</th>\n",
       "      <td>Uttarakhand</td>\n",
       "      <td>222836.0</td>\n",
       "      <td>38</td>\n",
       "    </tr>\n",
       "    <tr>\n",
       "      <th>27</th>\n",
       "      <td>West Bengal</td>\n",
       "      <td>999585.0</td>\n",
       "      <td>155</td>\n",
       "    </tr>\n",
       "  </tbody>\n",
       "</table>\n",
       "</div>"
      ],
      "text/plain": [
       "                       State        GSDP  Energy \n",
       "0             Andhra Pradesh    809547.0      157\n",
       "1                       Assam   288494.0       29\n",
       "2                       Bihar   484740.0       70\n",
       "3                Chhattisgarh   284194.0       75\n",
       "4                       Delhi   690098.0      102\n",
       "5                         Goa    70493.0        9\n",
       "6                     Gujarat  1314680.0      250\n",
       "7                     Haryana   626054.0      161\n",
       "8            Himachal Pradesh   140613.0       25\n",
       "9   Jammu and Kashmir (state)   138488.0       34\n",
       "10                  Jharkhand   276243.0       21\n",
       "11                  Karnataka  1350257.0      172\n",
       "12                     Kerala   700532.0       63\n",
       "13             Madhya Pradesh   728242.0      134\n",
       "14                Maharashtra  2411600.0      368\n",
       "15                    Manipur    23968.0        2\n",
       "16                    Mizoram    19457.0        1\n",
       "17                   Nagaland    24281.0        2\n",
       "18                     Odisha   436374.0       77\n",
       "19                 Puducherry    32962.0        7\n",
       "20                     Punjab   479141.0      201\n",
       "21                  Rajasthan   835558.0      160\n",
       "22                     Sikkim    23495.0        1\n",
       "23                 Tamil Nadu  1461841.0      297\n",
       "24                  Telangana   753811.0      161\n",
       "25              Uttar Pradesh  1376324.0      296\n",
       "26                Uttarakhand   222836.0       38\n",
       "27                West Bengal   999585.0      155"
      ]
     },
     "execution_count": 4,
     "metadata": {},
     "output_type": "execute_result"
    }
   ],
   "source": [
    "data"
   ]
  },
  {
   "cell_type": "code",
   "execution_count": 5,
   "metadata": {},
   "outputs": [],
   "source": [
    "import matplotlib.pyplot as plt\n"
   ]
  },
  {
   "cell_type": "code",
   "execution_count": 6,
   "metadata": {},
   "outputs": [
    {
     "data": {
      "text/plain": [
       "<matplotlib.collections.PathCollection at 0x7f853e62d908>"
      ]
     },
     "execution_count": 6,
     "metadata": {},
     "output_type": "execute_result"
    },
    {
     "data": {
      "image/png": "[encoded data removed]",
      "text/plain": [
       "<Figure size 432x288 with 1 Axes>"
      ]
     },
     "metadata": {
      "needs_background": "light"
     },
     "output_type": "display_data"
    }
   ],
   "source": [
    "plt.scatter(data['Energy '], data['GSDP'])"
   ]
  },
  {
   "cell_type": "code",
   "execution_count": 7,
   "metadata": {},
   "outputs": [
    {
     "data": {
      "text/plain": [
       "(5202.821867206951, 37201.803978895456)"
      ]
     },
     "execution_count": 7,
     "metadata": {},
     "output_type": "execute_result"
    },
    {
     "data": {
      "image/png": "[encoded data removed]",
      "text/plain": [
       "<Figure size 432x288 with 1 Axes>"
      ]
     },
     "metadata": {
      "needs_background": "light"
     },
     "output_type": "display_data"
    }
   ],
   "source": [
    "m, b = np.polyfit(data['Energy '], data['GSDP'], 1)\n",
    "plt.scatter(data['Energy '], data['GSDP'])\n",
    "x = np.linspace(0, 350, 100)\n",
    "y = m * x + b\n",
    "\n",
    "plt.plot(x, y, '-r', label='y=2x+1')\n",
    "m, b"
   ]
  },
  {
   "cell_type": "code",
   "execution_count": 8,
   "metadata": {},
   "outputs": [
    {
     "data": {
      "text/plain": [
       "array([[1.        , 0.93581578],\n",
       "       [0.93581578, 1.        ]])"
      ]
     },
     "execution_count": 8,
     "metadata": {},
     "output_type": "execute_result"
    }
   ],
   "source": [
    "np.corrcoef(data['Energy '], data['GSDP'])"
   ]
  },
  {
   "cell_type": "code",
   "execution_count": 9,
   "metadata": {},
   "outputs": [
    {
     "data": {
      "text/plain": [
       "(0.7896689707921198, 9.613904765625392)"
      ]
     },
     "execution_count": 9,
     "metadata": {},
     "output_type": "execute_result"
    },
    {
     "data": {
      "image/png": "[encoded data removed]",
      "text/plain": [
       "<Figure size 432x288 with 1 Axes>"
      ]
     },
     "metadata": {
      "needs_background": "light"
     },
     "output_type": "display_data"
    }
   ],
   "source": [
    "m, b = np.polyfit(np.log(data['Energy ']), np.log(data['GSDP']), 1)\n",
    "plt.scatter(np.log(data['Energy ']), np.log(data['GSDP']))\n",
    "x = np.linspace(0, 10, 100)\n",
    "y = m * x + b\n",
    "\n",
    "plt.plot(x, y, '-r', label='y=2x+1')\n",
    "m, b"
   ]
  },
  {
   "cell_type": "code",
   "execution_count": 10,
   "metadata": {},
   "outputs": [
    {
     "data": {
      "text/plain": [
       "array([[1.        , 0.97019162],\n",
       "       [0.97019162, 1.        ]])"
      ]
     },
     "execution_count": 10,
     "metadata": {},
     "output_type": "execute_result"
    }
   ],
   "source": [
    "np.corrcoef(np.log(data['Energy ']), np.log(data['GSDP']))"
   ]
  },
  {
   "cell_type": "code",
   "execution_count": 11,
   "metadata": {},
   "outputs": [
    {
     "data": {
      "text/html": [
       "<div>\n",
       "<style scoped>\n",
       "    .dataframe tbody tr th:only-of-type {\n",
       "        vertical-align: middle;\n",
       "    }\n",
       "\n",
       "    .dataframe tbody tr th {\n",
       "        vertical-align: top;\n",
       "    }\n",
       "\n",
       "    .dataframe thead th {\n",
       "        text-align: right;\n",
       "    }\n",
       "</style>\n",
       "<table border=\"1\" class=\"dataframe\">\n",
       "  <thead>\n",
       "    <tr style=\"text-align: right;\">\n",
       "      <th></th>\n",
       "      <th>State</th>\n",
       "      <th>GSDP</th>\n",
       "      <th>Energy</th>\n",
       "    </tr>\n",
       "  </thead>\n",
       "  <tbody>\n",
       "    <tr>\n",
       "      <th>6</th>\n",
       "      <td>Gujarat</td>\n",
       "      <td>1314680.0</td>\n",
       "      <td>250</td>\n",
       "    </tr>\n",
       "  </tbody>\n",
       "</table>\n",
       "</div>"
      ],
      "text/plain": [
       "    State        GSDP  Energy \n",
       "6  Gujarat  1314680.0      250"
      ]
     },
     "execution_count": 11,
     "metadata": {},
     "output_type": "execute_result"
    }
   ],
   "source": [
    "data[data['State '] == 'Gujarat']"
   ]
  },
  {
   "cell_type": "code",
   "execution_count": 12,
   "metadata": {},
   "outputs": [
    {
     "data": {
      "text/html": [
       "<div>\n",
       "<style scoped>\n",
       "    .dataframe tbody tr th:only-of-type {\n",
       "        vertical-align: middle;\n",
       "    }\n",
       "\n",
       "    .dataframe tbody tr th {\n",
       "        vertical-align: top;\n",
       "    }\n",
       "\n",
       "    .dataframe thead th {\n",
       "        text-align: right;\n",
       "    }\n",
       "</style>\n",
       "<table border=\"1\" class=\"dataframe\">\n",
       "  <thead>\n",
       "    <tr style=\"text-align: right;\">\n",
       "      <th></th>\n",
       "      <th>State</th>\n",
       "      <th>GSDP</th>\n",
       "      <th>Energy</th>\n",
       "    </tr>\n",
       "  </thead>\n",
       "  <tbody>\n",
       "    <tr>\n",
       "      <th>25</th>\n",
       "      <td>Uttar Pradesh</td>\n",
       "      <td>1376324.0</td>\n",
       "      <td>296</td>\n",
       "    </tr>\n",
       "  </tbody>\n",
       "</table>\n",
       "</div>"
      ],
      "text/plain": [
       "           State        GSDP  Energy \n",
       "25  Uttar Pradesh  1376324.0      296"
      ]
     },
     "execution_count": 12,
     "metadata": {},
     "output_type": "execute_result"
    }
   ],
   "source": [
    "data[data['State '] == 'Uttar Pradesh']"
   ]
  },
  {
   "cell_type": "code",
   "execution_count": 15,
   "metadata": {},
   "outputs": [],
   "source": [
    "time = pd.read_csv('energy_data.csv')"
   ]
  },
  {
   "cell_type": "code",
   "execution_count": 16,
   "metadata": {},
   "outputs": [
    {
     "data": {
      "text/html": [
       "<div>\n",
       "<style scoped>\n",
       "    .dataframe tbody tr th:only-of-type {\n",
       "        vertical-align: middle;\n",
       "    }\n",
       "\n",
       "    .dataframe tbody tr th {\n",
       "        vertical-align: top;\n",
       "    }\n",
       "\n",
       "    .dataframe thead th {\n",
       "        text-align: right;\n",
       "    }\n",
       "</style>\n",
       "<table border=\"1\" class=\"dataframe\">\n",
       "  <thead>\n",
       "    <tr style=\"text-align: right;\">\n",
       "      <th></th>\n",
       "      <th>Year</th>\n",
       "      <th>Chandigarh</th>\n",
       "      <th>Delhi</th>\n",
       "      <th>Haryana</th>\n",
       "      <th>Himachal Pradesh</th>\n",
       "      <th>J&amp;K</th>\n",
       "      <th>Punjab</th>\n",
       "      <th>Rajasthan</th>\n",
       "      <th>Uttar Pradesh</th>\n",
       "      <th>Uttarakhand</th>\n",
       "      <th>...</th>\n",
       "      <th>Sikkim</th>\n",
       "      <th>Total East</th>\n",
       "      <th>Arunachal Pradesh</th>\n",
       "      <th>Assam</th>\n",
       "      <th>Manipur</th>\n",
       "      <th>Meghalaya</th>\n",
       "      <th>Mizoram</th>\n",
       "      <th>Nagaland</th>\n",
       "      <th>Tripura</th>\n",
       "      <th>Total Sisters</th>\n",
       "    </tr>\n",
       "  </thead>\n",
       "  <tbody>\n",
       "    <tr>\n",
       "      <th>0</th>\n",
       "      <td>2013</td>\n",
       "      <td>104</td>\n",
       "      <td>1778</td>\n",
       "      <td>3085</td>\n",
       "      <td>679</td>\n",
       "      <td>989</td>\n",
       "      <td>2857</td>\n",
       "      <td>5234</td>\n",
       "      <td>6377</td>\n",
       "      <td>900</td>\n",
       "      <td>...</td>\n",
       "      <td>35</td>\n",
       "      <td>470</td>\n",
       "      <td>39</td>\n",
       "      <td>146</td>\n",
       "      <td>32</td>\n",
       "      <td>42</td>\n",
       "      <td>96</td>\n",
       "      <td>859</td>\n",
       "      <td>NaN</td>\n",
       "      <td>NaN</td>\n",
       "    </tr>\n",
       "    <tr>\n",
       "      <th>1</th>\n",
       "      <td>2014</td>\n",
       "      <td>100</td>\n",
       "      <td>1776</td>\n",
       "      <td>2836</td>\n",
       "      <td>727</td>\n",
       "      <td>1102</td>\n",
       "      <td>2808</td>\n",
       "      <td>5390</td>\n",
       "      <td>6923</td>\n",
       "      <td>945</td>\n",
       "      <td>...</td>\n",
       "      <td>46</td>\n",
       "      <td>560</td>\n",
       "      <td>47</td>\n",
       "      <td>130</td>\n",
       "      <td>33</td>\n",
       "      <td>46</td>\n",
       "      <td>90</td>\n",
       "      <td>951</td>\n",
       "      <td>NaN</td>\n",
       "      <td>NaN</td>\n",
       "    </tr>\n",
       "    <tr>\n",
       "      <th>2</th>\n",
       "      <td>2015</td>\n",
       "      <td>103</td>\n",
       "      <td>1805</td>\n",
       "      <td>2902</td>\n",
       "      <td>719</td>\n",
       "      <td>1341</td>\n",
       "      <td>2619</td>\n",
       "      <td>4942</td>\n",
       "      <td>7293</td>\n",
       "      <td>999</td>\n",
       "      <td>...</td>\n",
       "      <td>34</td>\n",
       "      <td>10734</td>\n",
       "      <td>53</td>\n",
       "      <td>602</td>\n",
       "      <td>67</td>\n",
       "      <td>169</td>\n",
       "      <td>40</td>\n",
       "      <td>54</td>\n",
       "      <td>95.0</td>\n",
       "      <td>1080.0</td>\n",
       "    </tr>\n",
       "    <tr>\n",
       "      <th>3</th>\n",
       "      <td>2016</td>\n",
       "      <td>102</td>\n",
       "      <td>1872</td>\n",
       "      <td>3219</td>\n",
       "      <td>735</td>\n",
       "      <td>1257</td>\n",
       "      <td>2846</td>\n",
       "      <td>5876</td>\n",
       "      <td>7565</td>\n",
       "      <td>990</td>\n",
       "      <td>...</td>\n",
       "      <td>36</td>\n",
       "      <td>11692</td>\n",
       "      <td>66</td>\n",
       "      <td>636</td>\n",
       "      <td>69</td>\n",
       "      <td>144</td>\n",
       "      <td>43</td>\n",
       "      <td>58</td>\n",
       "      <td>125.0</td>\n",
       "      <td>1142.0</td>\n",
       "    </tr>\n",
       "    <tr>\n",
       "      <th>4</th>\n",
       "      <td>2017</td>\n",
       "      <td>104</td>\n",
       "      <td>1955</td>\n",
       "      <td>3588</td>\n",
       "      <td>807</td>\n",
       "      <td>1274</td>\n",
       "      <td>3325</td>\n",
       "      <td>5792</td>\n",
       "      <td>8751</td>\n",
       "      <td>1015</td>\n",
       "      <td>...</td>\n",
       "      <td>42</td>\n",
       "      <td>11434</td>\n",
       "      <td>64</td>\n",
       "      <td>630</td>\n",
       "      <td>66</td>\n",
       "      <td>205</td>\n",
       "      <td>45</td>\n",
       "      <td>61</td>\n",
       "      <td>89.0</td>\n",
       "      <td>1160.0</td>\n",
       "    </tr>\n",
       "    <tr>\n",
       "      <th>5</th>\n",
       "      <td>2018</td>\n",
       "      <td>96</td>\n",
       "      <td>2044</td>\n",
       "      <td>3833</td>\n",
       "      <td>785</td>\n",
       "      <td>1342</td>\n",
       "      <td>3773</td>\n",
       "      <td>5865</td>\n",
       "      <td>8981</td>\n",
       "      <td>1054</td>\n",
       "      <td>...</td>\n",
       "      <td>42</td>\n",
       "      <td>12716</td>\n",
       "      <td>69</td>\n",
       "      <td>642</td>\n",
       "      <td>69</td>\n",
       "      <td>145</td>\n",
       "      <td>45</td>\n",
       "      <td>60</td>\n",
       "      <td>110.0</td>\n",
       "      <td>1141.0</td>\n",
       "    </tr>\n",
       "    <tr>\n",
       "      <th>6</th>\n",
       "      <td>2019</td>\n",
       "      <td>96</td>\n",
       "      <td>1924</td>\n",
       "      <td>3676</td>\n",
       "      <td>829</td>\n",
       "      <td>1460</td>\n",
       "      <td>3576</td>\n",
       "      <td>6775</td>\n",
       "      <td>8642</td>\n",
       "      <td>1056</td>\n",
       "      <td>...</td>\n",
       "      <td>47</td>\n",
       "      <td>12377</td>\n",
       "      <td>73</td>\n",
       "      <td>688</td>\n",
       "      <td>77</td>\n",
       "      <td>187</td>\n",
       "      <td>49</td>\n",
       "      <td>65</td>\n",
       "      <td>178.0</td>\n",
       "      <td>1316.0</td>\n",
       "    </tr>\n",
       "  </tbody>\n",
       "</table>\n",
       "<p>7 rows × 43 columns</p>\n",
       "</div>"
      ],
      "text/plain": [
       "   Year  Chandigarh  Delhi  Haryana  Himachal Pradesh   J&K  Punjab  \\\n",
       "0  2013         104   1778     3085               679   989    2857   \n",
       "1  2014         100   1776     2836               727  1102    2808   \n",
       "2  2015         103   1805     2902               719  1341    2619   \n",
       "3  2016         102   1872     3219               735  1257    2846   \n",
       "4  2017         104   1955     3588               807  1274    3325   \n",
       "5  2018          96   2044     3833               785  1342    3773   \n",
       "6  2019          96   1924     3676               829  1460    3576   \n",
       "\n",
       "   Rajasthan  Uttar Pradesh  Uttarakhand  ...  Sikkim  Total East  \\\n",
       "0       5234           6377          900  ...      35         470   \n",
       "1       5390           6923          945  ...      46         560   \n",
       "2       4942           7293          999  ...      34       10734   \n",
       "3       5876           7565          990  ...      36       11692   \n",
       "4       5792           8751         1015  ...      42       11434   \n",
       "5       5865           8981         1054  ...      42       12716   \n",
       "6       6775           8642         1056  ...      47       12377   \n",
       "\n",
       "   Arunachal Pradesh  Assam  Manipur  Meghalaya  Mizoram  Nagaland  Tripura  \\\n",
       "0                 39    146       32         42       96       859      NaN   \n",
       "1                 47    130       33         46       90       951      NaN   \n",
       "2                 53    602       67        169       40        54     95.0   \n",
       "3                 66    636       69        144       43        58    125.0   \n",
       "4                 64    630       66        205       45        61     89.0   \n",
       "5                 69    642       69        145       45        60    110.0   \n",
       "6                 73    688       77        187       49        65    178.0   \n",
       "\n",
       "   Total Sisters  \n",
       "0            NaN  \n",
       "1            NaN  \n",
       "2         1080.0  \n",
       "3         1142.0  \n",
       "4         1160.0  \n",
       "5         1141.0  \n",
       "6         1316.0  \n",
       "\n",
       "[7 rows x 43 columns]"
      ]
     },
     "execution_count": 16,
     "metadata": {},
     "output_type": "execute_result"
    }
   ],
   "source": [
    "time"
   ]
  },
  {
   "cell_type": "code",
   "execution_count": null,
   "metadata": {},
   "outputs": [],
   "source": []
  }
 ],
 "metadata": {
  "kernelspec": {
   "display_name": "Python 3",
   "language": "python",
   "name": "python3"
  },
  "language_info": {
   "codemirror_mode": {
    "name": "ipython",
    "version": 3
   },
   "file_extension": ".py",
   "mimetype": "text/x-python",
   "name": "python",
   "nbconvert_exporter": "python",
   "pygments_lexer": "ipython3",
   "version": "3.7.3"
  }
 },
 "nbformat": 4,
 "nbformat_minor": 2
}
